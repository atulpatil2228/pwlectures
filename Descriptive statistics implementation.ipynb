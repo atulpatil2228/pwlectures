{
 "cells": [
  {
   "cell_type": "code",
   "execution_count": 1,
   "id": "923fcc5e-c1e0-4950-b285-cb6c9855a7a0",
   "metadata": {},
   "outputs": [
    {
     "data": {
      "text/plain": [
       "[1, 2, 3, 4, 5]"
      ]
     },
     "execution_count": 1,
     "metadata": {},
     "output_type": "execute_result"
    }
   ],
   "source": [
    "data = [1,2,3,4,5]\n",
    "data"
   ]
  },
  {
   "cell_type": "code",
   "execution_count": 3,
   "id": "055b28a9-9619-4be1-b8f9-ba0e7d0b9d07",
   "metadata": {},
   "outputs": [],
   "source": [
    "import pandas as pd\n",
    "import numpy as np\n",
    "import seaborn as sns"
   ]
  },
  {
   "cell_type": "code",
   "execution_count": 4,
   "id": "175aa744-2ccf-4777-9a1d-5c0ebc4f83e4",
   "metadata": {},
   "outputs": [
    {
     "data": {
      "text/plain": [
       "np.float64(3.0)"
      ]
     },
     "execution_count": 4,
     "metadata": {},
     "output_type": "execute_result"
    }
   ],
   "source": [
    "np.mean(data)"
   ]
  },
  {
   "cell_type": "code",
   "execution_count": 7,
   "id": "18257021-8bf9-4336-b535-84b6e3339755",
   "metadata": {},
   "outputs": [
    {
     "data": {
      "text/html": [
       "<div>\n",
       "<style scoped>\n",
       "    .dataframe tbody tr th:only-of-type {\n",
       "        vertical-align: middle;\n",
       "    }\n",
       "\n",
       "    .dataframe tbody tr th {\n",
       "        vertical-align: top;\n",
       "    }\n",
       "\n",
       "    .dataframe thead th {\n",
       "        text-align: right;\n",
       "    }\n",
       "</style>\n",
       "<table border=\"1\" class=\"dataframe\">\n",
       "  <thead>\n",
       "    <tr style=\"text-align: right;\">\n",
       "      <th></th>\n",
       "      <th>total_bill</th>\n",
       "      <th>tip</th>\n",
       "      <th>sex</th>\n",
       "      <th>smoker</th>\n",
       "      <th>day</th>\n",
       "      <th>time</th>\n",
       "      <th>size</th>\n",
       "    </tr>\n",
       "  </thead>\n",
       "  <tbody>\n",
       "    <tr>\n",
       "      <th>0</th>\n",
       "      <td>16.99</td>\n",
       "      <td>1.01</td>\n",
       "      <td>Female</td>\n",
       "      <td>No</td>\n",
       "      <td>Sun</td>\n",
       "      <td>Dinner</td>\n",
       "      <td>2</td>\n",
       "    </tr>\n",
       "    <tr>\n",
       "      <th>1</th>\n",
       "      <td>10.34</td>\n",
       "      <td>1.66</td>\n",
       "      <td>Male</td>\n",
       "      <td>No</td>\n",
       "      <td>Sun</td>\n",
       "      <td>Dinner</td>\n",
       "      <td>3</td>\n",
       "    </tr>\n",
       "    <tr>\n",
       "      <th>2</th>\n",
       "      <td>21.01</td>\n",
       "      <td>3.50</td>\n",
       "      <td>Male</td>\n",
       "      <td>No</td>\n",
       "      <td>Sun</td>\n",
       "      <td>Dinner</td>\n",
       "      <td>3</td>\n",
       "    </tr>\n",
       "    <tr>\n",
       "      <th>3</th>\n",
       "      <td>23.68</td>\n",
       "      <td>3.31</td>\n",
       "      <td>Male</td>\n",
       "      <td>No</td>\n",
       "      <td>Sun</td>\n",
       "      <td>Dinner</td>\n",
       "      <td>2</td>\n",
       "    </tr>\n",
       "    <tr>\n",
       "      <th>4</th>\n",
       "      <td>24.59</td>\n",
       "      <td>3.61</td>\n",
       "      <td>Female</td>\n",
       "      <td>No</td>\n",
       "      <td>Sun</td>\n",
       "      <td>Dinner</td>\n",
       "      <td>4</td>\n",
       "    </tr>\n",
       "    <tr>\n",
       "      <th>...</th>\n",
       "      <td>...</td>\n",
       "      <td>...</td>\n",
       "      <td>...</td>\n",
       "      <td>...</td>\n",
       "      <td>...</td>\n",
       "      <td>...</td>\n",
       "      <td>...</td>\n",
       "    </tr>\n",
       "    <tr>\n",
       "      <th>239</th>\n",
       "      <td>29.03</td>\n",
       "      <td>5.92</td>\n",
       "      <td>Male</td>\n",
       "      <td>No</td>\n",
       "      <td>Sat</td>\n",
       "      <td>Dinner</td>\n",
       "      <td>3</td>\n",
       "    </tr>\n",
       "    <tr>\n",
       "      <th>240</th>\n",
       "      <td>27.18</td>\n",
       "      <td>2.00</td>\n",
       "      <td>Female</td>\n",
       "      <td>Yes</td>\n",
       "      <td>Sat</td>\n",
       "      <td>Dinner</td>\n",
       "      <td>2</td>\n",
       "    </tr>\n",
       "    <tr>\n",
       "      <th>241</th>\n",
       "      <td>22.67</td>\n",
       "      <td>2.00</td>\n",
       "      <td>Male</td>\n",
       "      <td>Yes</td>\n",
       "      <td>Sat</td>\n",
       "      <td>Dinner</td>\n",
       "      <td>2</td>\n",
       "    </tr>\n",
       "    <tr>\n",
       "      <th>242</th>\n",
       "      <td>17.82</td>\n",
       "      <td>1.75</td>\n",
       "      <td>Male</td>\n",
       "      <td>No</td>\n",
       "      <td>Sat</td>\n",
       "      <td>Dinner</td>\n",
       "      <td>2</td>\n",
       "    </tr>\n",
       "    <tr>\n",
       "      <th>243</th>\n",
       "      <td>18.78</td>\n",
       "      <td>3.00</td>\n",
       "      <td>Female</td>\n",
       "      <td>No</td>\n",
       "      <td>Thur</td>\n",
       "      <td>Dinner</td>\n",
       "      <td>2</td>\n",
       "    </tr>\n",
       "  </tbody>\n",
       "</table>\n",
       "<p>244 rows × 7 columns</p>\n",
       "</div>"
      ],
      "text/plain": [
       "     total_bill   tip     sex smoker   day    time  size\n",
       "0         16.99  1.01  Female     No   Sun  Dinner     2\n",
       "1         10.34  1.66    Male     No   Sun  Dinner     3\n",
       "2         21.01  3.50    Male     No   Sun  Dinner     3\n",
       "3         23.68  3.31    Male     No   Sun  Dinner     2\n",
       "4         24.59  3.61  Female     No   Sun  Dinner     4\n",
       "..          ...   ...     ...    ...   ...     ...   ...\n",
       "239       29.03  5.92    Male     No   Sat  Dinner     3\n",
       "240       27.18  2.00  Female    Yes   Sat  Dinner     2\n",
       "241       22.67  2.00    Male    Yes   Sat  Dinner     2\n",
       "242       17.82  1.75    Male     No   Sat  Dinner     2\n",
       "243       18.78  3.00  Female     No  Thur  Dinner     2\n",
       "\n",
       "[244 rows x 7 columns]"
      ]
     },
     "execution_count": 7,
     "metadata": {},
     "output_type": "execute_result"
    }
   ],
   "source": [
    "df = sns.load_dataset(\"tips\")\n",
    "df"
   ]
  },
  {
   "cell_type": "code",
   "execution_count": 8,
   "id": "8e9a3e9d-9173-4965-bcff-675e1b2b96bb",
   "metadata": {},
   "outputs": [
    {
     "data": {
      "text/plain": [
       "np.float64(2.99827868852459)"
      ]
     },
     "execution_count": 8,
     "metadata": {},
     "output_type": "execute_result"
    }
   ],
   "source": [
    "np.mean(df['tip'])"
   ]
  },
  {
   "cell_type": "code",
   "execution_count": 9,
   "id": "13dd4b22-a3c0-460f-ac9b-033b621f7652",
   "metadata": {},
   "outputs": [
    {
     "name": "stdout",
     "output_type": "stream",
     "text": [
      "<class 'pandas.core.frame.DataFrame'>\n",
      "RangeIndex: 244 entries, 0 to 243\n",
      "Data columns (total 7 columns):\n",
      " #   Column      Non-Null Count  Dtype   \n",
      "---  ------      --------------  -----   \n",
      " 0   total_bill  244 non-null    float64 \n",
      " 1   tip         244 non-null    float64 \n",
      " 2   sex         244 non-null    category\n",
      " 3   smoker      244 non-null    category\n",
      " 4   day         244 non-null    category\n",
      " 5   time        244 non-null    category\n",
      " 6   size        244 non-null    int64   \n",
      "dtypes: category(4), float64(2), int64(1)\n",
      "memory usage: 7.4 KB\n"
     ]
    }
   ],
   "source": [
    "df.info()"
   ]
  },
  {
   "cell_type": "code",
   "execution_count": 10,
   "id": "ea607e78-5be2-4a10-8059-ddc3fefb2295",
   "metadata": {},
   "outputs": [
    {
     "data": {
      "text/plain": [
       "np.float64(3.0)"
      ]
     },
     "execution_count": 10,
     "metadata": {},
     "output_type": "execute_result"
    }
   ],
   "source": [
    "np.median(data)"
   ]
  },
  {
   "cell_type": "code",
   "execution_count": 11,
   "id": "03fda904-aa78-489b-94a2-b9323d057262",
   "metadata": {},
   "outputs": [
    {
     "data": {
      "text/plain": [
       "[1, 2, 3, 4, 5]"
      ]
     },
     "execution_count": 11,
     "metadata": {},
     "output_type": "execute_result"
    }
   ],
   "source": [
    "data"
   ]
  },
  {
   "cell_type": "code",
   "execution_count": 12,
   "id": "61c9148e-e235-46a3-9df0-922f105496c6",
   "metadata": {},
   "outputs": [
    {
     "data": {
      "text/plain": [
       "np.float64(2.9)"
      ]
     },
     "execution_count": 12,
     "metadata": {},
     "output_type": "execute_result"
    }
   ],
   "source": [
    "np.median(df[\t'tip'])"
   ]
  },
  {
   "cell_type": "code",
   "execution_count": 13,
   "id": "a80de4b4-1b03-4aef-8292-a86585b231cc",
   "metadata": {},
   "outputs": [],
   "source": [
    "## mean is affected by outlier whereas median is not inflated "
   ]
  },
  {
   "cell_type": "code",
   "execution_count": 14,
   "id": "94c11cef-5d6d-459a-9809-3806be2d94c1",
   "metadata": {},
   "outputs": [],
   "source": [
    "data =[1, 2, 3, 4, 500]"
   ]
  },
  {
   "cell_type": "code",
   "execution_count": 15,
   "id": "8136fe10-c31d-4be0-b969-207387bc1eaf",
   "metadata": {},
   "outputs": [
    {
     "data": {
      "text/plain": [
       "np.float64(102.0)"
      ]
     },
     "execution_count": 15,
     "metadata": {},
     "output_type": "execute_result"
    }
   ],
   "source": [
    "np.mean(data)"
   ]
  },
  {
   "cell_type": "code",
   "execution_count": 16,
   "id": "9d90b1b9-6b9c-4822-9fe8-b37ddf4d6e65",
   "metadata": {},
   "outputs": [
    {
     "data": {
      "text/plain": [
       "np.float64(3.0)"
      ]
     },
     "execution_count": 16,
     "metadata": {},
     "output_type": "execute_result"
    }
   ],
   "source": [
    "np.median(data)"
   ]
  },
  {
   "cell_type": "code",
   "execution_count": 20,
   "id": "bf5a9658-a504-4e31-9b9f-a5098599a59f",
   "metadata": {},
   "outputs": [
    {
     "ename": "AttributeError",
     "evalue": "module 'numpy' has no attribute 'mode'",
     "output_type": "error",
     "traceback": [
      "\u001b[31m---------------------------------------------------------------------------\u001b[39m",
      "\u001b[31mAttributeError\u001b[39m                            Traceback (most recent call last)",
      "\u001b[36mCell\u001b[39m\u001b[36m \u001b[39m\u001b[32mIn[20]\u001b[39m\u001b[32m, line 2\u001b[39m\n\u001b[32m      1\u001b[39m data = [\u001b[32m1\u001b[39m,\u001b[32m2\u001b[39m,\u001b[32m1\u001b[39m,\u001b[32m100\u001b[39m,\u001b[32m100\u001b[39m,\u001b[32m3\u001b[39m,\u001b[32m4\u001b[39m,\u001b[32m78\u001b[39m,\u001b[32m100\u001b[39m]\n\u001b[32m----> \u001b[39m\u001b[32m2\u001b[39m \u001b[43mnp\u001b[49m\u001b[43m.\u001b[49m\u001b[43mmode\u001b[49m(data)\u001b[38;5;66;03m## it throws an error\u001b[39;00m\n",
      "\u001b[36mFile \u001b[39m\u001b[32m~\\AppData\\Local\\Programs\\Python\\Python313\\Lib\\site-packages\\numpy\\__init__.py:808\u001b[39m, in \u001b[36m__getattr__\u001b[39m\u001b[34m(attr)\u001b[39m\n\u001b[32m    805\u001b[39m     \u001b[38;5;28;01mimport\u001b[39;00m\u001b[38;5;250m \u001b[39m\u001b[34;01mnumpy\u001b[39;00m\u001b[34;01m.\u001b[39;00m\u001b[34;01mchar\u001b[39;00m\u001b[38;5;250m \u001b[39m\u001b[38;5;28;01mas\u001b[39;00m\u001b[38;5;250m \u001b[39m\u001b[34;01mchar\u001b[39;00m\n\u001b[32m    806\u001b[39m     \u001b[38;5;28;01mreturn\u001b[39;00m char.chararray\n\u001b[32m--> \u001b[39m\u001b[32m808\u001b[39m \u001b[38;5;28;01mraise\u001b[39;00m \u001b[38;5;167;01mAttributeError\u001b[39;00m(\u001b[33mf\u001b[39m\u001b[33m\"\u001b[39m\u001b[33mmodule \u001b[39m\u001b[38;5;132;01m{\u001b[39;00m\u001b[34m__name__\u001b[39m\u001b[38;5;132;01m!r}\u001b[39;00m\u001b[33m has no attribute \u001b[39m\u001b[38;5;132;01m{\u001b[39;00mattr\u001b[38;5;132;01m!r}\u001b[39;00m\u001b[33m\"\u001b[39m)\n",
      "\u001b[31mAttributeError\u001b[39m: module 'numpy' has no attribute 'mode'"
     ]
    }
   ],
   "source": [
    "data = [1,2,1,100,100,3,4,78,100]\n",
    "np.mode(data)## it throws an error"
   ]
  },
  {
   "cell_type": "code",
   "execution_count": 18,
   "id": "b60a8c51-20a6-485c-bc71-f3db83535f8d",
   "metadata": {},
   "outputs": [],
   "source": [
    "import statistics"
   ]
  },
  {
   "cell_type": "code",
   "execution_count": 22,
   "id": "919ff858-476e-489e-8db0-2277214bbf42",
   "metadata": {},
   "outputs": [
    {
     "data": {
      "text/plain": [
       "100"
      ]
     },
     "execution_count": 22,
     "metadata": {},
     "output_type": "execute_result"
    }
   ],
   "source": [
    "statistics.mode(data)"
   ]
  },
  {
   "cell_type": "code",
   "execution_count": 21,
   "id": "be26c8fb-e329-4ea5-9827-f3b19d904ba2",
   "metadata": {},
   "outputs": [],
   "source": [
    "data = [1,2,1,100,100,3,4,78,100]"
   ]
  },
  {
   "cell_type": "code",
   "execution_count": 23,
   "id": "10a013e6-eef6-4dce-a290-328c6b744287",
   "metadata": {},
   "outputs": [
    {
     "data": {
      "text/html": [
       "<div>\n",
       "<style scoped>\n",
       "    .dataframe tbody tr th:only-of-type {\n",
       "        vertical-align: middle;\n",
       "    }\n",
       "\n",
       "    .dataframe tbody tr th {\n",
       "        vertical-align: top;\n",
       "    }\n",
       "\n",
       "    .dataframe thead th {\n",
       "        text-align: right;\n",
       "    }\n",
       "</style>\n",
       "<table border=\"1\" class=\"dataframe\">\n",
       "  <thead>\n",
       "    <tr style=\"text-align: right;\">\n",
       "      <th></th>\n",
       "      <th>total_bill</th>\n",
       "      <th>tip</th>\n",
       "      <th>sex</th>\n",
       "      <th>smoker</th>\n",
       "      <th>day</th>\n",
       "      <th>time</th>\n",
       "      <th>size</th>\n",
       "    </tr>\n",
       "  </thead>\n",
       "  <tbody>\n",
       "    <tr>\n",
       "      <th>0</th>\n",
       "      <td>16.99</td>\n",
       "      <td>1.01</td>\n",
       "      <td>Female</td>\n",
       "      <td>No</td>\n",
       "      <td>Sun</td>\n",
       "      <td>Dinner</td>\n",
       "      <td>2</td>\n",
       "    </tr>\n",
       "    <tr>\n",
       "      <th>1</th>\n",
       "      <td>10.34</td>\n",
       "      <td>1.66</td>\n",
       "      <td>Male</td>\n",
       "      <td>No</td>\n",
       "      <td>Sun</td>\n",
       "      <td>Dinner</td>\n",
       "      <td>3</td>\n",
       "    </tr>\n",
       "    <tr>\n",
       "      <th>2</th>\n",
       "      <td>21.01</td>\n",
       "      <td>3.50</td>\n",
       "      <td>Male</td>\n",
       "      <td>No</td>\n",
       "      <td>Sun</td>\n",
       "      <td>Dinner</td>\n",
       "      <td>3</td>\n",
       "    </tr>\n",
       "    <tr>\n",
       "      <th>3</th>\n",
       "      <td>23.68</td>\n",
       "      <td>3.31</td>\n",
       "      <td>Male</td>\n",
       "      <td>No</td>\n",
       "      <td>Sun</td>\n",
       "      <td>Dinner</td>\n",
       "      <td>2</td>\n",
       "    </tr>\n",
       "    <tr>\n",
       "      <th>4</th>\n",
       "      <td>24.59</td>\n",
       "      <td>3.61</td>\n",
       "      <td>Female</td>\n",
       "      <td>No</td>\n",
       "      <td>Sun</td>\n",
       "      <td>Dinner</td>\n",
       "      <td>4</td>\n",
       "    </tr>\n",
       "    <tr>\n",
       "      <th>...</th>\n",
       "      <td>...</td>\n",
       "      <td>...</td>\n",
       "      <td>...</td>\n",
       "      <td>...</td>\n",
       "      <td>...</td>\n",
       "      <td>...</td>\n",
       "      <td>...</td>\n",
       "    </tr>\n",
       "    <tr>\n",
       "      <th>239</th>\n",
       "      <td>29.03</td>\n",
       "      <td>5.92</td>\n",
       "      <td>Male</td>\n",
       "      <td>No</td>\n",
       "      <td>Sat</td>\n",
       "      <td>Dinner</td>\n",
       "      <td>3</td>\n",
       "    </tr>\n",
       "    <tr>\n",
       "      <th>240</th>\n",
       "      <td>27.18</td>\n",
       "      <td>2.00</td>\n",
       "      <td>Female</td>\n",
       "      <td>Yes</td>\n",
       "      <td>Sat</td>\n",
       "      <td>Dinner</td>\n",
       "      <td>2</td>\n",
       "    </tr>\n",
       "    <tr>\n",
       "      <th>241</th>\n",
       "      <td>22.67</td>\n",
       "      <td>2.00</td>\n",
       "      <td>Male</td>\n",
       "      <td>Yes</td>\n",
       "      <td>Sat</td>\n",
       "      <td>Dinner</td>\n",
       "      <td>2</td>\n",
       "    </tr>\n",
       "    <tr>\n",
       "      <th>242</th>\n",
       "      <td>17.82</td>\n",
       "      <td>1.75</td>\n",
       "      <td>Male</td>\n",
       "      <td>No</td>\n",
       "      <td>Sat</td>\n",
       "      <td>Dinner</td>\n",
       "      <td>2</td>\n",
       "    </tr>\n",
       "    <tr>\n",
       "      <th>243</th>\n",
       "      <td>18.78</td>\n",
       "      <td>3.00</td>\n",
       "      <td>Female</td>\n",
       "      <td>No</td>\n",
       "      <td>Thur</td>\n",
       "      <td>Dinner</td>\n",
       "      <td>2</td>\n",
       "    </tr>\n",
       "  </tbody>\n",
       "</table>\n",
       "<p>244 rows × 7 columns</p>\n",
       "</div>"
      ],
      "text/plain": [
       "     total_bill   tip     sex smoker   day    time  size\n",
       "0         16.99  1.01  Female     No   Sun  Dinner     2\n",
       "1         10.34  1.66    Male     No   Sun  Dinner     3\n",
       "2         21.01  3.50    Male     No   Sun  Dinner     3\n",
       "3         23.68  3.31    Male     No   Sun  Dinner     2\n",
       "4         24.59  3.61  Female     No   Sun  Dinner     4\n",
       "..          ...   ...     ...    ...   ...     ...   ...\n",
       "239       29.03  5.92    Male     No   Sat  Dinner     3\n",
       "240       27.18  2.00  Female    Yes   Sat  Dinner     2\n",
       "241       22.67  2.00    Male    Yes   Sat  Dinner     2\n",
       "242       17.82  1.75    Male     No   Sat  Dinner     2\n",
       "243       18.78  3.00  Female     No  Thur  Dinner     2\n",
       "\n",
       "[244 rows x 7 columns]"
      ]
     },
     "execution_count": 23,
     "metadata": {},
     "output_type": "execute_result"
    }
   ],
   "source": [
    "df"
   ]
  },
  {
   "cell_type": "code",
   "execution_count": 24,
   "id": "48773c29-aa54-451e-942f-02ddbf23832c",
   "metadata": {},
   "outputs": [
    {
     "data": {
      "text/html": [
       "<div>\n",
       "<style scoped>\n",
       "    .dataframe tbody tr th:only-of-type {\n",
       "        vertical-align: middle;\n",
       "    }\n",
       "\n",
       "    .dataframe tbody tr th {\n",
       "        vertical-align: top;\n",
       "    }\n",
       "\n",
       "    .dataframe thead th {\n",
       "        text-align: right;\n",
       "    }\n",
       "</style>\n",
       "<table border=\"1\" class=\"dataframe\">\n",
       "  <thead>\n",
       "    <tr style=\"text-align: right;\">\n",
       "      <th></th>\n",
       "      <th>total_bill</th>\n",
       "      <th>tip</th>\n",
       "      <th>size</th>\n",
       "    </tr>\n",
       "  </thead>\n",
       "  <tbody>\n",
       "    <tr>\n",
       "      <th>count</th>\n",
       "      <td>244.000000</td>\n",
       "      <td>244.000000</td>\n",
       "      <td>244.000000</td>\n",
       "    </tr>\n",
       "    <tr>\n",
       "      <th>mean</th>\n",
       "      <td>19.785943</td>\n",
       "      <td>2.998279</td>\n",
       "      <td>2.569672</td>\n",
       "    </tr>\n",
       "    <tr>\n",
       "      <th>std</th>\n",
       "      <td>8.902412</td>\n",
       "      <td>1.383638</td>\n",
       "      <td>0.951100</td>\n",
       "    </tr>\n",
       "    <tr>\n",
       "      <th>min</th>\n",
       "      <td>3.070000</td>\n",
       "      <td>1.000000</td>\n",
       "      <td>1.000000</td>\n",
       "    </tr>\n",
       "    <tr>\n",
       "      <th>25%</th>\n",
       "      <td>13.347500</td>\n",
       "      <td>2.000000</td>\n",
       "      <td>2.000000</td>\n",
       "    </tr>\n",
       "    <tr>\n",
       "      <th>50%</th>\n",
       "      <td>17.795000</td>\n",
       "      <td>2.900000</td>\n",
       "      <td>2.000000</td>\n",
       "    </tr>\n",
       "    <tr>\n",
       "      <th>75%</th>\n",
       "      <td>24.127500</td>\n",
       "      <td>3.562500</td>\n",
       "      <td>3.000000</td>\n",
       "    </tr>\n",
       "    <tr>\n",
       "      <th>max</th>\n",
       "      <td>50.810000</td>\n",
       "      <td>10.000000</td>\n",
       "      <td>6.000000</td>\n",
       "    </tr>\n",
       "  </tbody>\n",
       "</table>\n",
       "</div>"
      ],
      "text/plain": [
       "       total_bill         tip        size\n",
       "count  244.000000  244.000000  244.000000\n",
       "mean    19.785943    2.998279    2.569672\n",
       "std      8.902412    1.383638    0.951100\n",
       "min      3.070000    1.000000    1.000000\n",
       "25%     13.347500    2.000000    2.000000\n",
       "50%     17.795000    2.900000    2.000000\n",
       "75%     24.127500    3.562500    3.000000\n",
       "max     50.810000   10.000000    6.000000"
      ]
     },
     "execution_count": 24,
     "metadata": {},
     "output_type": "execute_result"
    }
   ],
   "source": [
    "df.describe()"
   ]
  },
  {
   "cell_type": "code",
   "execution_count": 25,
   "id": "a749ad3f-68ce-4384-9d1f-1ebe9e6ad458",
   "metadata": {},
   "outputs": [
    {
     "data": {
      "text/plain": [
       "[1, 2, 1, 100, 100, 3, 4, 78, 100]"
      ]
     },
     "execution_count": 25,
     "metadata": {},
     "output_type": "execute_result"
    }
   ],
   "source": [
    "data"
   ]
  },
  {
   "cell_type": "code",
   "execution_count": 26,
   "id": "2a75a2d3-49cd-40a1-875e-a98a95d94c48",
   "metadata": {},
   "outputs": [
    {
     "data": {
      "text/plain": [
       "array([2.])"
      ]
     },
     "execution_count": 26,
     "metadata": {},
     "output_type": "execute_result"
    }
   ],
   "source": [
    "np.percentile(data,[25])"
   ]
  },
  {
   "cell_type": "code",
   "execution_count": 27,
   "id": "6ce0d6d0-8845-4b7e-a329-f29788ddc21d",
   "metadata": {},
   "outputs": [
    {
     "data": {
      "text/plain": [
       "array([4.])"
      ]
     },
     "execution_count": 27,
     "metadata": {},
     "output_type": "execute_result"
    }
   ],
   "source": [
    "np.percentile(data,[50])"
   ]
  },
  {
   "cell_type": "code",
   "execution_count": 28,
   "id": "b2ca05db-dff8-477b-b85d-41601734fa6d",
   "metadata": {},
   "outputs": [
    {
     "data": {
      "text/plain": [
       "array([100.])"
      ]
     },
     "execution_count": 28,
     "metadata": {},
     "output_type": "execute_result"
    }
   ],
   "source": [
    "np.percentile(data,[100])"
   ]
  },
  {
   "cell_type": "code",
   "execution_count": 29,
   "id": "440c4309-3160-4dc1-84f4-2ced1d0b8bfd",
   "metadata": {},
   "outputs": [
    {
     "data": {
      "text/plain": [
       "array([100.])"
      ]
     },
     "execution_count": 29,
     "metadata": {},
     "output_type": "execute_result"
    }
   ],
   "source": [
    "np.percentile(data,[76])"
   ]
  },
  {
   "cell_type": "code",
   "execution_count": 33,
   "id": "c52036cd-1298-43a0-8901-b418297603ea",
   "metadata": {},
   "outputs": [
    {
     "data": {
      "text/plain": [
       "[1, 2, 1, 100, 100, 3, 4, 78, 100, -800, 600, -800, 600]"
      ]
     },
     "execution_count": 33,
     "metadata": {},
     "output_type": "execute_result"
    }
   ],
   "source": [
    "data"
   ]
  },
  {
   "cell_type": "code",
   "execution_count": 32,
   "id": "22a0acef-b714-4070-8a6b-6eac6970f89f",
   "metadata": {},
   "outputs": [
    {
     "data": {
      "text/plain": [
       "[1, 2, 1, 100, 100, 3, 4, 78, 100, -800, 600, -800, 600]"
      ]
     },
     "execution_count": 32,
     "metadata": {},
     "output_type": "execute_result"
    }
   ],
   "source": [
    "data.append(-800)\n",
    "data.append(600)\n",
    "data\n",
    "\n"
   ]
  },
  {
   "cell_type": "code",
   "execution_count": 35,
   "id": "cbc88480-bd90-4c9f-ae63-767e86000dcf",
   "metadata": {},
   "outputs": [
    {
     "data": {
      "text/plain": [
       "<Axes: >"
      ]
     },
     "execution_count": 35,
     "metadata": {},
     "output_type": "execute_result"
    },
    {
     "data": {
      "image/png": "[encoded data removed]",
      "text/plain": [
       "<Figure size 640x480 with 1 Axes>"
      ]
     },
     "metadata": {},
     "output_type": "display_data"
    }
   ],
   "source": [
    "sns.boxplot(data)"
   ]
  },
  {
   "cell_type": "code",
   "execution_count": 36,
   "id": "7a5b4649-c200-44dd-9080-9c6be3a9e18b",
   "metadata": {},
   "outputs": [
    {
     "data": {
      "text/plain": [
       "np.float64(156623.51479289943)"
      ]
     },
     "execution_count": 36,
     "metadata": {},
     "output_type": "execute_result"
    }
   ],
   "source": [
    "np.var(data)"
   ]
  },
  {
   "cell_type": "code",
   "execution_count": 37,
   "id": "15f2b5f8-7474-4747-842a-1cb7a9cc7deb",
   "metadata": {},
   "outputs": [
    {
     "data": {
      "text/plain": [
       "np.float64(395.75688849709167)"
      ]
     },
     "execution_count": 37,
     "metadata": {},
     "output_type": "execute_result"
    }
   ],
   "source": [
    "np.std(data)"
   ]
  },
  {
   "cell_type": "code",
   "execution_count": 38,
   "id": "dea79eff-fc03-41c5-bd16-8ce2cf96e25f",
   "metadata": {},
   "outputs": [
    {
     "data": {
      "text/plain": [
       "np.float64(-0.8461538461538461)"
      ]
     },
     "execution_count": 38,
     "metadata": {},
     "output_type": "execute_result"
    }
   ],
   "source": [
    "np.mean(data)"
   ]
  },
  {
   "cell_type": "code",
   "execution_count": 39,
   "id": "53889436-03df-4bce-b40f-42ef3a40a6dd",
   "metadata": {},
   "outputs": [
    {
     "data": {
      "text/plain": [
       "169675.47435897434"
      ]
     },
     "execution_count": 39,
     "metadata": {},
     "output_type": "execute_result"
    }
   ],
   "source": [
    "statistics.variance(data)"
   ]
  },
  {
   "cell_type": "code",
   "execution_count": 41,
   "id": "3a30c723-5d96-4295-9ae8-b53f4faab3e4",
   "metadata": {},
   "outputs": [
    {
     "data": {
      "text/plain": [
       "156623.5147928994"
      ]
     },
     "execution_count": 41,
     "metadata": {},
     "output_type": "execute_result"
    }
   ],
   "source": [
    "statistics.pvariance(data)## population variance"
   ]
  },
  {
   "cell_type": "code",
   "execution_count": 43,
   "id": "00d7d63b-e7b1-4cd0-99bc-577fe9908711",
   "metadata": {},
   "outputs": [
    {
     "data": {
      "text/plain": [
       "395.7568884970916"
      ]
     },
     "execution_count": 43,
     "metadata": {},
     "output_type": "execute_result"
    }
   ],
   "source": [
    "import math\n",
    "math.sqrt(statistics.pvariance(data))"
   ]
  },
  {
   "cell_type": "code",
   "execution_count": 44,
   "id": "d9e6050c-9b97-46a3-8237-3228e990769c",
   "metadata": {},
   "outputs": [
    {
     "data": {
      "text/html": [
       "<div>\n",
       "<style scoped>\n",
       "    .dataframe tbody tr th:only-of-type {\n",
       "        vertical-align: middle;\n",
       "    }\n",
       "\n",
       "    .dataframe tbody tr th {\n",
       "        vertical-align: top;\n",
       "    }\n",
       "\n",
       "    .dataframe thead th {\n",
       "        text-align: right;\n",
       "    }\n",
       "</style>\n",
       "<table border=\"1\" class=\"dataframe\">\n",
       "  <thead>\n",
       "    <tr style=\"text-align: right;\">\n",
       "      <th></th>\n",
       "      <th>total_bill</th>\n",
       "      <th>tip</th>\n",
       "      <th>sex</th>\n",
       "      <th>smoker</th>\n",
       "      <th>day</th>\n",
       "      <th>time</th>\n",
       "      <th>size</th>\n",
       "    </tr>\n",
       "  </thead>\n",
       "  <tbody>\n",
       "    <tr>\n",
       "      <th>0</th>\n",
       "      <td>16.99</td>\n",
       "      <td>1.01</td>\n",
       "      <td>Female</td>\n",
       "      <td>No</td>\n",
       "      <td>Sun</td>\n",
       "      <td>Dinner</td>\n",
       "      <td>2</td>\n",
       "    </tr>\n",
       "    <tr>\n",
       "      <th>1</th>\n",
       "      <td>10.34</td>\n",
       "      <td>1.66</td>\n",
       "      <td>Male</td>\n",
       "      <td>No</td>\n",
       "      <td>Sun</td>\n",
       "      <td>Dinner</td>\n",
       "      <td>3</td>\n",
       "    </tr>\n",
       "    <tr>\n",
       "      <th>2</th>\n",
       "      <td>21.01</td>\n",
       "      <td>3.50</td>\n",
       "      <td>Male</td>\n",
       "      <td>No</td>\n",
       "      <td>Sun</td>\n",
       "      <td>Dinner</td>\n",
       "      <td>3</td>\n",
       "    </tr>\n",
       "    <tr>\n",
       "      <th>3</th>\n",
       "      <td>23.68</td>\n",
       "      <td>3.31</td>\n",
       "      <td>Male</td>\n",
       "      <td>No</td>\n",
       "      <td>Sun</td>\n",
       "      <td>Dinner</td>\n",
       "      <td>2</td>\n",
       "    </tr>\n",
       "    <tr>\n",
       "      <th>4</th>\n",
       "      <td>24.59</td>\n",
       "      <td>3.61</td>\n",
       "      <td>Female</td>\n",
       "      <td>No</td>\n",
       "      <td>Sun</td>\n",
       "      <td>Dinner</td>\n",
       "      <td>4</td>\n",
       "    </tr>\n",
       "    <tr>\n",
       "      <th>...</th>\n",
       "      <td>...</td>\n",
       "      <td>...</td>\n",
       "      <td>...</td>\n",
       "      <td>...</td>\n",
       "      <td>...</td>\n",
       "      <td>...</td>\n",
       "      <td>...</td>\n",
       "    </tr>\n",
       "    <tr>\n",
       "      <th>239</th>\n",
       "      <td>29.03</td>\n",
       "      <td>5.92</td>\n",
       "      <td>Male</td>\n",
       "      <td>No</td>\n",
       "      <td>Sat</td>\n",
       "      <td>Dinner</td>\n",
       "      <td>3</td>\n",
       "    </tr>\n",
       "    <tr>\n",
       "      <th>240</th>\n",
       "      <td>27.18</td>\n",
       "      <td>2.00</td>\n",
       "      <td>Female</td>\n",
       "      <td>Yes</td>\n",
       "      <td>Sat</td>\n",
       "      <td>Dinner</td>\n",
       "      <td>2</td>\n",
       "    </tr>\n",
       "    <tr>\n",
       "      <th>241</th>\n",
       "      <td>22.67</td>\n",
       "      <td>2.00</td>\n",
       "      <td>Male</td>\n",
       "      <td>Yes</td>\n",
       "      <td>Sat</td>\n",
       "      <td>Dinner</td>\n",
       "      <td>2</td>\n",
       "    </tr>\n",
       "    <tr>\n",
       "      <th>242</th>\n",
       "      <td>17.82</td>\n",
       "      <td>1.75</td>\n",
       "      <td>Male</td>\n",
       "      <td>No</td>\n",
       "      <td>Sat</td>\n",
       "      <td>Dinner</td>\n",
       "      <td>2</td>\n",
       "    </tr>\n",
       "    <tr>\n",
       "      <th>243</th>\n",
       "      <td>18.78</td>\n",
       "      <td>3.00</td>\n",
       "      <td>Female</td>\n",
       "      <td>No</td>\n",
       "      <td>Thur</td>\n",
       "      <td>Dinner</td>\n",
       "      <td>2</td>\n",
       "    </tr>\n",
       "  </tbody>\n",
       "</table>\n",
       "<p>244 rows × 7 columns</p>\n",
       "</div>"
      ],
      "text/plain": [
       "     total_bill   tip     sex smoker   day    time  size\n",
       "0         16.99  1.01  Female     No   Sun  Dinner     2\n",
       "1         10.34  1.66    Male     No   Sun  Dinner     3\n",
       "2         21.01  3.50    Male     No   Sun  Dinner     3\n",
       "3         23.68  3.31    Male     No   Sun  Dinner     2\n",
       "4         24.59  3.61  Female     No   Sun  Dinner     4\n",
       "..          ...   ...     ...    ...   ...     ...   ...\n",
       "239       29.03  5.92    Male     No   Sat  Dinner     3\n",
       "240       27.18  2.00  Female    Yes   Sat  Dinner     2\n",
       "241       22.67  2.00    Male    Yes   Sat  Dinner     2\n",
       "242       17.82  1.75    Male     No   Sat  Dinner     2\n",
       "243       18.78  3.00  Female     No  Thur  Dinner     2\n",
       "\n",
       "[244 rows x 7 columns]"
      ]
     },
     "execution_count": 44,
     "metadata": {},
     "output_type": "execute_result"
    }
   ],
   "source": [
    "df\n"
   ]
  },
  {
   "cell_type": "code",
   "execution_count": 45,
   "id": "e7248d3b-0d60-4ead-9683-b79238c72de6",
   "metadata": {},
   "outputs": [
    {
     "data": {
      "text/html": [
       "<div>\n",
       "<style scoped>\n",
       "    .dataframe tbody tr th:only-of-type {\n",
       "        vertical-align: middle;\n",
       "    }\n",
       "\n",
       "    .dataframe tbody tr th {\n",
       "        vertical-align: top;\n",
       "    }\n",
       "\n",
       "    .dataframe thead th {\n",
       "        text-align: right;\n",
       "    }\n",
       "</style>\n",
       "<table border=\"1\" class=\"dataframe\">\n",
       "  <thead>\n",
       "    <tr style=\"text-align: right;\">\n",
       "      <th></th>\n",
       "      <th>total_bill</th>\n",
       "      <th>tip</th>\n",
       "      <th>sex</th>\n",
       "      <th>smoker</th>\n",
       "      <th>day</th>\n",
       "      <th>time</th>\n",
       "      <th>size</th>\n",
       "    </tr>\n",
       "  </thead>\n",
       "  <tbody>\n",
       "    <tr>\n",
       "      <th>0</th>\n",
       "      <td>16.99</td>\n",
       "      <td>1.01</td>\n",
       "      <td>Female</td>\n",
       "      <td>No</td>\n",
       "      <td>Sun</td>\n",
       "      <td>Dinner</td>\n",
       "      <td>2</td>\n",
       "    </tr>\n",
       "    <tr>\n",
       "      <th>1</th>\n",
       "      <td>10.34</td>\n",
       "      <td>1.66</td>\n",
       "      <td>Male</td>\n",
       "      <td>No</td>\n",
       "      <td>Sun</td>\n",
       "      <td>Dinner</td>\n",
       "      <td>3</td>\n",
       "    </tr>\n",
       "    <tr>\n",
       "      <th>2</th>\n",
       "      <td>21.01</td>\n",
       "      <td>3.50</td>\n",
       "      <td>Male</td>\n",
       "      <td>No</td>\n",
       "      <td>Sun</td>\n",
       "      <td>Dinner</td>\n",
       "      <td>3</td>\n",
       "    </tr>\n",
       "    <tr>\n",
       "      <th>3</th>\n",
       "      <td>23.68</td>\n",
       "      <td>3.31</td>\n",
       "      <td>Male</td>\n",
       "      <td>No</td>\n",
       "      <td>Sun</td>\n",
       "      <td>Dinner</td>\n",
       "      <td>2</td>\n",
       "    </tr>\n",
       "    <tr>\n",
       "      <th>4</th>\n",
       "      <td>24.59</td>\n",
       "      <td>3.61</td>\n",
       "      <td>Female</td>\n",
       "      <td>No</td>\n",
       "      <td>Sun</td>\n",
       "      <td>Dinner</td>\n",
       "      <td>4</td>\n",
       "    </tr>\n",
       "    <tr>\n",
       "      <th>...</th>\n",
       "      <td>...</td>\n",
       "      <td>...</td>\n",
       "      <td>...</td>\n",
       "      <td>...</td>\n",
       "      <td>...</td>\n",
       "      <td>...</td>\n",
       "      <td>...</td>\n",
       "    </tr>\n",
       "    <tr>\n",
       "      <th>239</th>\n",
       "      <td>29.03</td>\n",
       "      <td>5.92</td>\n",
       "      <td>Male</td>\n",
       "      <td>No</td>\n",
       "      <td>Sat</td>\n",
       "      <td>Dinner</td>\n",
       "      <td>3</td>\n",
       "    </tr>\n",
       "    <tr>\n",
       "      <th>240</th>\n",
       "      <td>27.18</td>\n",
       "      <td>2.00</td>\n",
       "      <td>Female</td>\n",
       "      <td>Yes</td>\n",
       "      <td>Sat</td>\n",
       "      <td>Dinner</td>\n",
       "      <td>2</td>\n",
       "    </tr>\n",
       "    <tr>\n",
       "      <th>241</th>\n",
       "      <td>22.67</td>\n",
       "      <td>2.00</td>\n",
       "      <td>Male</td>\n",
       "      <td>Yes</td>\n",
       "      <td>Sat</td>\n",
       "      <td>Dinner</td>\n",
       "      <td>2</td>\n",
       "    </tr>\n",
       "    <tr>\n",
       "      <th>242</th>\n",
       "      <td>17.82</td>\n",
       "      <td>1.75</td>\n",
       "      <td>Male</td>\n",
       "      <td>No</td>\n",
       "      <td>Sat</td>\n",
       "      <td>Dinner</td>\n",
       "      <td>2</td>\n",
       "    </tr>\n",
       "    <tr>\n",
       "      <th>243</th>\n",
       "      <td>18.78</td>\n",
       "      <td>3.00</td>\n",
       "      <td>Female</td>\n",
       "      <td>No</td>\n",
       "      <td>Thur</td>\n",
       "      <td>Dinner</td>\n",
       "      <td>2</td>\n",
       "    </tr>\n",
       "  </tbody>\n",
       "</table>\n",
       "<p>244 rows × 7 columns</p>\n",
       "</div>"
      ],
      "text/plain": [
       "     total_bill   tip     sex smoker   day    time  size\n",
       "0         16.99  1.01  Female     No   Sun  Dinner     2\n",
       "1         10.34  1.66    Male     No   Sun  Dinner     3\n",
       "2         21.01  3.50    Male     No   Sun  Dinner     3\n",
       "3         23.68  3.31    Male     No   Sun  Dinner     2\n",
       "4         24.59  3.61  Female     No   Sun  Dinner     4\n",
       "..          ...   ...     ...    ...   ...     ...   ...\n",
       "239       29.03  5.92    Male     No   Sat  Dinner     3\n",
       "240       27.18  2.00  Female    Yes   Sat  Dinner     2\n",
       "241       22.67  2.00    Male    Yes   Sat  Dinner     2\n",
       "242       17.82  1.75    Male     No   Sat  Dinner     2\n",
       "243       18.78  3.00  Female     No  Thur  Dinner     2\n",
       "\n",
       "[244 rows x 7 columns]"
      ]
     },
     "execution_count": 45,
     "metadata": {},
     "output_type": "execute_result"
    }
   ],
   "source": [
    "df"
   ]
  },
  {
   "cell_type": "code",
   "execution_count": 48,
   "id": "82be8372-e6b9-4be7-88e0-e2424bd88259",
   "metadata": {},
   "outputs": [
    {
     "data": {
      "text/html": [
       "<div>\n",
       "<style scoped>\n",
       "    .dataframe tbody tr th:only-of-type {\n",
       "        vertical-align: middle;\n",
       "    }\n",
       "\n",
       "    .dataframe tbody tr th {\n",
       "        vertical-align: top;\n",
       "    }\n",
       "\n",
       "    .dataframe thead th {\n",
       "        text-align: right;\n",
       "    }\n",
       "</style>\n",
       "<table border=\"1\" class=\"dataframe\">\n",
       "  <thead>\n",
       "    <tr style=\"text-align: right;\">\n",
       "      <th></th>\n",
       "      <th>total_bill</th>\n",
       "      <th>tip</th>\n",
       "      <th>size</th>\n",
       "    </tr>\n",
       "  </thead>\n",
       "  <tbody>\n",
       "    <tr>\n",
       "      <th>total_bill</th>\n",
       "      <td>1.000000</td>\n",
       "      <td>0.675734</td>\n",
       "      <td>0.598315</td>\n",
       "    </tr>\n",
       "    <tr>\n",
       "      <th>tip</th>\n",
       "      <td>0.675734</td>\n",
       "      <td>1.000000</td>\n",
       "      <td>0.489299</td>\n",
       "    </tr>\n",
       "    <tr>\n",
       "      <th>size</th>\n",
       "      <td>0.598315</td>\n",
       "      <td>0.489299</td>\n",
       "      <td>1.000000</td>\n",
       "    </tr>\n",
       "  </tbody>\n",
       "</table>\n",
       "</div>"
      ],
      "text/plain": [
       "            total_bill       tip      size\n",
       "total_bill    1.000000  0.675734  0.598315\n",
       "tip           0.675734  1.000000  0.489299\n",
       "size          0.598315  0.489299  1.000000"
      ]
     },
     "execution_count": 48,
     "metadata": {},
     "output_type": "execute_result"
    }
   ],
   "source": [
    "df.select_dtypes(include='number').corr()\n"
   ]
  },
  {
   "cell_type": "code",
   "execution_count": 49,
   "id": "cc681368-22aa-4d50-83f0-7daa61f0edf8",
   "metadata": {},
   "outputs": [
    {
     "data": {
      "text/plain": [
       "<Axes: >"
      ]
     },
     "execution_count": 49,
     "metadata": {},
     "output_type": "execute_result"
    },
    {
     "data": {
      "image/png": "[encoded data removed]",
      "text/plain": [
       "<Figure size 640x480 with 2 Axes>"
      ]
     },
     "metadata": {},
     "output_type": "display_data"
    }
   ],
   "source": [
    "corr = df.select_dtypes(include='number').corr()\n",
    "sns.heatmap(corr,annot = True)"
   ]
  },
  {
   "cell_type": "code",
   "execution_count": 51,
   "id": "2c73c863-56aa-4910-a8d0-a92b2ddced7c",
   "metadata": {},
   "outputs": [
    {
     "data": {
      "text/html": [
       "<div>\n",
       "<style scoped>\n",
       "    .dataframe tbody tr th:only-of-type {\n",
       "        vertical-align: middle;\n",
       "    }\n",
       "\n",
       "    .dataframe tbody tr th {\n",
       "        vertical-align: top;\n",
       "    }\n",
       "\n",
       "    .dataframe thead th {\n",
       "        text-align: right;\n",
       "    }\n",
       "</style>\n",
       "<table border=\"1\" class=\"dataframe\">\n",
       "  <thead>\n",
       "    <tr style=\"text-align: right;\">\n",
       "      <th></th>\n",
       "      <th>total_bill</th>\n",
       "      <th>tip</th>\n",
       "      <th>size</th>\n",
       "    </tr>\n",
       "  </thead>\n",
       "  <tbody>\n",
       "    <tr>\n",
       "      <th>total_bill</th>\n",
       "      <td>79.252939</td>\n",
       "      <td>8.323502</td>\n",
       "      <td>5.065983</td>\n",
       "    </tr>\n",
       "    <tr>\n",
       "      <th>tip</th>\n",
       "      <td>8.323502</td>\n",
       "      <td>1.914455</td>\n",
       "      <td>0.643906</td>\n",
       "    </tr>\n",
       "    <tr>\n",
       "      <th>size</th>\n",
       "      <td>5.065983</td>\n",
       "      <td>0.643906</td>\n",
       "      <td>0.904591</td>\n",
       "    </tr>\n",
       "  </tbody>\n",
       "</table>\n",
       "</div>"
      ],
      "text/plain": [
       "            total_bill       tip      size\n",
       "total_bill   79.252939  8.323502  5.065983\n",
       "tip           8.323502  1.914455  0.643906\n",
       "size          5.065983  0.643906  0.904591"
      ]
     },
     "execution_count": 51,
     "metadata": {},
     "output_type": "execute_result"
    }
   ],
   "source": [
    "df.select_dtypes(include='number').cov()"
   ]
  },
  {
   "cell_type": "code",
   "execution_count": 52,
   "id": "a36dff3b-5a9f-4105-bcb2-c158cf61e987",
   "metadata": {},
   "outputs": [
    {
     "data": {
      "text/plain": [
       "<seaborn.axisgrid.PairGrid at 0x277638b27b0>"
      ]
     },
     "execution_count": 52,
     "metadata": {},
     "output_type": "execute_result"
    },
    {
     "data": {
      "image/png": "[encoded data removed]",
      "text/plain": [
       "<Figure size 750x750 with 12 Axes>"
      ]
     },
     "metadata": {},
     "output_type": "display_data"
    }
   ],
   "source": [
    "sns.pairplot(df)"
   ]
  },
  {
   "cell_type": "code",
   "execution_count": 53,
   "id": "0b5839a6-aab8-4c14-9e3e-211a00c000eb",
   "metadata": {},
   "outputs": [
    {
     "data": {
      "text/plain": [
       "[1, 2, 1, 100, 100, 3, 4, 78, 100, -800, 600, -800, 600]"
      ]
     },
     "execution_count": 53,
     "metadata": {},
     "output_type": "execute_result"
    }
   ],
   "source": [
    "data "
   ]
  },
  {
   "cell_type": "code",
   "execution_count": 56,
   "id": "2b65c6fa-1ce0-48e5-97b7-403a36dbf97f",
   "metadata": {},
   "outputs": [
    {
     "data": {
      "text/plain": [
       "<Axes: ylabel='Count'>"
      ]
     },
     "execution_count": 56,
     "metadata": {},
     "output_type": "execute_result"
    },
    {
     "data": {
      "image/png": "[encoded data removed]",
      "text/plain": [
       "<Figure size 640x480 with 1 Axes>"
      ]
     },
     "metadata": {},
     "output_type": "display_data"
    }
   ],
   "source": [
    "sns.histplot(data)"
   ]
  },
  {
   "cell_type": "code",
   "execution_count": 57,
   "id": "828cd0e3-4f46-471a-b1dd-e107e6bab60b",
   "metadata": {},
   "outputs": [
    {
     "data": {
      "text/plain": [
       "<Axes: ylabel='Count'>"
      ]
     },
     "execution_count": 57,
     "metadata": {},
     "output_type": "execute_result"
    },
    {
     "data": {
      "image/png": "[encoded data removed]",
      "text/plain": [
       "<Figure size 640x480 with 1 Axes>"
      ]
     },
     "metadata": {},
     "output_type": "display_data"
    }
   ],
   "source": [
    "sns.histplot(data,kde = True)"
   ]
  },
  {
   "cell_type": "code",
   "execution_count": 58,
   "id": "1189d183-95cb-4740-9638-5f5f37d72deb",
   "metadata": {},
   "outputs": [
    {
     "data": {
      "text/plain": [
       "<Axes: xlabel='total_bill', ylabel='Count'>"
      ]
     },
     "execution_count": 58,
     "metadata": {},
     "output_type": "execute_result"
    },
    {
     "data": {
      "image/png": "[encoded data removed]",
      "text/plain": [
       "<Figure size 640x480 with 1 Axes>"
      ]
     },
     "metadata": {},
     "output_type": "display_data"
    }
   ],
   "source": [
    "sns.histplot(df[\"total_bill\"])"
   ]
  },
  {
   "cell_type": "code",
   "execution_count": 60,
   "id": "6a42a8d8-9258-4cfb-91b8-588564c1b462",
   "metadata": {},
   "outputs": [
    {
     "data": {
      "text/plain": [
       "<Axes: xlabel='total_bill', ylabel='Count'>"
      ]
     },
     "execution_count": 60,
     "metadata": {},
     "output_type": "execute_result"
    },
    {
     "data": {
      "image/png": "[encoded data removed]",
      "text/plain": [
       "<Figure size 640x480 with 1 Axes>"
      ]
     },
     "metadata": {},
     "output_type": "display_data"
    }
   ],
   "source": [
    "sns.histplot(df[\"total_bill\"],kde = True)\n"
   ]
  },
  {
   "cell_type": "code",
   "execution_count": 63,
   "id": "123528a3-b961-4eed-a097-ad2f7f83699b",
   "metadata": {},
   "outputs": [
    {
     "name": "stderr",
     "output_type": "stream",
     "text": [
      "C:\\Users\\HP\\AppData\\Local\\Temp\\ipykernel_6384\\649828715.py:1: UserWarning: \n",
      "\n",
      "`distplot` is a deprecated function and will be removed in seaborn v0.14.0.\n",
      "\n",
      "Please adapt your code to use either `displot` (a figure-level function with\n",
      "similar flexibility) or `histplot` (an axes-level function for histograms).\n",
      "\n",
      "For a guide to updating your code to use the new functions, please see\n",
      "https://gist.github.com/mwaskom/de44147ed2974457ad6372750bbe5751\n",
      "\n",
      "  sns.distplot(df[\"total_bill\"],kde = True)\n"
     ]
    },
    {
     "data": {
      "text/plain": [
       "<Axes: xlabel='total_bill', ylabel='Density'>"
      ]
     },
     "execution_count": 63,
     "metadata": {},
     "output_type": "execute_result"
    },
    {
     "data": {
      "image/png": "[encoded data removed]",
      "text/plain": [
       "<Figure size 640x480 with 1 Axes>"
      ]
     },
     "metadata": {},
     "output_type": "display_data"
    }
   ],
   "source": [
    "sns.distplot(df[\"total_bill\"],kde = True)\n"
   ]
  },
  {
   "cell_type": "code",
   "execution_count": 64,
   "id": "65d240ac-954e-484f-b6e3-8dc401000848",
   "metadata": {},
   "outputs": [
    {
     "data": {
      "text/plain": [
       "array([ 4.50799552e-01, -4.70715575e-02,  4.83608042e-01,  5.21642465e-01,\n",
       "        4.37977599e-01,  1.05895348e+00,  4.18228034e-01,  5.57723515e-01,\n",
       "        5.75021977e-01,  3.41538741e-01,  3.74490078e-01,  6.63817092e-01,\n",
       "        1.99595543e-01,  4.96420992e-01,  7.43149833e-01,  2.07432079e-01,\n",
       "        4.15165047e-01,  4.11285116e-01,  5.07050603e-01,  3.60404047e-01,\n",
       "        1.52899670e-01,  4.37712736e-01,  8.42957786e-01,  4.23485092e-01,\n",
       "        7.58392062e-01,  8.09760516e-01,  7.27168910e-01,  2.31643820e-01,\n",
       "        4.31010909e-01,  7.57314203e-01,  6.69697327e-01,  7.65728141e-01,\n",
       "        7.10515048e-01,  5.51145677e-01,  3.41271728e-01,  3.52769613e-01,\n",
       "        4.45630735e-01,  2.45442019e-01,  6.57270123e-01,  6.41450535e-01,\n",
       "        2.60033055e-01,  3.67757060e-01,  1.02034932e-01,  3.78512970e-01,\n",
       "        5.94993375e-01,  3.57017185e-01,  6.76297643e-01,  4.69066975e-01,\n",
       "        5.04371539e-01,  4.08141760e-01,  7.46167435e-01,  4.73695635e-01,\n",
       "        5.60587262e-01,  3.88764857e-01,  7.01074618e-01,  1.30724526e+00,\n",
       "        3.51070785e-01,  5.38314573e-01,  6.41818601e-01,  4.35521561e-01,\n",
       "        6.03188617e-01,  4.91606669e-01,  7.07286432e-01,  5.93674741e-01,\n",
       "        4.88957283e-01,  6.20370450e-01,  4.10602172e-01,  3.18939728e-01,\n",
       "        5.66079833e-01,  6.79835771e-01,  3.11444779e-01,  1.87133214e-01,\n",
       "        8.63600786e-01,  8.16532079e-01,  5.51156323e-01,  4.53719620e-01,\n",
       "        6.76791879e-01,  1.08512887e+00,  5.37207267e-01,  3.18337921e-01,\n",
       "        4.81421871e-01,  4.64731328e-01,  4.96241078e-02,  4.90924124e-01,\n",
       "        4.12588301e-02,  6.66867280e-01,  7.37621489e-01,  6.30659817e-01,\n",
       "        5.32398100e-01,  8.29003050e-01,  6.11625168e-01,  4.78172629e-01,\n",
       "        2.52957912e-01,  4.80962222e-01,  6.12275836e-01,  6.51870897e-01,\n",
       "        4.73577619e-01,  3.92322779e-01,  3.68286291e-01,  1.51618959e-01,\n",
       "        5.13229518e-01,  2.14043265e-01,  3.77072699e-01,  3.32142519e-01,\n",
       "        3.06746057e-01,  6.61527261e-01,  3.05759649e-01,  4.52846928e-01,\n",
       "        5.12674404e-01,  5.09660238e-01,  7.81408861e-01,  2.72392038e-01,\n",
       "        4.02108450e-01,  4.59755602e-01,  5.45418136e-01,  2.40607527e-01,\n",
       "        4.43020696e-01,  6.21599926e-01,  6.99431928e-01,  2.81753340e-01,\n",
       "        7.16945100e-01,  5.52408096e-01,  2.35930152e-01,  2.71245083e-01,\n",
       "        4.76893152e-01,  7.17100121e-01,  5.17545486e-01,  4.69633683e-01,\n",
       "        7.63769846e-01,  5.04877356e-01,  7.74317675e-01,  6.86864063e-01,\n",
       "        6.34557739e-01,  9.60112463e-01,  5.24937437e-01,  1.48201164e-01,\n",
       "        6.33198385e-01,  4.13310826e-01,  6.00903501e-01,  4.26994213e-01,\n",
       "        4.77367162e-01,  3.73047987e-01,  4.59846178e-01,  5.32874169e-01,\n",
       "        2.77170346e-01,  4.05217439e-01,  6.61365174e-01,  6.18283614e-01,\n",
       "        2.41402686e-01,  4.48922843e-01,  8.07101307e-01,  2.63124984e-01,\n",
       "        7.62624337e-01,  4.06131291e-01,  2.93097915e-01,  3.96158986e-01,\n",
       "        2.43605152e-02,  2.37098485e-01,  6.45027038e-01,  5.01305164e-01,\n",
       "        4.40681738e-01,  6.30095103e-02,  5.76984754e-01,  4.50845685e-01,\n",
       "        3.39804896e-01,  5.92827896e-01,  8.61707772e-01,  2.57482523e-01,\n",
       "        5.33041558e-01,  7.30544021e-01,  4.11156778e-01,  5.77237597e-01,\n",
       "        5.73293248e-01,  4.33940770e-01,  6.68310861e-01,  4.35010401e-01,\n",
       "        9.40549476e-01, -8.70555718e-02,  7.23855665e-01,  5.58453054e-01,\n",
       "        3.14773967e-01,  7.22627429e-01,  6.01779556e-01,  4.32295819e-01,\n",
       "        1.60824753e-01,  6.34451963e-01,  3.39566036e-01,  9.34461571e-01,\n",
       "        3.78694734e-01,  6.31551180e-01,  6.94215047e-01,  3.28576531e-01,\n",
       "        4.38038546e-01,  3.13267832e-01,  4.82576040e-01,  3.30221121e-01,\n",
       "        7.59604963e-01,  8.45798647e-01,  1.75441602e-01,  5.47974276e-01,\n",
       "        1.77692960e-01,  4.34500703e-01,  8.10067728e-01,  4.27435141e-01,\n",
       "        5.23111442e-01,  3.97208279e-01,  7.70312610e-01,  1.95452310e-01,\n",
       "        8.71447713e-01,  4.94963850e-01,  4.95419623e-01,  6.64720161e-01,\n",
       "        3.69547800e-01,  5.24311606e-01,  5.04252153e-01,  2.90959319e-01,\n",
       "        1.06380143e-01,  4.85034868e-01,  5.13411880e-01,  3.22264394e-01,\n",
       "        3.86797250e-01,  4.76258295e-01,  4.68407065e-01,  5.28796623e-01,\n",
       "        7.48643194e-01,  5.20141828e-01,  6.80791768e-01,  3.06892215e-01,\n",
       "        5.89498173e-01,  3.00825588e-01,  2.38233333e-01,  4.21853130e-01,\n",
       "        6.57222979e-01,  5.80361063e-01,  7.43319790e-01,  4.64919698e-01,\n",
       "        4.61630262e-01,  6.67951842e-01,  5.78885862e-01,  7.25886186e-01,\n",
       "        3.59362305e-01,  6.23796897e-01,  1.04839844e+00,  3.10634331e-01,\n",
       "        5.02311181e-01,  4.13883420e-01,  3.70214370e-01,  4.35980191e-01,\n",
       "        7.49942752e-01,  2.68013867e-01,  2.67711177e-01,  3.79816530e-01,\n",
       "        4.86646800e-01,  6.92558718e-01,  8.26878599e-01,  5.15344812e-01,\n",
       "        4.74296022e-01,  3.88372906e-01,  4.64190562e-01,  4.41700039e-01,\n",
       "        4.03913016e-01,  3.82265857e-01,  8.02207972e-01,  6.17941729e-01,\n",
       "        5.29711719e-01,  6.14558191e-01,  4.56194952e-01,  2.70797256e-01,\n",
       "        6.17762931e-01,  3.10414562e-01,  3.06990038e-01,  5.71551435e-01,\n",
       "        6.67895003e-01,  7.62960007e-01,  1.21504939e-01,  4.40031342e-01,\n",
       "        6.46373960e-01,  4.56055153e-01,  3.09846232e-01,  5.26374944e-01,\n",
       "        2.74860489e-01,  3.53131343e-01,  5.46859207e-01,  5.07854862e-01,\n",
       "        5.58400637e-01,  4.43584365e-01,  2.55343397e-01,  7.65937887e-01,\n",
       "        6.40265227e-01,  6.29378197e-01,  4.92597226e-01,  5.59011584e-01,\n",
       "        1.85095228e-01,  4.80296964e-01,  6.69442196e-01,  3.32740464e-01,\n",
       "        4.51268813e-01,  2.05790068e-01,  5.67076446e-01,  2.35457145e-01,\n",
       "        6.82210814e-01,  5.90336814e-01,  5.99956702e-01,  1.28916485e-01,\n",
       "        2.93902446e-01,  3.11754459e-01,  4.48289796e-01,  5.45982979e-02,\n",
       "        6.59256849e-01,  5.87473367e-01,  9.49615893e-02,  5.97418382e-01,\n",
       "        3.21963097e-01,  6.05053409e-01,  4.95080353e-01,  4.64910353e-01,\n",
       "        6.87465874e-01,  1.03884011e+00,  3.28758168e-01,  5.82998987e-01,\n",
       "        8.04544521e-01,  3.97525845e-02,  2.76237468e-01,  3.96733118e-01,\n",
       "        3.76608174e-01,  6.07251358e-02,  1.00822427e+00,  5.01434685e-01,\n",
       "        4.58326776e-01,  1.73393327e-01,  1.59164832e-01,  5.14423140e-01,\n",
       "        5.08270438e-01,  6.26263086e-01,  3.51684281e-01,  5.04088282e-01,\n",
       "        6.70627350e-01,  2.92824717e-01,  4.53922636e-01,  9.38681667e-01,\n",
       "        2.50132820e-01,  1.52096190e-01,  4.35715890e-02,  6.61441077e-01,\n",
       "        2.83378608e-01,  2.94605837e-01,  1.45106779e-01,  7.18767461e-01,\n",
       "        4.65063992e-01,  6.37217472e-01,  4.55090467e-01,  6.87143190e-01,\n",
       "        3.98633715e-01,  6.56777785e-01,  3.73592444e-01,  3.06517870e-01,\n",
       "        6.16735809e-01,  5.70381090e-01,  2.86530626e-01,  2.81239173e-01,\n",
       "        9.24230099e-01,  1.00037563e+00,  6.29683097e-01,  3.30806958e-01,\n",
       "        5.65599744e-01,  5.82861966e-01,  6.66629949e-01,  7.50644306e-01,\n",
       "        5.87220432e-01,  3.00782974e-01,  3.40379211e-01,  5.38031930e-01,\n",
       "        2.80643521e-01,  7.48972226e-01,  6.38727312e-01,  1.76477223e-01,\n",
       "        5.05769012e-01,  6.60431181e-01,  4.18821959e-01,  7.14614347e-04,\n",
       "        5.22138937e-01,  1.18159428e-01,  4.64595270e-01,  6.38747652e-01,\n",
       "        4.04779110e-01,  4.81104413e-01,  4.87982661e-01,  5.50347484e-01,\n",
       "        7.33041436e-01,  6.21075181e-01,  1.98741261e-01,  4.15522388e-01,\n",
       "        5.96838376e-01,  1.21404842e-01,  5.80054491e-01,  5.46313149e-01,\n",
       "        7.65583728e-01,  4.64849611e-01,  6.62502979e-01,  3.38216089e-01,\n",
       "        1.48561857e-01,  5.20041141e-01,  4.60619581e-01,  3.40900323e-01,\n",
       "        6.17931335e-01,  2.30079396e-01,  1.78899770e-01,  2.93264588e-01,\n",
       "        5.27331755e-01,  4.52483289e-01,  6.26084904e-01,  7.32515848e-01,\n",
       "        1.79390181e-01,  2.54545699e-01,  4.07746658e-01,  5.04048199e-01,\n",
       "        3.04990957e-01,  4.71103336e-01,  5.85420310e-01,  3.43857476e-01,\n",
       "        3.80414395e-01,  6.99069898e-01,  4.05878882e-01,  7.00524899e-01,\n",
       "        6.59060315e-01,  3.56511693e-01,  1.01786068e+00,  2.72482236e-01,\n",
       "        8.20182536e-01,  3.58485273e-01,  4.66360924e-01,  2.43806039e-01,\n",
       "        4.65309617e-01,  8.00921207e-01,  6.74405847e-01,  5.16937343e-01,\n",
       "        3.69714462e-01,  8.73568707e-01,  6.23786732e-01,  3.47275334e-01,\n",
       "        3.02114120e-01,  3.43965462e-01,  4.29588370e-01,  4.54844735e-01,\n",
       "        7.43887679e-01,  1.95885186e-01,  4.17278758e-01,  7.77912031e-01,\n",
       "        6.00564548e-01,  2.51038642e-01,  8.30264774e-01,  3.17143839e-01,\n",
       "        5.35214340e-01,  5.91166694e-01,  3.14553959e-01,  5.26225137e-01,\n",
       "        5.88758461e-01,  5.22348242e-01,  3.05162254e-02,  4.89950441e-01,\n",
       "        7.28558389e-01,  6.14249269e-01,  4.76662158e-01,  4.77526428e-01,\n",
       "        1.15093350e-01,  2.37333789e-01,  5.71271427e-01,  4.23952995e-01,\n",
       "        6.14801798e-01,  4.68992372e-01,  4.28539272e-01,  5.77904819e-01,\n",
       "        3.01683614e-01,  3.10181197e-01,  6.29733091e-01,  6.61659312e-01,\n",
       "        6.26318817e-01,  3.63854483e-01,  3.32161852e-01,  3.66289187e-01,\n",
       "        5.11158717e-01,  7.83174462e-01,  6.26870747e-01,  1.85838494e-01,\n",
       "        2.08240031e-01,  5.45155601e-01,  3.04112637e-01,  4.72346277e-01,\n",
       "        9.76883398e-01,  9.11594369e-01,  3.05688470e-01,  5.14438681e-01,\n",
       "        7.38091833e-01,  3.45771568e-01,  2.37945391e-01,  4.33750100e-01,\n",
       "        5.62817972e-01, -2.22924397e-01,  6.81188714e-01,  4.80712972e-01,\n",
       "        1.85108628e-01,  2.32302427e-01,  8.34246558e-01,  8.04761575e-01,\n",
       "        3.66817055e-01,  1.36691949e-01,  3.88133892e-01,  3.50559746e-01,\n",
       "        3.62092838e-01,  1.17894431e-01,  5.61549518e-01,  5.96656867e-01,\n",
       "        3.04972352e-01,  4.21759275e-01,  3.53442301e-01,  4.58404990e-01,\n",
       "        4.59319792e-01,  2.24100395e-01,  1.21740618e-01,  2.01704866e-01,\n",
       "        6.93140736e-01,  1.00721620e+00,  4.03328075e-01,  2.82102088e-01,\n",
       "        3.49240038e-01,  5.06647861e-01,  3.36027389e-01,  3.32286853e-01,\n",
       "        6.38176067e-01,  5.21633402e-01,  2.87669188e-01,  3.59142779e-01,\n",
       "        4.40683003e-01,  4.77034616e-01,  4.67769365e-01,  5.24223069e-01,\n",
       "        2.09420650e-01,  4.33655369e-01,  7.71741954e-01,  5.42387512e-01,\n",
       "        6.62139946e-01,  4.81052217e-01,  6.83301821e-01,  5.67858858e-01,\n",
       "        7.78060959e-01,  2.96337375e-01,  5.24592457e-01,  7.13147691e-01,\n",
       "        1.74233254e-01,  2.22236804e-01,  4.10670382e-01,  4.50661040e-01,\n",
       "        6.53833086e-01,  3.00532888e-02,  4.58653230e-01,  4.30308519e-01,\n",
       "        2.68950416e-01,  4.23284064e-01,  5.54677965e-01,  5.42657710e-01,\n",
       "        4.75514800e-01,  7.93364956e-01,  3.62808315e-01,  4.62378746e-01,\n",
       "        4.09371032e-01,  6.40605269e-01,  2.20347790e-01,  4.37597402e-01,\n",
       "        3.33099728e-01,  3.24164931e-01,  8.17367898e-01,  4.52361167e-01,\n",
       "        5.30281972e-01,  6.78326468e-01,  4.13061224e-01,  3.93745962e-01,\n",
       "        5.68785979e-01,  4.15155177e-01,  5.83824794e-01,  5.23942350e-01,\n",
       "        5.94861307e-01,  4.62182756e-01,  4.26802795e-01,  7.21413753e-01,\n",
       "        8.36560136e-01,  5.19788688e-01,  7.83124993e-01,  7.22427114e-01,\n",
       "        4.62419716e-01,  4.36807888e-01,  2.45747155e-01,  6.51280351e-01,\n",
       "        5.03533385e-01,  4.69803960e-01,  4.25254240e-01,  9.67765114e-01,\n",
       "        5.22337020e-01,  3.57832960e-01,  1.42543519e-01,  5.15580408e-01,\n",
       "        5.89358797e-01,  2.19856164e-01,  2.57329280e-01,  4.49583575e-01,\n",
       "        7.71920408e-01,  6.31400070e-01,  4.78989769e-01,  1.04101111e+00,\n",
       "        6.22716248e-01,  4.80491628e-01,  3.35311488e-01,  4.98928919e-01,\n",
       "        4.55388441e-01,  8.01709486e-01,  3.23169682e-01,  4.44698333e-01,\n",
       "        4.90139741e-01,  5.24822356e-01,  6.31904002e-01,  6.15209893e-01,\n",
       "        3.53423478e-01,  2.04055551e-01,  3.39331216e-01,  4.74146155e-01,\n",
       "        3.99166653e-01,  5.99402475e-01,  5.81698594e-01, -3.27446086e-03,\n",
       "        3.55655755e-01,  7.03827907e-01,  5.26409661e-01,  2.84677062e-01,\n",
       "        7.88810841e-01,  2.53713724e-01,  4.38018305e-01,  3.31531453e-01,\n",
       "        5.35535385e-01,  6.17833943e-01,  1.70840656e-01,  6.30596295e-01,\n",
       "        5.37876798e-01,  9.71422991e-01,  6.41662677e-01,  3.40853108e-01,\n",
       "        7.57289577e-01,  6.91745644e-01,  4.83246729e-01,  2.73316547e-01,\n",
       "        8.77967301e-01,  7.07892556e-01,  6.41488667e-01,  3.55912190e-01,\n",
       "        3.69368754e-01,  4.15103490e-01,  4.92799983e-01,  6.35395514e-01,\n",
       "        4.17018897e-01,  3.54130563e-01,  9.22077941e-01,  5.73194955e-01,\n",
       "        4.02502751e-01,  3.06563204e-01,  7.22790086e-01,  7.24790284e-01,\n",
       "        4.68479282e-01,  3.63729827e-01,  8.91108459e-01,  7.13754451e-01,\n",
       "        6.59269526e-01,  6.32189097e-01,  4.24238056e-01,  4.54200260e-03,\n",
       "        2.60014107e-01,  4.72170581e-01,  6.17825983e-01,  9.53902989e-01,\n",
       "        1.62221031e-01,  6.11096434e-01,  5.76285105e-01,  3.43466436e-01,\n",
       "        5.26747312e-01,  6.13490065e-01,  4.20102870e-01,  5.93923283e-01,\n",
       "        4.14296913e-01,  6.93196720e-01,  3.61693551e-01,  4.14510846e-01,\n",
       "        4.42261836e-01,  8.09130377e-01,  5.81863149e-01,  6.70374947e-01,\n",
       "        1.26231264e-01,  6.59825322e-01,  1.77361205e-01,  5.75109820e-01,\n",
       "        4.57071649e-01,  1.02566865e+00,  7.91421613e-02,  5.26828492e-01,\n",
       "        3.11619707e-01,  4.37450018e-01,  2.77340540e-01,  4.26686516e-01,\n",
       "        4.60373760e-01,  4.93134111e-01,  6.99355079e-01,  5.87960001e-01,\n",
       "        5.86530545e-01,  3.24677092e-01,  6.21334416e-01,  3.04205546e-01,\n",
       "        4.87168507e-01,  2.34187912e-01,  1.35640968e-01,  8.30929289e-01,\n",
       "        4.05048282e-01,  6.10267011e-01,  2.64560017e-01,  2.76600321e-01,\n",
       "        8.36022726e-01,  4.37842643e-01,  3.62233857e-01,  2.78659373e-01,\n",
       "        2.81224484e-01,  5.79050916e-01,  4.66678768e-01,  6.08269267e-01,\n",
       "        2.36901849e-01,  4.81719302e-01,  8.38952764e-01,  6.11618117e-01,\n",
       "        4.55709677e-01,  3.73767944e-01,  5.62131926e-01,  5.92056668e-01,\n",
       "        6.29814161e-01,  8.22596205e-01,  9.41270681e-01,  5.29607054e-01,\n",
       "        3.20021017e-01,  3.10835431e-01,  3.08405881e-01,  1.51638073e-01,\n",
       "        2.53928542e-01,  4.31546190e-01,  8.10057926e-01,  8.43609996e-01,\n",
       "        7.73434923e-01,  5.19855251e-01,  6.30788369e-01,  6.72073623e-01,\n",
       "        3.54203813e-01,  2.59694599e-01,  3.93266875e-01,  8.55202931e-01,\n",
       "        1.45667445e-01,  4.52891919e-01,  7.80370984e-01,  5.49957763e-01,\n",
       "        3.56795846e-01,  4.18264317e-01,  5.66262926e-01,  4.52596500e-01,\n",
       "        5.70545825e-01,  5.50236322e-01,  8.18951342e-01,  7.27186662e-01,\n",
       "        3.73830665e-01,  5.53001941e-01,  7.64904581e-01,  5.61600706e-01,\n",
       "        8.52033564e-01,  6.38529775e-01,  4.93242331e-01,  8.43787375e-01,\n",
       "        1.65655353e-01,  7.02504839e-01,  5.47773783e-01,  4.69283959e-01,\n",
       "        6.42214547e-01,  7.51947411e-01,  6.42204248e-01,  5.38210756e-01,\n",
       "        3.38749669e-01,  2.13348037e-01,  4.56515904e-01,  4.90763035e-01,\n",
       "        7.07915533e-01,  7.91818480e-01,  8.60053999e-02,  1.01818716e+00,\n",
       "        6.79366447e-01,  4.64926069e-01,  8.86097145e-01,  6.83746908e-01,\n",
       "        7.55695991e-01,  5.67764480e-01,  9.10578367e-01,  3.32446959e-01,\n",
       "        6.49421063e-01,  6.50853527e-01,  4.09437786e-01,  5.79602122e-01,\n",
       "        5.40719896e-01,  5.13681897e-01,  4.70172046e-01,  4.85038613e-01,\n",
       "        8.01413994e-01,  5.16658205e-01,  8.67895409e-01,  4.30454830e-01,\n",
       "        5.41909501e-01,  6.49156364e-01,  8.57834020e-01,  6.02900752e-01,\n",
       "        6.04714112e-01,  5.76151642e-01,  4.42293611e-01,  5.25020486e-01,\n",
       "        5.77565615e-01,  5.73929848e-01,  4.82451935e-01,  4.56753761e-01,\n",
       "        4.59326683e-01,  7.84564787e-01,  4.71085244e-01,  5.62053345e-01,\n",
       "        4.97969938e-01,  4.95534030e-01,  3.15653928e-01,  9.86623933e-01,\n",
       "        8.96009128e-01,  6.61516382e-01,  2.59060817e-01,  6.21161307e-01,\n",
       "        3.59829625e-01,  1.35118312e-01,  4.73220674e-01,  5.57214013e-01,\n",
       "        6.59682540e-01,  7.06042389e-01,  3.86253246e-01,  5.45927609e-01,\n",
       "        4.97272461e-01,  3.34529950e-01,  5.02873093e-01,  7.49043805e-01,\n",
       "        1.54307157e-01,  3.96656828e-01,  5.23996218e-01,  5.03840367e-01,\n",
       "        5.62370924e-01,  5.97724461e-01,  4.37751428e-01,  2.37689269e-01,\n",
       "        3.38756838e-01,  4.48888037e-01,  6.27223949e-01,  8.29043328e-01,\n",
       "        3.37605932e-01,  9.02430901e-01,  3.64178897e-01,  3.37023360e-01,\n",
       "        6.76010966e-01,  5.31578179e-01,  8.37270902e-01,  3.99829117e-01,\n",
       "        7.32344518e-01,  6.29594872e-02,  1.80384209e-01,  5.80766440e-01,\n",
       "        4.80955771e-01,  4.58846678e-01,  6.99460167e-01,  7.90427148e-01,\n",
       "        4.31386734e-01,  5.18979236e-01,  1.82528567e-01,  3.35041129e-01,\n",
       "        7.57252681e-01,  3.52713713e-01,  1.00504028e+00,  6.79656517e-01,\n",
       "        4.80989107e-01,  6.75468944e-01,  2.98045582e-01,  3.98867018e-01,\n",
       "        7.31820621e-01,  4.34447602e-01,  3.32019380e-01,  6.65225025e-01,\n",
       "        4.78930604e-01,  4.17573741e-01,  5.29750102e-01,  6.00087171e-01,\n",
       "        2.57946808e-01,  4.94475079e-01,  5.00882350e-01,  1.01913033e-01,\n",
       "        3.07398102e-01,  1.27800334e-01,  6.44318977e-01,  5.72467265e-01,\n",
       "        3.15489314e-01,  2.97049387e-01,  3.12999364e-01,  5.75234140e-01,\n",
       "        7.82309834e-02,  4.36960928e-01,  2.64050186e-01,  4.91745579e-01,\n",
       "        3.62650617e-01,  3.58567247e-01,  1.60611264e-01,  7.91798197e-01,\n",
       "        6.89669678e-01,  4.09305950e-01,  5.00214861e-01,  4.84335122e-01,\n",
       "        6.89614461e-01,  5.93987134e-01,  6.47015753e-01,  3.69140084e-01,\n",
       "        1.70411943e-01,  6.01066481e-01,  1.19603814e-01,  5.42038279e-01,\n",
       "        6.27599717e-01,  5.65564028e-01,  3.29454104e-01,  3.77479237e-01,\n",
       "        7.71908458e-01,  2.83155632e-01,  3.82435796e-01,  3.77835872e-01,\n",
       "        2.16353369e-01,  5.53974474e-01,  7.00298846e-01,  6.45514376e-01,\n",
       "        3.60111129e-01,  2.74554549e-01,  6.00800839e-01,  1.44955344e-01,\n",
       "        3.38522248e-01,  2.54469621e-01,  3.70496448e-01,  6.96538674e-01,\n",
       "        4.38598779e-01,  3.26069555e-01,  3.87433286e-01,  3.82957143e-01,\n",
       "        1.72093417e-01,  4.11561892e-01,  3.86519887e-01,  1.94849595e-01,\n",
       "        5.20422707e-01,  6.75435871e-01,  6.59213958e-01,  2.66786918e-01,\n",
       "        5.38171574e-01,  4.83100138e-01,  5.10557227e-01,  5.18184796e-01,\n",
       "        1.67739607e-01,  8.17627479e-01,  3.96777673e-01,  6.69727281e-01,\n",
       "        9.00577735e-01,  5.77159834e-01,  6.33940209e-01,  4.58395215e-01,\n",
       "        3.03476832e-01,  3.86129815e-01,  5.04441998e-01,  5.47090144e-01,\n",
       "        4.76107397e-01,  2.79396792e-01,  7.44600171e-01,  4.82289065e-01,\n",
       "        3.33983215e-01,  5.14146117e-01,  6.19451838e-01,  4.06496038e-01,\n",
       "        2.41427241e-01,  7.64285547e-01,  6.08430130e-01, -8.34106243e-02,\n",
       "        8.00758573e-01,  2.62164220e-01,  3.18711579e-01,  2.42663407e-01,\n",
       "        2.18689885e-01,  5.16905693e-01,  5.67110934e-01,  4.24536809e-01,\n",
       "        3.70275149e-01,  4.01450935e-01,  6.60685244e-01,  2.18650763e-01])"
      ]
     },
     "execution_count": 64,
     "metadata": {},
     "output_type": "execute_result"
    }
   ],
   "source": [
    "##normal distribution data\n",
    "np.random.normal(0.5,0.2,1000)"
   ]
  },
  {
   "cell_type": "code",
   "execution_count": 65,
   "id": "221fe6b9-efde-4855-9366-49687197ec87",
   "metadata": {},
   "outputs": [
    {
     "data": {
      "text/plain": [
       "<Axes: ylabel='Count'>"
      ]
     },
     "execution_count": 65,
     "metadata": {},
     "output_type": "execute_result"
    },
    {
     "data": {
      "image/png": "[encoded data removed]",
      "text/plain": [
       "<Figure size 640x480 with 1 Axes>"
      ]
     },
     "metadata": {},
     "output_type": "display_data"
    }
   ],
   "source": [
    "\n",
    "var =np.random.normal(0.5,0.2,1000)\n",
    "sns.histplot(var ,kde = True)"
   ]
  },
  {
   "cell_type": "code",
   "execution_count": 66,
   "id": "4a5c14cb-398f-4a6e-aa75-35f48b75bd4b",
   "metadata": {},
   "outputs": [
    {
     "name": "stderr",
     "output_type": "stream",
     "text": [
      "C:\\Users\\HP\\AppData\\Local\\Temp\\ipykernel_6384\\2286086223.py:1: UserWarning: \n",
      "\n",
      "`distplot` is a deprecated function and will be removed in seaborn v0.14.0.\n",
      "\n",
      "Please adapt your code to use either `displot` (a figure-level function with\n",
      "similar flexibility) or `histplot` (an axes-level function for histograms).\n",
      "\n",
      "For a guide to updating your code to use the new functions, please see\n",
      "https://gist.github.com/mwaskom/de44147ed2974457ad6372750bbe5751\n",
      "\n",
      "  sns.distplot(var ,kde = True)\n"
     ]
    },
    {
     "data": {
      "text/plain": [
       "<Axes: ylabel='Density'>"
      ]
     },
     "execution_count": 66,
     "metadata": {},
     "output_type": "execute_result"
    },
    {
     "data": {
      "image/png": "[encoded data removed]",
      "text/plain": [
       "<Figure size 640x480 with 1 Axes>"
      ]
     },
     "metadata": {},
     "output_type": "display_data"
    }
   ],
   "source": [
    "sns.distplot(var ,kde = True)"
   ]
  },
  {
   "cell_type": "code",
   "execution_count": null,
   "id": "99becfda-62c8-47de-9943-b4b783f5a740",
   "metadata": {},
   "outputs": [],
   "source": []
  }
 ],
 "metadata": {
  "kernelspec": {
   "display_name": "Python 3 (ipykernel)",
   "language": "python",
   "name": "python3"
  },
  "language_info": {
   "codemirror_mode": {
    "name": "ipython",
    "version": 3
   },
   "file_extension": ".py",
   "mimetype": "text/x-python",
   "name": "python",
   "nbconvert_exporter": "python",
   "pygments_lexer": "ipython3",
   "version": "3.13.3"
  }
 },
 "nbformat": 4,
 "nbformat_minor": 5
}
