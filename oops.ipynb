{
  "nbformat": 4,
  "nbformat_minor": 0,
  "metadata": {
    "colab": {
      "provenance": [],
      "authorship_tag": "ABX9TyO4exEkwnOq85QabDXWtYjO",
      "include_colab_link": true
    },
    "kernelspec": {
      "name": "python3",
      "display_name": "Python 3"
    },
    "language_info": {
      "name": "python"
    }
  },
  "cells": [
    {
      "cell_type": "markdown",
      "metadata": {
        "id": "view-in-github",
        "colab_type": "text"
      },
      "source": [
        "<a href=\"https://colab.research.google.com/github/atulpatil2228/pwlectures/blob/main/oops.ipynb\" target=\"_parent\"><img src=\"https://colab.research.google.com/assets/colab-badge.svg\" alt=\"Open In Colab\"/></a>"
      ]
    },
    {
      "cell_type": "code",
      "execution_count": null,
      "metadata": {
        "id": "-vFmFxScTTKY"
      },
      "outputs": [],
      "source": [
        "## oops >> object oriented system"
      ]
    },
    {
      "cell_type": "code",
      "source": [
        "a = 5"
      ],
      "metadata": {
        "id": "CYt0taLZWtx0"
      },
      "execution_count": 1,
      "outputs": []
    },
    {
      "cell_type": "code",
      "source": [
        "print(a)"
      ],
      "metadata": {
        "colab": {
          "base_uri": "https://localhost:8080/",
          "height": 141
        },
        "id": "x4a8PADdWwPd",
        "outputId": "72761683-7624-49e6-80de-d1c882deea4e"
      },
      "execution_count": null,
      "outputs": [
        {
          "output_type": "error",
          "ename": "NameError",
          "evalue": "name 'a' is not defined",
          "traceback": [
            "\u001b[0;31m---------------------------------------------------------------------------\u001b[0m",
            "\u001b[0;31mNameError\u001b[0m                                 Traceback (most recent call last)",
            "\u001b[0;32m<ipython-input-1-bca0e2660b9f>\u001b[0m in \u001b[0;36m<cell line: 0>\u001b[0;34m()\u001b[0m\n\u001b[0;32m----> 1\u001b[0;31m \u001b[0mprint\u001b[0m\u001b[0;34m(\u001b[0m\u001b[0ma\u001b[0m\u001b[0;34m)\u001b[0m\u001b[0;34m\u001b[0m\u001b[0;34m\u001b[0m\u001b[0m\n\u001b[0m",
            "\u001b[0;31mNameError\u001b[0m: name 'a' is not defined"
          ]
        }
      ]
    },
    {
      "cell_type": "code",
      "source": [
        "print(type(a))"
      ],
      "metadata": {
        "colab": {
          "base_uri": "https://localhost:8080/"
        },
        "id": "CINQmzl3WxJn",
        "outputId": "2f347f6b-d88d-48b9-93f7-3a3624737809"
      },
      "execution_count": null,
      "outputs": [
        {
          "output_type": "stream",
          "name": "stdout",
          "text": [
            "<class 'int'>\n"
          ]
        }
      ]
    },
    {
      "cell_type": "code",
      "source": [
        "s = 'pwskills'\n",
        "print(type(s))"
      ],
      "metadata": {
        "colab": {
          "base_uri": "https://localhost:8080/"
        },
        "id": "UV56LVHMWyYx",
        "outputId": "8524f060-af18-41d1-9122-f6b017812db1"
      },
      "execution_count": null,
      "outputs": [
        {
          "output_type": "stream",
          "name": "stdout",
          "text": [
            "<class 'str'>\n"
          ]
        }
      ]
    },
    {
      "cell_type": "code",
      "source": [
        "print('atul')"
      ],
      "metadata": {
        "colab": {
          "base_uri": "https://localhost:8080/"
        },
        "id": "ZIbE30VkW6ic",
        "outputId": "51c5f67e-d275-45f7-de1c-268c6fa6fbb4"
      },
      "execution_count": null,
      "outputs": [
        {
          "output_type": "stream",
          "name": "stdout",
          "text": [
            "atul\n"
          ]
        }
      ]
    },
    {
      "cell_type": "code",
      "source": [
        "print('la')"
      ],
      "metadata": {
        "colab": {
          "base_uri": "https://localhost:8080/"
        },
        "id": "27eyAEvmXM6s",
        "outputId": "a7163871-b2fc-4bf2-cf28-9c1ec3b453ec"
      },
      "execution_count": null,
      "outputs": [
        {
          "output_type": "stream",
          "name": "stdout",
          "text": [
            "la\n"
          ]
        }
      ]
    },
    {
      "cell_type": "code",
      "source": [
        "class Car :   ## naming convention >> upper camel case\n",
        "  pass"
      ],
      "metadata": {
        "id": "1CdG53DCXPIU"
      },
      "execution_count": null,
      "outputs": []
    },
    {
      "cell_type": "code",
      "source": [
        "a =  Car () ## instant ,object"
      ],
      "metadata": {
        "id": "ZJcMIR8lX8up"
      },
      "execution_count": null,
      "outputs": []
    },
    {
      "cell_type": "code",
      "source": [
        "print(type(a))"
      ],
      "metadata": {
        "colab": {
          "base_uri": "https://localhost:8080/"
        },
        "id": "UDTg7JFyYnyD",
        "outputId": "40b49e29-db84-4b16-a54e-d84cf35df5a7"
      },
      "execution_count": null,
      "outputs": [
        {
          "output_type": "stream",
          "name": "stdout",
          "text": [
            "<class '__main__.Car'>\n"
          ]
        }
      ]
    },
    {
      "cell_type": "code",
      "source": [
        "class Car : ## function / method of a car\n",
        "  def accelerate(self) :\n",
        "    print('car is acclerating')"
      ],
      "metadata": {
        "id": "9RBLsF99Ypny"
      },
      "execution_count": null,
      "outputs": []
    },
    {
      "cell_type": "code",
      "source": [
        "class Car :\n",
        "  def gravity(self):\n",
        "    print('cars can fly')\n"
      ],
      "metadata": {
        "id": "CCpdNbn5tbNU"
      },
      "execution_count": null,
      "outputs": []
    },
    {
      "cell_type": "code",
      "source": [
        "b = Car()"
      ],
      "metadata": {
        "id": "1Ix2eI4etbEP"
      },
      "execution_count": null,
      "outputs": []
    },
    {
      "cell_type": "code",
      "source": [
        "b.gravity()"
      ],
      "metadata": {
        "colab": {
          "base_uri": "https://localhost:8080/"
        },
        "id": "eiyymeZZtuUy",
        "outputId": "58676df3-cc99-4ece-be45-a3981e159ebd"
      },
      "execution_count": null,
      "outputs": [
        {
          "output_type": "stream",
          "name": "stdout",
          "text": [
            "cars can fly\n"
          ]
        }
      ]
    },
    {
      "cell_type": "code",
      "source": [],
      "metadata": {
        "id": "SuEEThhytuR-"
      },
      "execution_count": null,
      "outputs": []
    },
    {
      "cell_type": "code",
      "source": [],
      "metadata": {
        "id": "gfjpqTGZtuPs"
      },
      "execution_count": null,
      "outputs": []
    },
    {
      "cell_type": "code",
      "source": [],
      "metadata": {
        "id": "PtGh_LMdtuNe"
      },
      "execution_count": null,
      "outputs": []
    },
    {
      "cell_type": "code",
      "source": [
        "a = Car()"
      ],
      "metadata": {
        "id": "N5UtwS2Vb8El"
      },
      "execution_count": null,
      "outputs": []
    },
    {
      "cell_type": "code",
      "source": [
        "a.accelerate()"
      ],
      "metadata": {
        "colab": {
          "base_uri": "https://localhost:8080/"
        },
        "id": "8DeJ9EXscCAh",
        "outputId": "838918ad-51c7-4758-ebb7-933fb99cda08"
      },
      "execution_count": null,
      "outputs": [
        {
          "output_type": "stream",
          "name": "stdout",
          "text": [
            "car is acclerating\n"
          ]
        }
      ]
    },
    {
      "cell_type": "code",
      "source": [
        "a.accelerate()"
      ],
      "metadata": {
        "colab": {
          "base_uri": "https://localhost:8080/"
        },
        "id": "4dYV4BpEcDVJ",
        "outputId": "09d66293-0c91-4a47-e461-8cf0df77f638"
      },
      "execution_count": null,
      "outputs": [
        {
          "output_type": "stream",
          "name": "stdout",
          "text": [
            "car is acclerating\n"
          ]
        }
      ]
    },
    {
      "cell_type": "code",
      "source": [
        "## self >> a variable that represents instance of class using which u can access attribute and method"
      ],
      "metadata": {
        "id": "FRnVw_jRcONB"
      },
      "execution_count": null,
      "outputs": []
    },
    {
      "cell_type": "code",
      "source": [
        "class Car() :\n",
        "  def accelerate(self):\n",
        "    print('car is acclerating')\n",
        "  def brake(self):\n",
        "    print('car is stopping')"
      ],
      "metadata": {
        "id": "Ck2GylKTdRDl"
      },
      "execution_count": null,
      "outputs": []
    },
    {
      "cell_type": "code",
      "source": [
        "class Car :\n",
        "  def gravity(self):\n",
        "    print('cars can fly')\n",
        "  def Torque(self):\n",
        "    print('hiher torque  can increase speed')"
      ],
      "metadata": {
        "id": "v7pcgZlOt2T0"
      },
      "execution_count": null,
      "outputs": []
    },
    {
      "cell_type": "code",
      "source": [
        "n = Car()"
      ],
      "metadata": {
        "id": "XuGicXzKt2G-"
      },
      "execution_count": null,
      "outputs": []
    },
    {
      "cell_type": "code",
      "source": [
        "n.gravity()"
      ],
      "metadata": {
        "colab": {
          "base_uri": "https://localhost:8080/"
        },
        "id": "3pB_yjkXt4yV",
        "outputId": "f2eabdb1-86df-4fb4-b04f-26626c91c5e7"
      },
      "execution_count": null,
      "outputs": [
        {
          "output_type": "stream",
          "name": "stdout",
          "text": [
            "cars can fly\n"
          ]
        }
      ]
    },
    {
      "cell_type": "code",
      "source": [
        "n.Torque()"
      ],
      "metadata": {
        "colab": {
          "base_uri": "https://localhost:8080/"
        },
        "id": "-wX7inZKt4wG",
        "outputId": "03a9d3e4-9d76-47f2-e0cb-2bd27b9a90f6"
      },
      "execution_count": null,
      "outputs": [
        {
          "output_type": "stream",
          "name": "stdout",
          "text": [
            "hiher torque  can increase speed\n"
          ]
        }
      ]
    },
    {
      "cell_type": "code",
      "source": [
        "m = Car()\n",
        "m.brake()"
      ],
      "metadata": {
        "colab": {
          "base_uri": "https://localhost:8080/"
        },
        "id": "1zuNE9TVci3U",
        "outputId": "1fc08d6f-393a-40b8-9bd7-f6dab67e72f9"
      },
      "execution_count": null,
      "outputs": [
        {
          "output_type": "stream",
          "name": "stdout",
          "text": [
            "car is stopping\n"
          ]
        }
      ]
    },
    {
      "cell_type": "code",
      "source": [
        "m.brake()"
      ],
      "metadata": {
        "colab": {
          "base_uri": "https://localhost:8080/"
        },
        "id": "oXVvwy2DfU_J",
        "outputId": "887381c7-3d27-443c-8f86-5cb9e3968115"
      },
      "execution_count": null,
      "outputs": [
        {
          "output_type": "stream",
          "name": "stdout",
          "text": [
            "car is stopping\n"
          ]
        }
      ]
    },
    {
      "cell_type": "code",
      "source": [
        "class Bank():\n",
        "  def deposit(self ,amount):\n",
        "    print('i am trying to deposit some money')\n",
        "  def withdram(sef, withdraw_amount):\n",
        "    print('i am trying to with draw some money')"
      ],
      "metadata": {
        "id": "amfMYpqjfWpO"
      },
      "execution_count": null,
      "outputs": []
    },
    {
      "cell_type": "code",
      "source": [
        "atul = Bank()"
      ],
      "metadata": {
        "id": "EnN7W8qQgz4y"
      },
      "execution_count": null,
      "outputs": []
    },
    {
      "cell_type": "code",
      "source": [
        "atul.deposit(200)"
      ],
      "metadata": {
        "colab": {
          "base_uri": "https://localhost:8080/"
        },
        "id": "IgNERvy0hFaR",
        "outputId": "973ba9f3-8de3-4506-80ee-12fcefc4c893"
      },
      "execution_count": null,
      "outputs": [
        {
          "output_type": "stream",
          "name": "stdout",
          "text": [
            "i am trying to deposit some money\n"
          ]
        }
      ]
    },
    {
      "cell_type": "code",
      "source": [
        "class Bank():\n",
        "  amt = 1000\n",
        "  def deposit(self ,amount):\n",
        "    print('i am trying to deposit some money')\n",
        "  def withdram(sef, withdraw_amount):\n",
        "    print('i am trying to with draw some money')"
      ],
      "metadata": {
        "id": "Ludk5zK-hG5f"
      },
      "execution_count": null,
      "outputs": []
    },
    {
      "cell_type": "code",
      "source": [
        "anna = Bank()"
      ],
      "metadata": {
        "id": "9SAHH8BflqjZ"
      },
      "execution_count": null,
      "outputs": []
    },
    {
      "cell_type": "code",
      "source": [
        "anna.amt"
      ],
      "metadata": {
        "colab": {
          "base_uri": "https://localhost:8080/"
        },
        "id": "YHJogUGnltOX",
        "outputId": "01a74e66-12f2-45dc-f84e-a5e45476126c"
      },
      "execution_count": null,
      "outputs": [
        {
          "output_type": "execute_result",
          "data": {
            "text/plain": [
              "1000"
            ]
          },
          "metadata": {},
          "execution_count": 4
        }
      ]
    },
    {
      "cell_type": "code",
      "source": [
        "anna.deposit(100)"
      ],
      "metadata": {
        "colab": {
          "base_uri": "https://localhost:8080/"
        },
        "id": "c6Iw5E_zluqk",
        "outputId": "42c0f0d3-aa92-443f-82b1-50159d967a96"
      },
      "execution_count": null,
      "outputs": [
        {
          "output_type": "stream",
          "name": "stdout",
          "text": [
            "i am trying to deposit some money\n"
          ]
        }
      ]
    },
    {
      "cell_type": "code",
      "source": [
        "class listops():\n",
        "\n",
        "\n",
        "  l =[1,2,3,4,5,6]\n",
        "\n",
        "\n",
        "  def even_no(self ,l):\n",
        "    l1 = []\n",
        "    for i in l :\n",
        "      if i % 2 == 0:\n",
        "        l1.append(i)\n",
        "    return l1\n",
        "\n",
        "  def odd_no(self ,l) :\n",
        "    l1 = []\n",
        "    for i in l1 :\n",
        "      if i % 2 == 1:\n",
        "        l1.append(i)\n",
        "    return l1"
      ],
      "metadata": {
        "id": "xxiCvkpxqCrm"
      },
      "execution_count": null,
      "outputs": []
    },
    {
      "cell_type": "code",
      "source": [
        "ops1 =listops()"
      ],
      "metadata": {
        "id": "5A8u0ghkttfY"
      },
      "execution_count": null,
      "outputs": []
    },
    {
      "cell_type": "code",
      "source": [
        "ops1.l"
      ],
      "metadata": {
        "colab": {
          "base_uri": "https://localhost:8080/"
        },
        "id": "k0m6To5utxry",
        "outputId": "e69ca86d-2d2f-43c3-b267-feb11f14c327"
      },
      "execution_count": null,
      "outputs": [
        {
          "output_type": "execute_result",
          "data": {
            "text/plain": [
              "[1, 2, 3, 4, 5, 6]"
            ]
          },
          "metadata": {},
          "execution_count": 11
        }
      ]
    },
    {
      "cell_type": "code",
      "source": [
        "ops1.even_no(ops1.l)"
      ],
      "metadata": {
        "id": "abIkYs6Kt1FN",
        "colab": {
          "base_uri": "https://localhost:8080/"
        },
        "outputId": "c425eb27-2e5c-4e9c-d6b2-a26326f3c3c3"
      },
      "execution_count": null,
      "outputs": [
        {
          "output_type": "execute_result",
          "data": {
            "text/plain": [
              "[2, 4, 6]"
            ]
          },
          "metadata": {},
          "execution_count": 12
        }
      ]
    },
    {
      "cell_type": "code",
      "source": [
        "class ListOps: ## have to do it once again\n",
        "    l = [1, 2, 3, 4, 5, 6]\n",
        "\n",
        "    def even_no(self, l):\n",
        "        l1 = []\n",
        "        for i in l:\n",
        "            if i % 2 == 0:\n",
        "                l1.append(i)\n",
        "        return l1\n",
        "\n",
        "    def odd_no(self, l):\n",
        "        l1 = []\n",
        "        for i in l:\n",
        "            if i % 2 == 1:\n",
        "                l1.append(i)\n",
        "        return l1\n",
        "\n"
      ],
      "metadata": {
        "id": "VtHQvK-LuFy3"
      },
      "execution_count": null,
      "outputs": []
    },
    {
      "cell_type": "code",
      "source": [
        "ops1 = ListOps()"
      ],
      "metadata": {
        "id": "m7RB_ew2wWmp"
      },
      "execution_count": null,
      "outputs": []
    },
    {
      "cell_type": "code",
      "source": [
        "ops1.l"
      ],
      "metadata": {
        "colab": {
          "base_uri": "https://localhost:8080/"
        },
        "id": "Lqyo6Wj3xASK",
        "outputId": "df2a785f-bcdf-4488-dcbb-dd5cf71e1afc"
      },
      "execution_count": null,
      "outputs": [
        {
          "output_type": "execute_result",
          "data": {
            "text/plain": [
              "[1, 2, 3, 4, 5, 6]"
            ]
          },
          "metadata": {},
          "execution_count": 5
        }
      ]
    },
    {
      "cell_type": "code",
      "source": [
        "ops1.even_no(ops1.l)"
      ],
      "metadata": {
        "colab": {
          "base_uri": "https://localhost:8080/"
        },
        "id": "gPvWGu2cxIRK",
        "outputId": "48ddb33e-c282-4c6f-d51f-f87e39e247fb"
      },
      "execution_count": null,
      "outputs": [
        {
          "output_type": "execute_result",
          "data": {
            "text/plain": [
              "[2, 4, 6]"
            ]
          },
          "metadata": {},
          "execution_count": 6
        }
      ]
    },
    {
      "cell_type": "code",
      "source": [
        "ops2 = ListOps()\n",
        "ops2.even_no(ops2.l)"
      ],
      "metadata": {
        "colab": {
          "base_uri": "https://localhost:8080/"
        },
        "id": "MVmq8gs5xSfU",
        "outputId": "7ab7b537-77d5-4291-ac4b-07089efd6b53"
      },
      "execution_count": null,
      "outputs": [
        {
          "output_type": "execute_result",
          "data": {
            "text/plain": [
              "[2, 4, 6]"
            ]
          },
          "metadata": {},
          "execution_count": 8
        }
      ]
    },
    {
      "cell_type": "code",
      "source": [
        "class listops():\n",
        "\n",
        "\n",
        "  l =[1,2,3,4,5,6]\n",
        "\n",
        "\n",
        "  def even_no(self ,l):\n",
        "    l1 = []\n",
        "    for i in l :\n",
        "      if i % 2 == 0:\n",
        "        l1.append(i)\n",
        "    return l1\n",
        "\n",
        "  def odd_no(self ,l) :\n",
        "    l1 = []\n",
        "    for i in l1 :\n",
        "      if i % 2 == 1:\n",
        "        l1.append(i)\n",
        "    return l1"
      ],
      "metadata": {
        "id": "RKdFa1vLxemR"
      },
      "execution_count": null,
      "outputs": []
    },
    {
      "cell_type": "code",
      "source": [
        "class Listops:\n",
        "\n",
        "\n",
        "  l = [1,2,3,4,5,6] ## please do this once agai while doing revision\n",
        "\n",
        "  def extract_even(self,l):\n",
        "    l1 =[]\n",
        "    for i in l :\n",
        "      if i % 2 == 0:\n",
        "           l1.append(i)\n",
        "    return l1\n",
        "\n",
        "  def extract_odd(self,l):\n",
        "    l1 =[]\n",
        "    for i in l :\n",
        "        if i % 2 == 1:\n",
        "           l1.append(i)\n",
        "    return l1\n",
        "\n"
      ],
      "metadata": {
        "id": "vtl43oRfuv-a"
      },
      "execution_count": 24,
      "outputs": []
    },
    {
      "cell_type": "code",
      "source": [
        "\n"
      ],
      "metadata": {
        "id": "alTeCFg6gOgk"
      },
      "execution_count": 23,
      "outputs": []
    },
    {
      "cell_type": "code",
      "source": [],
      "metadata": {
        "id": "Wz6F-TVxgOW8"
      },
      "execution_count": null,
      "outputs": []
    },
    {
      "cell_type": "code",
      "source": [
        "ops1 = Listops()"
      ],
      "metadata": {
        "id": "GlQ-9V3CuxtU"
      },
      "execution_count": 21,
      "outputs": []
    },
    {
      "cell_type": "code",
      "source": [
        "ops1.l"
      ],
      "metadata": {
        "colab": {
          "base_uri": "https://localhost:8080/"
        },
        "id": "P4s3QUqifK8R",
        "outputId": "f066f88a-052e-419c-db8c-62aa2e628a58"
      },
      "execution_count": 22,
      "outputs": [
        {
          "output_type": "execute_result",
          "data": {
            "text/plain": [
              "[1, 2, 3, 4, 5, 6]"
            ]
          },
          "metadata": {},
          "execution_count": 22
        }
      ]
    },
    {
      "cell_type": "code",
      "source": [
        "ops1.extract_even(ops1.l)"
      ],
      "metadata": {
        "colab": {
          "base_uri": "https://localhost:8080/"
        },
        "id": "5FE-QJYofSPF",
        "outputId": "3bb4a1ae-68d2-4f8c-e244-dca6fef02a8b"
      },
      "execution_count": 23,
      "outputs": [
        {
          "output_type": "execute_result",
          "data": {
            "text/plain": [
              "[2, 4, 6]"
            ]
          },
          "metadata": {},
          "execution_count": 23
        }
      ]
    },
    {
      "cell_type": "code",
      "source": [
        "ops1.extract_odd(ops1.l)"
      ],
      "metadata": {
        "colab": {
          "base_uri": "https://localhost:8080/"
        },
        "id": "y2OsxXPvfWo0",
        "outputId": "62a6c39a-39b8-408d-b09e-aa2e56f96ee1"
      },
      "execution_count": 25,
      "outputs": [
        {
          "output_type": "execute_result",
          "data": {
            "text/plain": [
              "[1, 3, 5]"
            ]
          },
          "metadata": {},
          "execution_count": 25
        }
      ]
    },
    {
      "cell_type": "code",
      "source": [
        "ops2 = Listops()"
      ],
      "metadata": {
        "id": "4DeimSNKhevw"
      },
      "execution_count": 26,
      "outputs": []
    },
    {
      "cell_type": "code",
      "source": [
        "ops2.extract_even(ops2.l)"
      ],
      "metadata": {
        "colab": {
          "base_uri": "https://localhost:8080/"
        },
        "id": "9grHXVEfhpxH",
        "outputId": "b332726b-a26d-4b3f-b9f9-34c67a3b353e"
      },
      "execution_count": 27,
      "outputs": [
        {
          "output_type": "execute_result",
          "data": {
            "text/plain": [
              "[2, 4, 6]"
            ]
          },
          "metadata": {},
          "execution_count": 27
        }
      ]
    },
    {
      "cell_type": "code",
      "source": [
        "class Listops:\n",
        "  def __init__(self,l):\n",
        "    self.l = l\n",
        "\n",
        "\n",
        " ## please do this once agai while doing revision\n",
        "\n",
        "  def extract_even(self):\n",
        "     l = self.l\n",
        "     l1 =[]\n",
        "     for i in l :\n",
        "      if i % 2 == 0:\n",
        "           l1.append(i)\n",
        "     return l1\n",
        "\n",
        "  def extract_odd(self):\n",
        "    l = self.l\n",
        "    l1 =[]\n",
        "    for i in l :\n",
        "        if i % 2 == 1:\n",
        "           l1.append(i)\n",
        "    return l1\n",
        "\n"
      ],
      "metadata": {
        "id": "Ih-_N2eghuIu"
      },
      "execution_count": 35,
      "outputs": []
    },
    {
      "cell_type": "code",
      "source": [
        "obj1 = Listops([1,2,3,4,5])\n",
        "obj1.extract_even()"
      ],
      "metadata": {
        "colab": {
          "base_uri": "https://localhost:8080/"
        },
        "id": "8v9c4QzGk9Fi",
        "outputId": "61b39b70-b2ef-401c-a0ae-933e1aaa5025"
      },
      "execution_count": 40,
      "outputs": [
        {
          "output_type": "execute_result",
          "data": {
            "text/plain": [
              "[2, 4]"
            ]
          },
          "metadata": {},
          "execution_count": 40
        }
      ]
    },
    {
      "cell_type": "code",
      "source": [
        "obj2 = Listops([1,2,3,10,5])\n",
        "obj2.extract_even()"
      ],
      "metadata": {
        "colab": {
          "base_uri": "https://localhost:8080/"
        },
        "id": "77mU-eTZk9DY",
        "outputId": "e8e835fc-8cb7-4aa4-ca01-10e358920c9b"
      },
      "execution_count": 43,
      "outputs": [
        {
          "output_type": "execute_result",
          "data": {
            "text/plain": [
              "[2, 10]"
            ]
          },
          "metadata": {},
          "execution_count": 43
        }
      ]
    },
    {
      "cell_type": "code",
      "source": [
        "class Book:\n",
        "  def __init__(self ,name,author,title):\n",
        "    self.name_of_the_book = name\n",
        "    self.book_author = author\n",
        "    self.title_name = title\n",
        "\n",
        "  def extract_details_name_title(self):\n",
        "    print( self.name_of_the_book,self.title_name)\n",
        "\n",
        "  def extract_details_name_author(self):\n",
        "    print( self.name_of_the_book,self.book_author)\n",
        "\n",
        "\n",
        "\n",
        "\n",
        "\n",
        "\n",
        ""
      ],
      "metadata": {
        "id": "igdvc2p5k9A8"
      },
      "execution_count": 44,
      "outputs": []
    },
    {
      "cell_type": "code",
      "source": [
        "student1 = Book('ML','murphy','Linear regression')"
      ],
      "metadata": {
        "id": "H94Rkr2-k8-p"
      },
      "execution_count": 45,
      "outputs": []
    },
    {
      "cell_type": "code",
      "source": [
        "student1.book_author"
      ],
      "metadata": {
        "colab": {
          "base_uri": "https://localhost:8080/",
          "height": 35
        },
        "id": "IYYqn9YlweI_",
        "outputId": "fcd416ec-8c71-461f-f1aa-a4323d623a3f"
      },
      "execution_count": 47,
      "outputs": [
        {
          "output_type": "execute_result",
          "data": {
            "text/plain": [
              "'murphy'"
            ],
            "application/vnd.google.colaboratory.intrinsic+json": {
              "type": "string"
            }
          },
          "metadata": {},
          "execution_count": 47
        }
      ]
    },
    {
      "cell_type": "code",
      "source": [
        "student1.title_name"
      ],
      "metadata": {
        "colab": {
          "base_uri": "https://localhost:8080/",
          "height": 35
        },
        "id": "U2EvuU4Twjv5",
        "outputId": "59aaf19c-d983-47e4-c911-dcf714919124"
      },
      "execution_count": 48,
      "outputs": [
        {
          "output_type": "execute_result",
          "data": {
            "text/plain": [
              "'Linear regression'"
            ],
            "application/vnd.google.colaboratory.intrinsic+json": {
              "type": "string"
            }
          },
          "metadata": {},
          "execution_count": 48
        }
      ]
    },
    {
      "cell_type": "code",
      "source": [
        "student2 = Book('DL','ABC' ,'CNN')"
      ],
      "metadata": {
        "id": "QRv9ZwphwsRH"
      },
      "execution_count": 49,
      "outputs": []
    },
    {
      "cell_type": "code",
      "source": [
        "student2.title_name"
      ],
      "metadata": {
        "colab": {
          "base_uri": "https://localhost:8080/",
          "height": 35
        },
        "id": "bn8ouCbow4LZ",
        "outputId": "9f43e47f-506f-4484-b8ac-8328ad1c4054"
      },
      "execution_count": 50,
      "outputs": [
        {
          "output_type": "execute_result",
          "data": {
            "text/plain": [
              "'CNN'"
            ],
            "application/vnd.google.colaboratory.intrinsic+json": {
              "type": "string"
            }
          },
          "metadata": {},
          "execution_count": 50
        }
      ]
    },
    {
      "cell_type": "code",
      "source": [
        "class Book:\n",
        "  def __init__(self ):\n",
        "    self.name_of_the_book = 'Dsa'\n",
        "    self.book_author = 'cormen'\n",
        "    self.title_name = 'Stacks'\n",
        "\n",
        "  def extract_details_name_title(self):\n",
        "    print( self.name_of_the_book,self.title_name)\n",
        "\n",
        "  def extract_details_name_author(self):\n",
        "    print( self.name_of_the_book,self.book_author)\n",
        "\n",
        "\n",
        "\n",
        "\n",
        "\n",
        "\n",
        ""
      ],
      "metadata": {
        "id": "66cRHT9jw9vK"
      },
      "execution_count": 52,
      "outputs": []
    },
    {
      "cell_type": "code",
      "source": [
        "s1  = Book()\n",
        "s1.extract_details_name_title()"
      ],
      "metadata": {
        "colab": {
          "base_uri": "https://localhost:8080/"
        },
        "id": "xa-kWlzQzGXC",
        "outputId": "d36286f4-6058-40c1-e62c-a840d7bd9c86"
      },
      "execution_count": 53,
      "outputs": [
        {
          "output_type": "stream",
          "name": "stdout",
          "text": [
            "Dsa Stacks\n"
          ]
        }
      ]
    },
    {
      "cell_type": "code",
      "source": [
        "s2  = Book()\n",
        "s2.extract_details_name_title()"
      ],
      "metadata": {
        "colab": {
          "base_uri": "https://localhost:8080/"
        },
        "id": "yG0w89aLzZZY",
        "outputId": "6eb0b95e-646b-4549-8e95-3fc01b5b7bab"
      },
      "execution_count": 54,
      "outputs": [
        {
          "output_type": "stream",
          "name": "stdout",
          "text": [
            "Dsa Stacks\n"
          ]
        }
      ]
    },
    {
      "cell_type": "code",
      "source": [],
      "metadata": {
        "id": "WXtKDurMzgqU"
      },
      "execution_count": null,
      "outputs": []
    }
  ]
}