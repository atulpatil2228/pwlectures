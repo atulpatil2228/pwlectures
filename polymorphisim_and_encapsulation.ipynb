{
  "nbformat": 4,
  "nbformat_minor": 0,
  "metadata": {
    "colab": {
      "provenance": [],
      "authorship_tag": "ABX9TyNUWuiFhEG3KGDHLnbnYWr8",
      "include_colab_link": true
    },
    "kernelspec": {
      "name": "python3",
      "display_name": "Python 3"
    },
    "language_info": {
      "name": "python"
    }
  },
  "cells": [
    {
      "cell_type": "markdown",
      "metadata": {
        "id": "view-in-github",
        "colab_type": "text"
      },
      "source": [
        "<a href=\"https://colab.research.google.com/github/atulpatil2228/pwlectures/blob/main/polymorphisim_and_encapsulation.ipynb\" target=\"_parent\"><img src=\"https://colab.research.google.com/assets/colab-badge.svg\" alt=\"Open In Colab\"/></a>"
      ]
    },
    {
      "cell_type": "code",
      "execution_count": 8,
      "metadata": {
        "id": "FxgJbZPeO9eL"
      },
      "outputs": [],
      "source": [
        "##polymorphisim >> poly means many ,morphisim means forms/sates\n",
        "## refres to an object takig several forms depending on data"
      ]
    },
    {
      "cell_type": "code",
      "source": [
        "len('atul')"
      ],
      "metadata": {
        "colab": {
          "base_uri": "https://localhost:8080/"
        },
        "id": "XThJPXdsRl2u",
        "outputId": "e564e7fa-3286-4341-b210-a5db568170ad"
      },
      "execution_count": 89,
      "outputs": [
        {
          "output_type": "execute_result",
          "data": {
            "text/plain": [
              "4"
            ]
          },
          "metadata": {},
          "execution_count": 89
        }
      ]
    },
    {
      "cell_type": "code",
      "source": [
        "len([1,23,45,6])"
      ],
      "metadata": {
        "colab": {
          "base_uri": "https://localhost:8080/"
        },
        "id": "fCYwgaIMSOzF",
        "outputId": "7a7745c7-2546-46b3-daed-15e8e20981e6"
      },
      "execution_count": 3,
      "outputs": [
        {
          "output_type": "execute_result",
          "data": {
            "text/plain": [
              "4"
            ]
          },
          "metadata": {},
          "execution_count": 3
        }
      ]
    },
    {
      "cell_type": "code",
      "source": [
        "def func(a,b):\n",
        "  return a+b"
      ],
      "metadata": {
        "id": "WS2PF_-YSRXg"
      },
      "execution_count": 4,
      "outputs": []
    },
    {
      "cell_type": "code",
      "source": [
        "func(2,3)"
      ],
      "metadata": {
        "colab": {
          "base_uri": "https://localhost:8080/"
        },
        "id": "dGOqpRBKSVp0",
        "outputId": "765588c6-bbcb-4f65-9325-025ce6b3ce71"
      },
      "execution_count": 5,
      "outputs": [
        {
          "output_type": "execute_result",
          "data": {
            "text/plain": [
              "5"
            ]
          },
          "metadata": {},
          "execution_count": 5
        }
      ]
    },
    {
      "cell_type": "code",
      "source": [
        "func('pw' ,'skills')"
      ],
      "metadata": {
        "colab": {
          "base_uri": "https://localhost:8080/",
          "height": 36
        },
        "id": "7FAnd4ybSYTi",
        "outputId": "af62146f-5e31-40b5-a4db-86035a7f3a5b"
      },
      "execution_count": 6,
      "outputs": [
        {
          "output_type": "execute_result",
          "data": {
            "text/plain": [
              "'pwskills'"
            ],
            "application/vnd.google.colaboratory.intrinsic+json": {
              "type": "string"
            }
          },
          "metadata": {},
          "execution_count": 6
        }
      ]
    },
    {
      "cell_type": "code",
      "source": [
        "func([1,2,3] ,[4,5,6])"
      ],
      "metadata": {
        "colab": {
          "base_uri": "https://localhost:8080/"
        },
        "id": "S6yi24eYSdmu",
        "outputId": "a9bfcbe0-7242-4559-e65d-ae6d77bacf19"
      },
      "execution_count": 7,
      "outputs": [
        {
          "output_type": "execute_result",
          "data": {
            "text/plain": [
              "[1, 2, 3, 4, 5, 6]"
            ]
          },
          "metadata": {},
          "execution_count": 7
        }
      ]
    },
    {
      "cell_type": "code",
      "source": [
        "class Teacher_lecture:\n",
        "  def lec_info(self):\n",
        "    print('This is lec info with teacher prespective')\n",
        "\n",
        "class Student_lecture:\n",
        "  def lec_info(self):\n",
        "    print('This is lec info with teacher prespective')\n",
        "\n",
        "def parcer(class_obj):\n",
        "  for i in class_obj:\n",
        "    i.lec_info()\n",
        "\n"
      ],
      "metadata": {
        "id": "RZztdDxbSkJU"
      },
      "execution_count": 2,
      "outputs": []
    },
    {
      "cell_type": "code",
      "source": [
        "obj1 = Teacher_lecture()\n",
        "obj2 = Student_lecture()"
      ],
      "metadata": {
        "id": "kATpGvOltrsN"
      },
      "execution_count": 3,
      "outputs": []
    },
    {
      "cell_type": "code",
      "source": [
        "class_obj = [obj1,obj2]"
      ],
      "metadata": {
        "id": "0CgQvRw3tyyI"
      },
      "execution_count": 5,
      "outputs": []
    },
    {
      "cell_type": "code",
      "source": [
        "parcer(class_obj)"
      ],
      "metadata": {
        "colab": {
          "base_uri": "https://localhost:8080/"
        },
        "id": "tHoMuP2xt1Yq",
        "outputId": "ab938cee-d875-43f6-970e-036175950589"
      },
      "execution_count": 6,
      "outputs": [
        {
          "output_type": "stream",
          "name": "stdout",
          "text": [
            "This is lec info with teacher prespective\n",
            "This is lec info with teacher prespective\n"
          ]
        }
      ]
    },
    {
      "cell_type": "code",
      "source": [
        "## polymorphisim >> Method overloading ,Method overriding"
      ],
      "metadata": {
        "id": "3AB1HzxHuCrU"
      },
      "execution_count": 7,
      "outputs": []
    },
    {
      "cell_type": "code",
      "source": [
        "## method over loading >> student is taking different forms,the last method over rides the previous one\n",
        "\n",
        "class Student :\n",
        "\n",
        "  def student(self):\n",
        "    print('Welcome to pwskills class')\n",
        "  def student(self ,name = ''):\n",
        "    print('Welcome to pwskills class' ,name)\n",
        "\n",
        "  def student(self ,name = '',course = ''):\n",
        "    print('Welcome to pwskills class' ,name,course)\n",
        "\n",
        "\n",
        "\n"
      ],
      "metadata": {
        "id": "ijSkmKhNuU5j"
      },
      "execution_count": 19,
      "outputs": []
    },
    {
      "cell_type": "code",
      "source": [
        "stud = Student()"
      ],
      "metadata": {
        "id": "_Lsf3Qjav6OC"
      },
      "execution_count": 15,
      "outputs": []
    },
    {
      "cell_type": "code",
      "source": [
        "stud.student()"
      ],
      "metadata": {
        "colab": {
          "base_uri": "https://localhost:8080/"
        },
        "id": "FrJKnBUlv9h0",
        "outputId": "f7b22d9c-53c5-4f80-d9a2-7dec7551d549"
      },
      "execution_count": 16,
      "outputs": [
        {
          "output_type": "stream",
          "name": "stdout",
          "text": [
            "Welcome to pwskills class  \n"
          ]
        }
      ]
    },
    {
      "cell_type": "code",
      "source": [
        "stud.student('atul' ,'ds')"
      ],
      "metadata": {
        "colab": {
          "base_uri": "https://localhost:8080/"
        },
        "id": "2_Vxb14Gv_VZ",
        "outputId": "0fbc11b3-4071-453e-b9bc-d63e55d58083"
      },
      "execution_count": 17,
      "outputs": [
        {
          "output_type": "stream",
          "name": "stdout",
          "text": [
            "Welcome to pwskills class atul ds\n"
          ]
        }
      ]
    },
    {
      "cell_type": "code",
      "source": [
        "stud.student('atul')"
      ],
      "metadata": {
        "colab": {
          "base_uri": "https://localhost:8080/"
        },
        "id": "LgPEppTQwBif",
        "outputId": "4fba032f-7091-4f0c-e6ba-223c86138b1d"
      },
      "execution_count": 18,
      "outputs": [
        {
          "output_type": "stream",
          "name": "stdout",
          "text": [
            "Welcome to pwskills class atul \n"
          ]
        }
      ]
    },
    {
      "cell_type": "code",
      "source": [
        "class Student :\n",
        "\n",
        "\n",
        "\n",
        "  def student(self ,name = '',course = ''):\n",
        "    print('Welcome to pwskills class' ,name,course)"
      ],
      "metadata": {
        "id": "kZdg88-VwbUl"
      },
      "execution_count": 20,
      "outputs": []
    },
    {
      "cell_type": "code",
      "source": [
        "stud = Student()"
      ],
      "metadata": {
        "id": "LfcI0XlixI5d"
      },
      "execution_count": 21,
      "outputs": []
    },
    {
      "cell_type": "code",
      "source": [
        "stud.student('atul' ,'ds')"
      ],
      "metadata": {
        "colab": {
          "base_uri": "https://localhost:8080/"
        },
        "id": "mKboCPNyxKi1",
        "outputId": "06cab7b7-98ae-427a-b672-20891b0f3dd5"
      },
      "execution_count": 22,
      "outputs": [
        {
          "output_type": "stream",
          "name": "stdout",
          "text": [
            "Welcome to pwskills class atul ds\n"
          ]
        }
      ]
    },
    {
      "cell_type": "code",
      "source": [
        "stud.student('atul')"
      ],
      "metadata": {
        "colab": {
          "base_uri": "https://localhost:8080/"
        },
        "id": "w9b7gSFrxOGY",
        "outputId": "8b99a4a6-c714-4558-ecce-6715c37df2c8"
      },
      "execution_count": 23,
      "outputs": [
        {
          "output_type": "stream",
          "name": "stdout",
          "text": [
            "Welcome to pwskills class atul \n"
          ]
        }
      ]
    },
    {
      "cell_type": "code",
      "source": [
        "## Method overriding >> method in paret  calss ad child class with same sigature ,the child class method will be executed"
      ],
      "metadata": {
        "id": "gKboSfBixQaJ"
      },
      "execution_count": 25,
      "outputs": []
    },
    {
      "cell_type": "code",
      "source": [
        "class Animal :\n",
        "  def sound(self):\n",
        "    print('animal sound ')\n",
        "\n",
        "class Cat:\n",
        "  def sound(self):\n",
        "    print('cat sound')\n",
        "\n"
      ],
      "metadata": {
        "id": "uXOJju-nyR9C"
      },
      "execution_count": 26,
      "outputs": []
    },
    {
      "cell_type": "code",
      "source": [
        "cat =  Cat()"
      ],
      "metadata": {
        "id": "lonYQd5u0--C"
      },
      "execution_count": 27,
      "outputs": []
    },
    {
      "cell_type": "code",
      "source": [
        "cat.sound()"
      ],
      "metadata": {
        "colab": {
          "base_uri": "https://localhost:8080/"
        },
        "id": "iL6wRRfy1Bnh",
        "outputId": "a2bd0b27-1da6-43d4-c86e-e3586b84d094"
      },
      "execution_count": 28,
      "outputs": [
        {
          "output_type": "stream",
          "name": "stdout",
          "text": [
            "cat sound\n"
          ]
        }
      ]
    },
    {
      "cell_type": "code",
      "source": [
        "## Encapsulation >>> means hiding something\n",
        "## Bundling of data and methods\n",
        "## accsess modifier >> public,protected ,private"
      ],
      "metadata": {
        "id": "P4M_0psL1Cxn"
      },
      "execution_count": 30,
      "outputs": []
    },
    {
      "cell_type": "code",
      "source": [
        "## Public >> accessible from anywhere from outside/inside\n",
        "\n",
        "class Student:\n",
        "  def __init__(self ,name,degree):\n",
        "    self.name = name\n",
        "    self.degree = degree\n",
        ""
      ],
      "metadata": {
        "id": "BwN1JN-z1Z4F"
      },
      "execution_count": 31,
      "outputs": []
    },
    {
      "cell_type": "code",
      "source": [
        "stud = Student('atul' ,'bsc')"
      ],
      "metadata": {
        "id": "tCkaJO-u3j-b"
      },
      "execution_count": 33,
      "outputs": []
    },
    {
      "cell_type": "code",
      "source": [
        "stud.degree"
      ],
      "metadata": {
        "colab": {
          "base_uri": "https://localhost:8080/",
          "height": 36
        },
        "id": "uE6fYLQU3mIb",
        "outputId": "6110d5c4-379b-41df-d503-356048390791"
      },
      "execution_count": 34,
      "outputs": [
        {
          "output_type": "execute_result",
          "data": {
            "text/plain": [
              "'bsc'"
            ],
            "application/vnd.google.colaboratory.intrinsic+json": {
              "type": "string"
            }
          },
          "metadata": {},
          "execution_count": 34
        }
      ]
    },
    {
      "cell_type": "code",
      "source": [
        "stud.name"
      ],
      "metadata": {
        "colab": {
          "base_uri": "https://localhost:8080/",
          "height": 36
        },
        "id": "STCvzMqs3rhG",
        "outputId": "5d8424da-7f12-40b1-e8b3-a0c148254d45"
      },
      "execution_count": 35,
      "outputs": [
        {
          "output_type": "execute_result",
          "data": {
            "text/plain": [
              "'atul'"
            ],
            "application/vnd.google.colaboratory.intrinsic+json": {
              "type": "string"
            }
          },
          "metadata": {},
          "execution_count": 35
        }
      ]
    },
    {
      "cell_type": "code",
      "source": [
        "stud.degree = 'phd'"
      ],
      "metadata": {
        "id": "_lE-Tg_h3tHD"
      },
      "execution_count": 36,
      "outputs": []
    },
    {
      "cell_type": "code",
      "source": [
        "stud.degree"
      ],
      "metadata": {
        "colab": {
          "base_uri": "https://localhost:8080/",
          "height": 36
        },
        "id": "-jQLYIFd3wMF",
        "outputId": "9202e7ac-e208-4a5a-800a-5c592b975e30"
      },
      "execution_count": 37,
      "outputs": [
        {
          "output_type": "execute_result",
          "data": {
            "text/plain": [
              "'phd'"
            ],
            "application/vnd.google.colaboratory.intrinsic+json": {
              "type": "string"
            }
          },
          "metadata": {},
          "execution_count": 37
        }
      ]
    },
    {
      "cell_type": "code",
      "source": [
        "### private  >> within the class only its accessible , use two__ to make private\n",
        "class Student:\n",
        "  def __init__(self ,name,degree):\n",
        "    self.name = name\n",
        "    self.__degree = degree\n",
        "\n",
        "\n",
        "   # def show():\n",
        "   ### accessig the public and private data member\n",
        "     # print('name' ,self.name ,'degree',self.__degree)"
      ],
      "metadata": {
        "id": "6-K7FMtV3yDH"
      },
      "execution_count": 40,
      "outputs": []
    },
    {
      "cell_type": "code",
      "source": [
        "stud = Student('atul' ,'bsc')"
      ],
      "metadata": {
        "id": "tpDZQyUr43uG"
      },
      "execution_count": 55,
      "outputs": []
    },
    {
      "cell_type": "code",
      "source": [
        "stud.name"
      ],
      "metadata": {
        "colab": {
          "base_uri": "https://localhost:8080/",
          "height": 36
        },
        "id": "lovTFJjm54gF",
        "outputId": "e1ad4fad-95c1-416b-d54d-ebd94f40b687"
      },
      "execution_count": 43,
      "outputs": [
        {
          "output_type": "execute_result",
          "data": {
            "text/plain": [
              "'atul'"
            ],
            "application/vnd.google.colaboratory.intrinsic+json": {
              "type": "string"
            }
          },
          "metadata": {},
          "execution_count": 43
        }
      ]
    },
    {
      "cell_type": "code",
      "source": [
        "stud.degree"
      ],
      "metadata": {
        "colab": {
          "base_uri": "https://localhost:8080/",
          "height": 145
        },
        "id": "-lnaW2bD57E-",
        "outputId": "9b9000e9-6cef-498c-bc59-881b5ccd5876"
      },
      "execution_count": 44,
      "outputs": [
        {
          "output_type": "error",
          "ename": "AttributeError",
          "evalue": "'Student' object has no attribute 'degree'",
          "traceback": [
            "\u001b[0;31m---------------------------------------------------------------------------\u001b[0m",
            "\u001b[0;31mAttributeError\u001b[0m                            Traceback (most recent call last)",
            "\u001b[0;32m<ipython-input-44-ede7020f18af>\u001b[0m in \u001b[0;36m<cell line: 0>\u001b[0;34m()\u001b[0m\n\u001b[0;32m----> 1\u001b[0;31m \u001b[0mstud\u001b[0m\u001b[0;34m.\u001b[0m\u001b[0mdegree\u001b[0m\u001b[0;34m\u001b[0m\u001b[0;34m\u001b[0m\u001b[0m\n\u001b[0m",
            "\u001b[0;31mAttributeError\u001b[0m: 'Student' object has no attribute 'degree'"
          ]
        }
      ]
    },
    {
      "cell_type": "code",
      "source": [],
      "metadata": {
        "id": "u0N3Oysr5-5M"
      },
      "execution_count": 46,
      "outputs": []
    },
    {
      "cell_type": "code",
      "source": [
        "## like this we access\n",
        "stud._Student__degree"
      ],
      "metadata": {
        "colab": {
          "base_uri": "https://localhost:8080/",
          "height": 36
        },
        "id": "mAzFXmwZ6GhP",
        "outputId": "cbd412ef-24a5-4687-8b8e-c495c7d41bc5"
      },
      "execution_count": 50,
      "outputs": [
        {
          "output_type": "execute_result",
          "data": {
            "text/plain": [
              "'bsc'"
            ],
            "application/vnd.google.colaboratory.intrinsic+json": {
              "type": "string"
            }
          },
          "metadata": {},
          "execution_count": 50
        }
      ]
    },
    {
      "cell_type": "code",
      "source": [
        "class Student:\n",
        "  def __init__(self ,name,degree):\n",
        "    self.name = name\n",
        "    self.__degree = degree\n",
        "\n",
        "\n",
        "  def show (self):\n",
        "   ### accessig the public and private data member\n",
        "      print('name' ,self.name ,'degree',self.__degree)"
      ],
      "metadata": {
        "id": "7ZQXVvr66RER"
      },
      "execution_count": 59,
      "outputs": []
    },
    {
      "cell_type": "code",
      "source": [
        "stud.show"
      ],
      "metadata": {
        "colab": {
          "base_uri": "https://localhost:8080/",
          "height": 145
        },
        "id": "65c4dqfa7LoZ",
        "outputId": "a414d48a-cb3d-4952-ba94-67cf5b52e22e"
      },
      "execution_count": 60,
      "outputs": [
        {
          "output_type": "error",
          "ename": "AttributeError",
          "evalue": "'Student' object has no attribute 'show'",
          "traceback": [
            "\u001b[0;31m---------------------------------------------------------------------------\u001b[0m",
            "\u001b[0;31mAttributeError\u001b[0m                            Traceback (most recent call last)",
            "\u001b[0;32m<ipython-input-60-73c2401e3311>\u001b[0m in \u001b[0;36m<cell line: 0>\u001b[0;34m()\u001b[0m\n\u001b[0;32m----> 1\u001b[0;31m \u001b[0mstud\u001b[0m\u001b[0;34m.\u001b[0m\u001b[0mshow\u001b[0m\u001b[0;34m\u001b[0m\u001b[0;34m\u001b[0m\u001b[0m\n\u001b[0m",
            "\u001b[0;31mAttributeError\u001b[0m: 'Student' object has no attribute 'show'"
          ]
        }
      ]
    },
    {
      "cell_type": "code",
      "source": [
        "stud."
      ],
      "metadata": {
        "colab": {
          "base_uri": "https://localhost:8080/",
          "height": 145
        },
        "id": "_5VeLb1l6yec",
        "outputId": "39859317-b001-470f-9310-302e1f8950b3"
      },
      "execution_count": 56,
      "outputs": [
        {
          "output_type": "error",
          "ename": "AttributeError",
          "evalue": "'Student' object has no attribute 'show'",
          "traceback": [
            "\u001b[0;31m---------------------------------------------------------------------------\u001b[0m",
            "\u001b[0;31mAttributeError\u001b[0m                            Traceback (most recent call last)",
            "\u001b[0;32m<ipython-input-56-3725f4f8e02c>\u001b[0m in \u001b[0;36m<cell line: 0>\u001b[0;34m()\u001b[0m\n\u001b[0;32m----> 1\u001b[0;31m \u001b[0mstud\u001b[0m\u001b[0;34m.\u001b[0m\u001b[0mshow\u001b[0m\u001b[0;34m(\u001b[0m\u001b[0;34m)\u001b[0m\u001b[0;34m\u001b[0m\u001b[0;34m\u001b[0m\u001b[0m\n\u001b[0m",
            "\u001b[0;31mAttributeError\u001b[0m: 'Student' object has no attribute 'show'"
          ]
        }
      ]
    },
    {
      "cell_type": "code",
      "source": [
        "class Car :\n",
        "  def __init__(self,year,make,speed,model):\n",
        "    self.__year = year\n",
        "    self.__make = make\n",
        "    self.__speed = speed\n",
        "    self.__model = model\n",
        "\n",
        "\n",
        "  def set_speed(self,speed):\n",
        "    self.__speed = 0 if speed < 0 else speed\n",
        "\n",
        "\n",
        "  def get_speed(self):\n",
        "    return self.__speed\n"
      ],
      "metadata": {
        "id": "OkXtfDFz66R8"
      },
      "execution_count": 67,
      "outputs": []
    },
    {
      "cell_type": "code",
      "source": [
        "car = Car('1999','Maruti' ,'10000','ciaz')"
      ],
      "metadata": {
        "id": "GaLshFJHI1f6"
      },
      "execution_count": 68,
      "outputs": []
    },
    {
      "cell_type": "code",
      "source": [
        "car._Car__speed"
      ],
      "metadata": {
        "colab": {
          "base_uri": "https://localhost:8080/",
          "height": 36
        },
        "id": "w-cEkQSnJAxX",
        "outputId": "98d27172-b29d-4d12-b01b-f6b02d0afdb3"
      },
      "execution_count": 64,
      "outputs": [
        {
          "output_type": "execute_result",
          "data": {
            "text/plain": [
              "'10000'"
            ],
            "application/vnd.google.colaboratory.intrinsic+json": {
              "type": "string"
            }
          },
          "metadata": {},
          "execution_count": 64
        }
      ]
    },
    {
      "cell_type": "code",
      "source": [
        "car._Car__model\n"
      ],
      "metadata": {
        "colab": {
          "base_uri": "https://localhost:8080/",
          "height": 36
        },
        "id": "BAcw3sW2JGo0",
        "outputId": "acd18502-dbd3-482a-dd4f-63f124c7a6ad"
      },
      "execution_count": 65,
      "outputs": [
        {
          "output_type": "execute_result",
          "data": {
            "text/plain": [
              "'ciaz'"
            ],
            "application/vnd.google.colaboratory.intrinsic+json": {
              "type": "string"
            }
          },
          "metadata": {},
          "execution_count": 65
        }
      ]
    },
    {
      "cell_type": "code",
      "source": [
        "car._Car__make"
      ],
      "metadata": {
        "colab": {
          "base_uri": "https://localhost:8080/",
          "height": 36
        },
        "id": "X3EVlfnvJLpN",
        "outputId": "e337539c-eea0-4d00-c15d-d485fe1a232c"
      },
      "execution_count": 66,
      "outputs": [
        {
          "output_type": "execute_result",
          "data": {
            "text/plain": [
              "'Maruti'"
            ],
            "application/vnd.google.colaboratory.intrinsic+json": {
              "type": "string"
            }
          },
          "metadata": {},
          "execution_count": 66
        }
      ]
    },
    {
      "cell_type": "code",
      "source": [
        "car.get_speed()"
      ],
      "metadata": {
        "colab": {
          "base_uri": "https://localhost:8080/",
          "height": 36
        },
        "id": "ajIZpguxJN6b",
        "outputId": "aabbe6a1-c92d-4279-8e29-00cb1fd66661"
      },
      "execution_count": 72,
      "outputs": [
        {
          "output_type": "execute_result",
          "data": {
            "text/plain": [
              "'10000'"
            ],
            "application/vnd.google.colaboratory.intrinsic+json": {
              "type": "string"
            }
          },
          "metadata": {},
          "execution_count": 72
        }
      ]
    },
    {
      "cell_type": "code",
      "source": [
        "car.set_speed(-2)"
      ],
      "metadata": {
        "id": "fgX521DaKpD2"
      },
      "execution_count": 73,
      "outputs": []
    },
    {
      "cell_type": "code",
      "source": [
        "car.get_speed()"
      ],
      "metadata": {
        "colab": {
          "base_uri": "https://localhost:8080/"
        },
        "id": "uAMzwd5rKpAH",
        "outputId": "4b96c41b-bbdb-4a6a-c34b-57111045d01d"
      },
      "execution_count": 75,
      "outputs": [
        {
          "output_type": "execute_result",
          "data": {
            "text/plain": [
              "0"
            ]
          },
          "metadata": {},
          "execution_count": 75
        }
      ]
    },
    {
      "cell_type": "code",
      "source": [
        "car.set_speed(2)"
      ],
      "metadata": {
        "id": "w2PTYKlxKo9f"
      },
      "execution_count": 76,
      "outputs": []
    },
    {
      "cell_type": "code",
      "source": [
        "car.get_speed()"
      ],
      "metadata": {
        "colab": {
          "base_uri": "https://localhost:8080/"
        },
        "id": "H7ZZ2_yzLDA0",
        "outputId": "1525a9f5-37f5-426d-cae0-228987907c44"
      },
      "execution_count": 77,
      "outputs": [
        {
          "output_type": "execute_result",
          "data": {
            "text/plain": [
              "2"
            ]
          },
          "metadata": {},
          "execution_count": 77
        }
      ]
    },
    {
      "cell_type": "code",
      "source": [
        "class Banks:\n",
        "  def __init__(self,balance):\n",
        "    self.__balance = balance\n",
        "\n",
        "  def deposit(self,amount):\n",
        "    self.__balance = self.__balance + amount\n",
        "\n",
        "  def withdraw(self,amount):\n",
        "    if self.__balance >= amount:\n",
        "      self.__balance = self.__balance - amount\n",
        "      return True\n",
        "    else:\n",
        "      return False\n",
        "\n",
        "\n",
        "  def get_balance(self):\n",
        "      return self.__balance"
      ],
      "metadata": {
        "id": "UAwOICCRLFTP"
      },
      "execution_count": 79,
      "outputs": []
    },
    {
      "cell_type": "code",
      "source": [
        "acc = Banks(1000)"
      ],
      "metadata": {
        "id": "PteN7OweM4Lv"
      },
      "execution_count": 80,
      "outputs": []
    },
    {
      "cell_type": "code",
      "source": [
        "acc.get_balance()"
      ],
      "metadata": {
        "colab": {
          "base_uri": "https://localhost:8080/"
        },
        "id": "8aNUYmL-NBd7",
        "outputId": "17bd0bab-1bee-4521-8bcd-8861bcdffed7"
      },
      "execution_count": 82,
      "outputs": [
        {
          "output_type": "execute_result",
          "data": {
            "text/plain": [
              "1000"
            ]
          },
          "metadata": {},
          "execution_count": 82
        }
      ]
    },
    {
      "cell_type": "code",
      "source": [
        "acc.deposit(10000)"
      ],
      "metadata": {
        "id": "sP-eqDeVNHLT"
      },
      "execution_count": 83,
      "outputs": []
    },
    {
      "cell_type": "code",
      "source": [
        "acc.get_balance(\n",
        "\n",
        ")"
      ],
      "metadata": {
        "colab": {
          "base_uri": "https://localhost:8080/"
        },
        "id": "86iINBr4NMKC",
        "outputId": "51bb8106-a6e8-4d10-db05-0044eaff5fe8"
      },
      "execution_count": 84,
      "outputs": [
        {
          "output_type": "execute_result",
          "data": {
            "text/plain": [
              "11000"
            ]
          },
          "metadata": {},
          "execution_count": 84
        }
      ]
    },
    {
      "cell_type": "code",
      "source": [
        "acc.withdraw(10500)"
      ],
      "metadata": {
        "colab": {
          "base_uri": "https://localhost:8080/"
        },
        "id": "wZZsCyceNPWU",
        "outputId": "5fccc081-cd9a-4468-c4a7-7f28fb628fe2"
      },
      "execution_count": 85,
      "outputs": [
        {
          "output_type": "execute_result",
          "data": {
            "text/plain": [
              "True"
            ]
          },
          "metadata": {},
          "execution_count": 85
        }
      ]
    },
    {
      "cell_type": "code",
      "source": [
        "acc.get_balance()"
      ],
      "metadata": {
        "colab": {
          "base_uri": "https://localhost:8080/"
        },
        "id": "Y5cI0cHLNVGV",
        "outputId": "8665631d-7af6-44f8-d2ce-756a4e7c4563"
      },
      "execution_count": 86,
      "outputs": [
        {
          "output_type": "execute_result",
          "data": {
            "text/plain": [
              "500"
            ]
          },
          "metadata": {},
          "execution_count": 86
        }
      ]
    },
    {
      "cell_type": "code",
      "source": [
        "acc.withdraw(1000)"
      ],
      "metadata": {
        "colab": {
          "base_uri": "https://localhost:8080/"
        },
        "id": "fVQTgAvkNXPZ",
        "outputId": "9a8ea74f-69e2-4d0b-b7c1-6054dea17ffd"
      },
      "execution_count": 88,
      "outputs": [
        {
          "output_type": "execute_result",
          "data": {
            "text/plain": [
              "False"
            ]
          },
          "metadata": {},
          "execution_count": 88
        }
      ]
    },
    {
      "cell_type": "code",
      "source": [
        "## protected > within the class and its sub class protected member can be accessed ,(_)\n",
        "\n",
        "class College:\n",
        "  def __init__(self):\n",
        "    self._college_name = 'PWskills'\n",
        "\n",
        "\n",
        "class Student(College):\n",
        "  def __init__(self,name):\n",
        "    self.name = name\n",
        "    College.__init__(self)\n",
        "\n",
        "  def show(self):\n",
        "    print('name' ,self.name,'colllege' ,self._college_name)"
      ],
      "metadata": {
        "id": "iaFm9y5-Nc2t"
      },
      "execution_count": 91,
      "outputs": []
    },
    {
      "cell_type": "code",
      "source": [
        "stud = Student('atul')"
      ],
      "metadata": {
        "id": "NHjD0vhJTC25"
      },
      "execution_count": 92,
      "outputs": []
    },
    {
      "cell_type": "code",
      "source": [
        "stud.show()"
      ],
      "metadata": {
        "colab": {
          "base_uri": "https://localhost:8080/"
        },
        "id": "-ZeG0u6ATcDQ",
        "outputId": "fd51451f-3722-4044-a015-64748858d75e"
      },
      "execution_count": 93,
      "outputs": [
        {
          "output_type": "stream",
          "name": "stdout",
          "text": [
            "name atul colllege PWskills\n"
          ]
        }
      ]
    },
    {
      "cell_type": "code",
      "source": [
        "coll = College()"
      ],
      "metadata": {
        "id": "32XB8a2gTelT"
      },
      "execution_count": 94,
      "outputs": []
    },
    {
      "cell_type": "code",
      "source": [
        "coll._college_name"
      ],
      "metadata": {
        "colab": {
          "base_uri": "https://localhost:8080/",
          "height": 36
        },
        "id": "sIrtqsWCUINL",
        "outputId": "8d28aa51-4053-4b42-bada-a894bfc271e6"
      },
      "execution_count": 95,
      "outputs": [
        {
          "output_type": "execute_result",
          "data": {
            "text/plain": [
              "'PWskills'"
            ],
            "application/vnd.google.colaboratory.intrinsic+json": {
              "type": "string"
            }
          },
          "metadata": {},
          "execution_count": 95
        }
      ]
    },
    {
      "cell_type": "code",
      "source": [
        "class College:\n",
        "  def __init__(self):\n",
        "    self._college_name = 'PWskills'\n",
        "\n",
        "\n",
        "class Student(College):\n",
        "  def __init__(self,name):\n",
        "    self.name = name\n",
        "    super().__init__()\n",
        "\n",
        "  def show(self):\n",
        "    print('name' ,self.name,'colllege' ,self._college_name)"
      ],
      "metadata": {
        "id": "XSq6oHURULGI"
      },
      "execution_count": 97,
      "outputs": []
    },
    {
      "cell_type": "code",
      "source": [
        "stud = Student('atul')\n",
        "stud.show()\n"
      ],
      "metadata": {
        "colab": {
          "base_uri": "https://localhost:8080/"
        },
        "id": "dYaoiRPmUc52",
        "outputId": "c7b60b16-c529-4ef4-9003-de888dd5b89c"
      },
      "execution_count": 98,
      "outputs": [
        {
          "output_type": "stream",
          "name": "stdout",
          "text": [
            "name atul colllege PWskills\n"
          ]
        }
      ]
    },
    {
      "cell_type": "code",
      "source": [],
      "metadata": {
        "id": "32Z864TFUtKl"
      },
      "execution_count": null,
      "outputs": []
    }
  ]
}