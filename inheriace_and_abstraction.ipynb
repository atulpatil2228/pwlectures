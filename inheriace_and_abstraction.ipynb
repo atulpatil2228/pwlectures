{
  "nbformat": 4,
  "nbformat_minor": 0,
  "metadata": {
    "colab": {
      "provenance": [],
      "authorship_tag": "ABX9TyO3Hduh6QeFuWZFTDa7mGbn",
      "include_colab_link": true
    },
    "kernelspec": {
      "name": "python3",
      "display_name": "Python 3"
    },
    "language_info": {
      "name": "python"
    }
  },
  "cells": [
    {
      "cell_type": "markdown",
      "metadata": {
        "id": "view-in-github",
        "colab_type": "text"
      },
      "source": [
        "<a href=\"https://colab.research.google.com/github/atulpatil2228/pwlectures/blob/main/inheriace_and_abstraction.ipynb\" target=\"_parent\"><img src=\"https://colab.research.google.com/assets/colab-badge.svg\" alt=\"Open In Colab\"/></a>"
      ]
    },
    {
      "cell_type": "code",
      "execution_count": null,
      "metadata": {
        "id": "P2JyiRuWIF3R"
      },
      "outputs": [],
      "source": [
        "## inheritance >> refers to process of child recievig the properties of parent class\n",
        "## syntax\n",
        "## class Baseclass:\n",
        "##            body of base class\n",
        "###class DerivedClass(Baseclass):\n",
        "      ## body of derived class"
      ]
    },
    {
      "cell_type": "code",
      "source": [
        "## sigle inhertiace >> when a class has only one parent class"
      ],
      "metadata": {
        "id": "5lpVRIjQJQ4I"
      },
      "execution_count": null,
      "outputs": []
    },
    {
      "cell_type": "code",
      "source": [
        "class Father:\n",
        "  def father_property(self):\n",
        "    print('This is my property')\n"
      ],
      "metadata": {
        "id": "QKJ4v8pXKWhr"
      },
      "execution_count": null,
      "outputs": []
    },
    {
      "cell_type": "code",
      "source": [
        "class Son(Father):\n",
        "  def job(self):\n",
        "    print(\"son has also a job\")"
      ],
      "metadata": {
        "id": "mZbzYsU9KqXU"
      },
      "execution_count": null,
      "outputs": []
    },
    {
      "cell_type": "code",
      "source": [
        "class Gym:\n",
        "  def infinity_gym(self):\n",
        "    print(\"new elite gym\")"
      ],
      "metadata": {
        "id": "d8XaLfvW0HLK"
      },
      "execution_count": 1,
      "outputs": []
    },
    {
      "cell_type": "code",
      "source": [
        "class Trainer(Gym):\n",
        "  def new_trainer(self):\n",
        "    print(\"venky sir is a good trainer\")"
      ],
      "metadata": {
        "id": "QJWflX4E0bLU"
      },
      "execution_count": 2,
      "outputs": []
    },
    {
      "cell_type": "code",
      "source": [
        "op = Trainer()"
      ],
      "metadata": {
        "id": "DOpfbu8j0bI9"
      },
      "execution_count": 3,
      "outputs": []
    },
    {
      "cell_type": "code",
      "source": [
        "op.infinity_gym()"
      ],
      "metadata": {
        "colab": {
          "base_uri": "https://localhost:8080/"
        },
        "id": "seFSCMGa0bGZ",
        "outputId": "5ca1f04e-bd9b-458a-8dac-fb560d1e0563"
      },
      "execution_count": 5,
      "outputs": [
        {
          "output_type": "stream",
          "name": "stdout",
          "text": [
            "new elite gym\n"
          ]
        }
      ]
    },
    {
      "cell_type": "code",
      "source": [
        "op.new_trainer()"
      ],
      "metadata": {
        "colab": {
          "base_uri": "https://localhost:8080/"
        },
        "id": "U7Ib1vDz03LX",
        "outputId": "aac78f6a-873b-42a8-e8a0-c6bcea6115b1"
      },
      "execution_count": 6,
      "outputs": [
        {
          "output_type": "stream",
          "name": "stdout",
          "text": [
            "venky sir is a good trainer\n"
          ]
        }
      ]
    },
    {
      "cell_type": "code",
      "source": [],
      "metadata": {
        "id": "pduFNDZL03JJ"
      },
      "execution_count": null,
      "outputs": []
    },
    {
      "cell_type": "code",
      "source": [],
      "metadata": {
        "id": "uHrp2EsQ03Gj"
      },
      "execution_count": null,
      "outputs": []
    },
    {
      "cell_type": "code",
      "source": [
        "child_obj1 = Son()"
      ],
      "metadata": {
        "id": "t-nC8sPRK3zg"
      },
      "execution_count": null,
      "outputs": []
    },
    {
      "cell_type": "code",
      "source": [
        "child_obj1.father_property()"
      ],
      "metadata": {
        "colab": {
          "base_uri": "https://localhost:8080/"
        },
        "id": "FET5Zh0vK8Lm",
        "outputId": "15d28f1b-8704-4aa9-c283-6a5074e0cfa7"
      },
      "execution_count": null,
      "outputs": [
        {
          "output_type": "stream",
          "name": "stdout",
          "text": [
            "This is my property\n"
          ]
        }
      ]
    },
    {
      "cell_type": "code",
      "source": [
        "father_obj1  = Father()"
      ],
      "metadata": {
        "id": "o65jFng7K_Es"
      },
      "execution_count": null,
      "outputs": []
    },
    {
      "cell_type": "code",
      "source": [
        "father_obj1.father_property()"
      ],
      "metadata": {
        "colab": {
          "base_uri": "https://localhost:8080/"
        },
        "id": "_3HA8RcSLs-B",
        "outputId": "6d2d00cb-8963-4d9d-dca1-8a6a37f48f8b"
      },
      "execution_count": null,
      "outputs": [
        {
          "output_type": "stream",
          "name": "stdout",
          "text": [
            "This is my property\n"
          ]
        }
      ]
    },
    {
      "cell_type": "code",
      "source": [
        "## parent claass will not have acess to son class >> child class have acess of parent"
      ],
      "metadata": {
        "id": "IA2N2Z_0LvoD"
      },
      "execution_count": null,
      "outputs": []
    },
    {
      "cell_type": "code",
      "source": [
        "class Fruit:\n",
        "  def fruit_info(self):\n",
        "    print(\"inside parent class \")\n",
        "\n",
        "class  Apple(Fruit):\n",
        "  def apple_info(self):\n",
        "    print(\"iside the class\")\n"
      ],
      "metadata": {
        "id": "RbmDrNgxNdP4"
      },
      "execution_count": null,
      "outputs": []
    },
    {
      "cell_type": "code",
      "source": [
        "obj =  Apple()"
      ],
      "metadata": {
        "id": "QGFyBQ5hOY-h"
      },
      "execution_count": null,
      "outputs": []
    },
    {
      "cell_type": "code",
      "source": [
        "obj.fruit_info()"
      ],
      "metadata": {
        "colab": {
          "base_uri": "https://localhost:8080/"
        },
        "id": "DjiByJBrOcaH",
        "outputId": "2928561a-4fe2-4fa5-ad2e-ed5186746c81"
      },
      "execution_count": null,
      "outputs": [
        {
          "output_type": "stream",
          "name": "stdout",
          "text": [
            "inside parent class \n"
          ]
        }
      ]
    },
    {
      "cell_type": "code",
      "source": [
        "obj.fruit_info()"
      ],
      "metadata": {
        "colab": {
          "base_uri": "https://localhost:8080/"
        },
        "id": "KVOHIBlAOeS2",
        "outputId": "01753846-31cf-46eb-a1dd-49c5ae4d5204"
      },
      "execution_count": null,
      "outputs": [
        {
          "output_type": "stream",
          "name": "stdout",
          "text": [
            "inside parent class \n"
          ]
        }
      ]
    },
    {
      "cell_type": "code",
      "source": [
        "obj.fruit_info()"
      ],
      "metadata": {
        "colab": {
          "base_uri": "https://localhost:8080/"
        },
        "id": "CXa8YR4kOgAy",
        "outputId": "23a957bb-de95-4420-f8f5-f61646e52410"
      },
      "execution_count": null,
      "outputs": [
        {
          "output_type": "stream",
          "name": "stdout",
          "text": [
            "inside parent class \n"
          ]
        }
      ]
    },
    {
      "cell_type": "code",
      "source": [
        "class Fruit:\n",
        "  def fruit_info(self):\n",
        "    print(\"inside parent class \")\n",
        "\n",
        "class  Apple(Fruit):\n",
        "  def fruit_info(self):\n",
        "    print(\"inside parent class \")\n",
        "  def apple_info(self):\n",
        "    print(\"iside the class\")\n"
      ],
      "metadata": {
        "id": "yoNsHEddOhdk"
      },
      "execution_count": null,
      "outputs": []
    },
    {
      "cell_type": "code",
      "source": [
        "apple =Apple()"
      ],
      "metadata": {
        "id": "nVhNp208PUbP"
      },
      "execution_count": null,
      "outputs": []
    },
    {
      "cell_type": "code",
      "source": [
        "apple.apple_info()"
      ],
      "metadata": {
        "colab": {
          "base_uri": "https://localhost:8080/"
        },
        "id": "58D5QGJfPXQC",
        "outputId": "761fcb8a-a949-4a35-8074-4f3eb5a9beb5"
      },
      "execution_count": null,
      "outputs": [
        {
          "output_type": "stream",
          "name": "stdout",
          "text": [
            "iside the class\n"
          ]
        }
      ]
    },
    {
      "cell_type": "code",
      "source": [
        "apple.fruit_info() ## Method over riding  >> child class is very power full"
      ],
      "metadata": {
        "colab": {
          "base_uri": "https://localhost:8080/"
        },
        "id": "r17Bj-vhPZEy",
        "outputId": "bb26e9ba-8340-49ec-d93f-e9aab2ad5906"
      },
      "execution_count": null,
      "outputs": [
        {
          "output_type": "stream",
          "name": "stdout",
          "text": [
            "inside parent class \n"
          ]
        }
      ]
    },
    {
      "cell_type": "code",
      "source": [
        "## multi level inheritance >>"
      ],
      "metadata": {
        "id": "h6RjFMJDPanY"
      },
      "execution_count": null,
      "outputs": []
    },
    {
      "cell_type": "code",
      "source": [
        "class GrandFather:\n",
        "  def prop_grand_father(self):\n",
        "    print('I am your grandfather')\n",
        "\n",
        "\n",
        "class Father(GrandFather):\n",
        "  def prop_father(self):\n",
        "    print(\"I am your father and having property of mine and your grandfather as well\")\n",
        "\n",
        "\n",
        "class Son(Father):\n",
        "  def prop_son(self):\n",
        "    print(\"i am son and having property of grandfather and father too\")"
      ],
      "metadata": {
        "id": "7gQdNpUKQHTA"
      },
      "execution_count": null,
      "outputs": []
    },
    {
      "cell_type": "code",
      "source": [
        "class Car :\n",
        "  def typers_car(self):\n",
        "    print('The new types of car')\n",
        "\n",
        "class Sportscar(Car):\n",
        "  def sports_car_info(self):\n",
        "    print('more speed and less mileage')\n",
        "\n",
        "class Affordablecar(Sportscar):\n",
        "  def Affordablecar_info(self):\n",
        "    print('type of sport car nut speed less and average more')"
      ],
      "metadata": {
        "id": "OODz6Q631AD4"
      },
      "execution_count": 7,
      "outputs": []
    },
    {
      "cell_type": "code",
      "source": [
        "om = Sportscar()"
      ],
      "metadata": {
        "id": "AGCLMCb61ABN"
      },
      "execution_count": 9,
      "outputs": []
    },
    {
      "cell_type": "code",
      "source": [
        "om.sports_car_info()"
      ],
      "metadata": {
        "colab": {
          "base_uri": "https://localhost:8080/"
        },
        "id": "7XILoIWK0_-0",
        "outputId": "733de272-71e8-4fa4-f416-43efbee1a2e9"
      },
      "execution_count": 10,
      "outputs": [
        {
          "output_type": "stream",
          "name": "stdout",
          "text": [
            "more speed and less mileage\n"
          ]
        }
      ]
    },
    {
      "cell_type": "code",
      "source": [
        "om.typers_car()"
      ],
      "metadata": {
        "colab": {
          "base_uri": "https://localhost:8080/"
        },
        "id": "RfP7JuMR0_5x",
        "outputId": "615b3e60-ee4d-4a37-c93d-c3810457a9ee"
      },
      "execution_count": 11,
      "outputs": [
        {
          "output_type": "stream",
          "name": "stdout",
          "text": [
            "The new types of car\n"
          ]
        }
      ]
    },
    {
      "cell_type": "code",
      "source": [
        "son = Son()"
      ],
      "metadata": {
        "id": "gTdQNFq8Rk-5"
      },
      "execution_count": null,
      "outputs": []
    },
    {
      "cell_type": "code",
      "source": [
        "on = Affordablecar()"
      ],
      "metadata": {
        "id": "JzWL-ihz2X-5"
      },
      "execution_count": 12,
      "outputs": []
    },
    {
      "cell_type": "code",
      "source": [
        "on.Affordablecar_info()"
      ],
      "metadata": {
        "colab": {
          "base_uri": "https://localhost:8080/"
        },
        "id": "kNPlpnKd2X8r",
        "outputId": "39efcd32-422d-4cbc-da82-1e24f8ec14fb"
      },
      "execution_count": 13,
      "outputs": [
        {
          "output_type": "stream",
          "name": "stdout",
          "text": [
            "type of sport car nut speed less and average more\n"
          ]
        }
      ]
    },
    {
      "cell_type": "code",
      "source": [
        "on.sports_car_info()"
      ],
      "metadata": {
        "colab": {
          "base_uri": "https://localhost:8080/"
        },
        "id": "ljHaUf9v2X6B",
        "outputId": "e2d61d5c-4aa2-4bc8-de4d-54587a7a02a9"
      },
      "execution_count": 14,
      "outputs": [
        {
          "output_type": "stream",
          "name": "stdout",
          "text": [
            "more speed and less mileage\n"
          ]
        }
      ]
    },
    {
      "cell_type": "code",
      "source": [
        "on.typers_car()"
      ],
      "metadata": {
        "colab": {
          "base_uri": "https://localhost:8080/"
        },
        "id": "KXX81K3e2gRZ",
        "outputId": "043c9fec-176a-4bf6-dc4c-d118c9f705fd"
      },
      "execution_count": 15,
      "outputs": [
        {
          "output_type": "stream",
          "name": "stdout",
          "text": [
            "The new types of car\n"
          ]
        }
      ]
    },
    {
      "cell_type": "code",
      "source": [],
      "metadata": {
        "id": "Z-aB2cU42gOx"
      },
      "execution_count": null,
      "outputs": []
    },
    {
      "cell_type": "code",
      "source": [
        "son.prop_father()"
      ],
      "metadata": {
        "colab": {
          "base_uri": "https://localhost:8080/"
        },
        "id": "jJbu03dMRs8z",
        "outputId": "98970a57-5e3d-4254-ba65-33f7eca37001"
      },
      "execution_count": null,
      "outputs": [
        {
          "output_type": "stream",
          "name": "stdout",
          "text": [
            "I am your father and having property of mine and your grandfather as well\n"
          ]
        }
      ]
    },
    {
      "cell_type": "code",
      "source": [
        "son.prop_grand_father()"
      ],
      "metadata": {
        "colab": {
          "base_uri": "https://localhost:8080/"
        },
        "id": "Ni9MshziRuw_",
        "outputId": "ccb9549b-c87e-454f-86e1-55ad3b34a85c"
      },
      "execution_count": null,
      "outputs": [
        {
          "output_type": "stream",
          "name": "stdout",
          "text": [
            "I am your grandfather\n"
          ]
        }
      ]
    },
    {
      "cell_type": "code",
      "source": [
        "son.prop_son()"
      ],
      "metadata": {
        "colab": {
          "base_uri": "https://localhost:8080/"
        },
        "id": "eCWKLmKbRwY1",
        "outputId": "08ffcef1-c835-445c-960c-3fcb5bd47431"
      },
      "execution_count": null,
      "outputs": [
        {
          "output_type": "stream",
          "name": "stdout",
          "text": [
            "i am son and having property of grandfather and father too\n"
          ]
        }
      ]
    },
    {
      "cell_type": "code",
      "source": [
        "class Vehicle:\n",
        "  def vehicle_info(self):\n",
        "    print('Iside Vehicle Class')\n",
        "\n",
        "class Car(Vehicle):\n",
        "  def car_info(self) :\n",
        "    print('INside Car class')\n",
        "\n",
        "class SportsCar(Car):\n",
        "  def sports_car_info(self):\n",
        "    print('inside sports car class')\n"
      ],
      "metadata": {
        "id": "n0delFBFRyXS"
      },
      "execution_count": null,
      "outputs": []
    },
    {
      "cell_type": "code",
      "source": [
        "sportscar = SportsCar()"
      ],
      "metadata": {
        "id": "4WYeZAgi-ziN"
      },
      "execution_count": null,
      "outputs": []
    },
    {
      "cell_type": "code",
      "source": [
        "sportscar.sports_car_info()"
      ],
      "metadata": {
        "colab": {
          "base_uri": "https://localhost:8080/"
        },
        "id": "LaU5ay8Y-6ez",
        "outputId": "faff54e7-3620-4318-ee4f-684af3b40733"
      },
      "execution_count": null,
      "outputs": [
        {
          "output_type": "stream",
          "name": "stdout",
          "text": [
            "inside sports car class\n"
          ]
        }
      ]
    },
    {
      "cell_type": "code",
      "source": [
        "sportscar.car_info()"
      ],
      "metadata": {
        "colab": {
          "base_uri": "https://localhost:8080/"
        },
        "id": "6yPtGxX--9xU",
        "outputId": "04c196d0-0881-40a9-bada-e8e8841ea749"
      },
      "execution_count": null,
      "outputs": [
        {
          "output_type": "stream",
          "name": "stdout",
          "text": [
            "INside Car class\n"
          ]
        }
      ]
    },
    {
      "cell_type": "code",
      "source": [
        "sportscar.vehicle_info()"
      ],
      "metadata": {
        "colab": {
          "base_uri": "https://localhost:8080/"
        },
        "id": "5AzPAehJ_DgT",
        "outputId": "ff950b63-183c-4c09-d2d8-0cc81b034602"
      },
      "execution_count": null,
      "outputs": [
        {
          "output_type": "stream",
          "name": "stdout",
          "text": [
            "Iside Vehicle Class\n"
          ]
        }
      ]
    },
    {
      "cell_type": "code",
      "source": [
        "class Vehicle:\n",
        "  def vehicle_info(self):\n",
        "    print('Iside Vehicle Class')\n",
        "\n",
        "class Car(Vehicle):\n",
        "  def car_info(self) :\n",
        "    print('INside Car class')\n",
        "\n",
        "class SportsCar(Car):\n",
        "  def vehicle_info(self):\n",
        "    print('inside sports car class')\n"
      ],
      "metadata": {
        "id": "ZYMevcUo_KwA"
      },
      "execution_count": null,
      "outputs": []
    },
    {
      "cell_type": "code",
      "source": [
        "car = SportsCar()"
      ],
      "metadata": {
        "id": "A3KebLnz_xWi"
      },
      "execution_count": null,
      "outputs": []
    },
    {
      "cell_type": "code",
      "source": [
        "car.vehicle_info() ## method over riding"
      ],
      "metadata": {
        "colab": {
          "base_uri": "https://localhost:8080/"
        },
        "id": "6PBxbJl2_10g",
        "outputId": "b4c4f33d-1a60-4ad3-b63b-0d83d4347a17"
      },
      "execution_count": null,
      "outputs": [
        {
          "output_type": "stream",
          "name": "stdout",
          "text": [
            "inside sports car class\n"
          ]
        }
      ]
    },
    {
      "cell_type": "code",
      "source": [
        "## Multiple inheritance  >> one child class may inherit multiple parent class"
      ],
      "metadata": {
        "id": "drjwdX7v_3d3"
      },
      "execution_count": null,
      "outputs": []
    },
    {
      "cell_type": "code",
      "source": [
        "class Parentc1:\n",
        "  def m1(self):\n",
        "    print('M1 of Parentc1')\n",
        "class Parentc2:\n",
        "  def m2(self):\n",
        "    print('M2 of Parentc2')\n",
        "\n",
        "\n",
        "class Childc(Parentc1,Parentc2):\n",
        "  def child_method(self):\n",
        "    print('child method')"
      ],
      "metadata": {
        "id": "6CdoBmQWBGQR"
      },
      "execution_count": null,
      "outputs": []
    },
    {
      "cell_type": "code",
      "source": [
        "class Exercise:\n",
        "  def Health_heeling(self):\n",
        "    print('How to maintain consistency in exercise')\n",
        "\n",
        "class Diet :\n",
        "  def diet_in(self):\n",
        "    print('diet is imporant')\n",
        "\n",
        "class GYm(Exercise,Diet):\n",
        "  def GYm_requires(self):\n",
        "    print('Both diet and exercise are required')"
      ],
      "metadata": {
        "id": "QLbKq_6u2qIm"
      },
      "execution_count": 16,
      "outputs": []
    },
    {
      "cell_type": "code",
      "source": [
        "fitnness = GYm()"
      ],
      "metadata": {
        "id": "--SoXZ5s2p_I"
      },
      "execution_count": 18,
      "outputs": []
    },
    {
      "cell_type": "code",
      "source": [
        "fitnness.diet_in()"
      ],
      "metadata": {
        "colab": {
          "base_uri": "https://localhost:8080/"
        },
        "id": "Zgi6sc-u30ve",
        "outputId": "c0992ade-ddc4-450e-c5b5-2db7dd2f6e01"
      },
      "execution_count": 19,
      "outputs": [
        {
          "output_type": "stream",
          "name": "stdout",
          "text": [
            "diet is imporant\n"
          ]
        }
      ]
    },
    {
      "cell_type": "code",
      "source": [
        "fitnness.GYm_requires()"
      ],
      "metadata": {
        "colab": {
          "base_uri": "https://localhost:8080/"
        },
        "id": "rJgH4zQy30ss",
        "outputId": "5530cf8d-9aad-42f6-9587-c39f7f3aa72d"
      },
      "execution_count": 20,
      "outputs": [
        {
          "output_type": "stream",
          "name": "stdout",
          "text": [
            "Both diet and exercise are required\n"
          ]
        }
      ]
    },
    {
      "cell_type": "code",
      "source": [
        "fitnness.Health_heeling()"
      ],
      "metadata": {
        "colab": {
          "base_uri": "https://localhost:8080/"
        },
        "id": "FrENonDr30qR",
        "outputId": "ea537e6d-9e3e-437a-a880-78b98ccb9ebe"
      },
      "execution_count": 21,
      "outputs": [
        {
          "output_type": "stream",
          "name": "stdout",
          "text": [
            "How to maintain consistency in exercise\n"
          ]
        }
      ]
    },
    {
      "cell_type": "code",
      "source": [],
      "metadata": {
        "id": "aVPeedqY30nD"
      },
      "execution_count": null,
      "outputs": []
    },
    {
      "cell_type": "code",
      "source": [],
      "metadata": {
        "id": "2PJ4G5ZZ30kp"
      },
      "execution_count": null,
      "outputs": []
    },
    {
      "cell_type": "code",
      "source": [
        "child = Childc()"
      ],
      "metadata": {
        "id": "8LP0Le2kALq9"
      },
      "execution_count": null,
      "outputs": []
    },
    {
      "cell_type": "code",
      "source": [
        "child.child_method()"
      ],
      "metadata": {
        "colab": {
          "base_uri": "https://localhost:8080/"
        },
        "id": "4nb4_EyHBx_y",
        "outputId": "3b8bd425-d044-4615-f34b-091cf5e46683"
      },
      "execution_count": null,
      "outputs": [
        {
          "output_type": "stream",
          "name": "stdout",
          "text": [
            "child method\n"
          ]
        }
      ]
    },
    {
      "cell_type": "code",
      "source": [
        "child.m1()"
      ],
      "metadata": {
        "colab": {
          "base_uri": "https://localhost:8080/"
        },
        "id": "Go3IlAreBz8W",
        "outputId": "f1873c8e-110f-449b-e6bf-c2c2c258c697"
      },
      "execution_count": null,
      "outputs": [
        {
          "output_type": "stream",
          "name": "stdout",
          "text": [
            "M1 of Parentc1\n"
          ]
        }
      ]
    },
    {
      "cell_type": "code",
      "source": [
        "child.m2()"
      ],
      "metadata": {
        "colab": {
          "base_uri": "https://localhost:8080/"
        },
        "id": "jSf1H860B4X_",
        "outputId": "7a7981c4-0338-4470-bb29-688fc07b4faf"
      },
      "execution_count": null,
      "outputs": [
        {
          "output_type": "stream",
          "name": "stdout",
          "text": [
            "M2 of Parentc2\n"
          ]
        }
      ]
    },
    {
      "cell_type": "code",
      "source": [
        "class A :\n",
        "  def method(self):\n",
        "    print('Method of class a')\n",
        "\n",
        "class B :\n",
        "  def method(self):\n",
        "    print('Method of class b')\n",
        "\n",
        "class C(A):\n",
        "  def method(self):\n",
        "    print('method of class c')\n",
        "\n",
        "class D(C ,B):\n",
        "  pass\n",
        "\n"
      ],
      "metadata": {
        "id": "gfIVLyZ8B6n2"
      },
      "execution_count": null,
      "outputs": []
    },
    {
      "cell_type": "code",
      "source": [
        "d = D() ## diamond problem"
      ],
      "metadata": {
        "id": "UHW0d8uuDwfo"
      },
      "execution_count": null,
      "outputs": []
    },
    {
      "cell_type": "code",
      "source": [
        "d.method()"
      ],
      "metadata": {
        "colab": {
          "base_uri": "https://localhost:8080/"
        },
        "id": "11rEcQ_SDx1K",
        "outputId": "c1f5b06a-855d-4e98-8f13-319c5d83cf53"
      },
      "execution_count": null,
      "outputs": [
        {
          "output_type": "stream",
          "name": "stdout",
          "text": [
            "method of class c\n"
          ]
        }
      ]
    },
    {
      "cell_type": "code",
      "source": [
        "##HIERACHICAL INHERITANCE"
      ],
      "metadata": {
        "id": "-QcyLJOXDzQF"
      },
      "execution_count": null,
      "outputs": []
    },
    {
      "cell_type": "code",
      "source": [
        "class Vehicle:\n",
        "  def info(self):\n",
        "    print('This is Vehicle')\n",
        "\n",
        "class Car(Vehicle):\n",
        "  def car_info(self,name):\n",
        "    print('This is car info' ,name)\n",
        "\n",
        "class Truck(Vehicle):\n",
        "  def Truck_info(self,name):\n",
        "    print('This is truck info' ,name)\n"
      ],
      "metadata": {
        "id": "cEhONYHKEcwT"
      },
      "execution_count": null,
      "outputs": []
    },
    {
      "cell_type": "code",
      "source": [
        "obj1 = Car()"
      ],
      "metadata": {
        "id": "35cevg-MFuBh"
      },
      "execution_count": null,
      "outputs": []
    },
    {
      "cell_type": "code",
      "source": [
        "obj1.car_info('BMW')"
      ],
      "metadata": {
        "colab": {
          "base_uri": "https://localhost:8080/"
        },
        "id": "Ajc5r2jeF0jo",
        "outputId": "fc5513d9-57ba-4944-e425-d424940963c8"
      },
      "execution_count": null,
      "outputs": [
        {
          "output_type": "stream",
          "name": "stdout",
          "text": [
            "This is car info BMW\n"
          ]
        }
      ]
    },
    {
      "cell_type": "code",
      "source": [
        "obj1.info()"
      ],
      "metadata": {
        "colab": {
          "base_uri": "https://localhost:8080/"
        },
        "id": "WAI0FmwtF30D",
        "outputId": "19d99287-495a-48e7-d6ac-2093af1c86a5"
      },
      "execution_count": null,
      "outputs": [
        {
          "output_type": "stream",
          "name": "stdout",
          "text": [
            "This is Vehicle\n"
          ]
        }
      ]
    },
    {
      "cell_type": "code",
      "source": [
        "o2 = Truck()"
      ],
      "metadata": {
        "id": "MyxDnZy1GESY"
      },
      "execution_count": null,
      "outputs": []
    },
    {
      "cell_type": "code",
      "source": [
        "o2.info()"
      ],
      "metadata": {
        "colab": {
          "base_uri": "https://localhost:8080/"
        },
        "id": "Yt-eUmt3GIeF",
        "outputId": "89cf70bb-96c9-4a75-9b83-2e385c7b6c57"
      },
      "execution_count": null,
      "outputs": [
        {
          "output_type": "stream",
          "name": "stdout",
          "text": [
            "This is Vehicle\n"
          ]
        }
      ]
    },
    {
      "cell_type": "code",
      "source": [
        "o2.Truck_info(\"VRl\")"
      ],
      "metadata": {
        "colab": {
          "base_uri": "https://localhost:8080/"
        },
        "id": "b7HTyQrzGKAf",
        "outputId": "5015f93f-2816-4ccf-cdc1-03aef9321b62"
      },
      "execution_count": null,
      "outputs": [
        {
          "output_type": "stream",
          "name": "stdout",
          "text": [
            "This is truck info VRl\n"
          ]
        }
      ]
    },
    {
      "cell_type": "code",
      "source": [
        "## HYBRID INHERITANCE  >> mutiple types or a combination of different inheritance"
      ],
      "metadata": {
        "id": "cd8j8DquGMXm"
      },
      "execution_count": null,
      "outputs": []
    },
    {
      "cell_type": "code",
      "source": [
        "class Vehicle:\n",
        "  def vehicle_info(self):\n",
        "    print(\"inside vehicle class\")\n",
        "class Car(Vehicle):\n",
        "  def car_info(self):\n",
        "    print('inside car class')\n",
        "class Truck(Vehicle):\n",
        "  def Truck_info(self,name):\n",
        "    print('This is truck info' ,name)\n",
        "\n",
        "class SportsCar(Car,Vehicle):\n",
        "  def sports_car_info(self):\n",
        "    print('inside sports car class')"
      ],
      "metadata": {
        "id": "abt8sJj6IZQe"
      },
      "execution_count": null,
      "outputs": []
    },
    {
      "cell_type": "code",
      "source": [
        "s_car = SportsCar()"
      ],
      "metadata": {
        "id": "j2hiWUoTJHZM"
      },
      "execution_count": null,
      "outputs": []
    },
    {
      "cell_type": "code",
      "source": [
        "s_car.car_info()"
      ],
      "metadata": {
        "colab": {
          "base_uri": "https://localhost:8080/"
        },
        "id": "BsCOfGVmJOxJ",
        "outputId": "acd9a518-5bb9-4ce7-d5e6-62533051019e"
      },
      "execution_count": null,
      "outputs": [
        {
          "output_type": "stream",
          "name": "stdout",
          "text": [
            "inside car class\n"
          ]
        }
      ]
    },
    {
      "cell_type": "code",
      "source": [
        "s_car.sports_car_info()"
      ],
      "metadata": {
        "colab": {
          "base_uri": "https://localhost:8080/"
        },
        "id": "rqvrcEtdJQ2M",
        "outputId": "a1c327df-cb81-4367-d687-f4cd1c377aff"
      },
      "execution_count": null,
      "outputs": [
        {
          "output_type": "stream",
          "name": "stdout",
          "text": [
            "inside sports car class\n"
          ]
        }
      ]
    },
    {
      "cell_type": "code",
      "source": [
        "s_car.vehicle_info()"
      ],
      "metadata": {
        "colab": {
          "base_uri": "https://localhost:8080/"
        },
        "id": "xcVhzwhoJSu2",
        "outputId": "1c1017d2-7db3-4d99-d93a-8f0626327a23"
      },
      "execution_count": null,
      "outputs": [
        {
          "output_type": "stream",
          "name": "stdout",
          "text": [
            "inside vehicle class\n"
          ]
        }
      ]
    },
    {
      "cell_type": "code",
      "source": [
        "## abstraction >> concept of hiding of complex implemetation"
      ],
      "metadata": {
        "id": "_LfWo64BJVrK"
      },
      "execution_count": null,
      "outputs": []
    },
    {
      "cell_type": "code",
      "source": [
        "import abc"
      ],
      "metadata": {
        "id": "sUhhcvfvJafH"
      },
      "execution_count": 22,
      "outputs": []
    },
    {
      "cell_type": "code",
      "source": [
        "class PwSkills:\n",
        "\n",
        "\n",
        "  @abc.abstractmethod\n",
        "  def student_details(self):\n",
        "    pass\n",
        "\n",
        "\n",
        "  @abc.abstractmethod\n",
        "  def student_assignments(self):\n",
        "    pass\n",
        "\n",
        "\n",
        "\n",
        "\n",
        "\n",
        "    @abc.abstractmethod\n",
        "    def student_marks(self):\n",
        "      pass\n"
      ],
      "metadata": {
        "id": "QQRRGRtqLhS8"
      },
      "execution_count": null,
      "outputs": []
    },
    {
      "cell_type": "code",
      "source": [
        "class School:\n",
        "\n",
        "  @abc.abstractmethod\n",
        "  def school_projects(self):\n",
        "    pass\n",
        "\n",
        "  @abc.abstractmethod\n",
        "  def school_assigments(self):\n",
        "      pass\n",
        "\n",
        "  @abc.abstractmethod\n",
        "  def school_seminar(self):\n",
        "    pass"
      ],
      "metadata": {
        "id": "SVBZL_0w4qMn"
      },
      "execution_count": 25,
      "outputs": []
    },
    {
      "cell_type": "code",
      "source": [
        "class Science_subject(School):\n",
        "  def school_projects(self):\n",
        "    return 'projects increses your marks'\n",
        "  def school_assigments(self):\n",
        "    return 'increses your personality '\n",
        "\n",
        "  def school_seminar(self):\n",
        "    return 'increases your cominucation'\n",
        "\n"
      ],
      "metadata": {
        "id": "gJzdyoY64qJ5"
      },
      "execution_count": 26,
      "outputs": []
    },
    {
      "cell_type": "code",
      "source": [
        "kle = Science_subject()"
      ],
      "metadata": {
        "id": "hjX1IJHt4p_I"
      },
      "execution_count": 27,
      "outputs": []
    },
    {
      "cell_type": "code",
      "source": [
        "kle.school_assigments()"
      ],
      "metadata": {
        "colab": {
          "base_uri": "https://localhost:8080/",
          "height": 35
        },
        "id": "jF6qD6is4p5Q",
        "outputId": "27c2d970-bfc4-41c9-aa31-5938c2e6b90f"
      },
      "execution_count": 28,
      "outputs": [
        {
          "output_type": "execute_result",
          "data": {
            "text/plain": [
              "'increses your personality '"
            ],
            "application/vnd.google.colaboratory.intrinsic+json": {
              "type": "string"
            }
          },
          "metadata": {},
          "execution_count": 28
        }
      ]
    },
    {
      "cell_type": "code",
      "source": [
        "kle.school_projects()"
      ],
      "metadata": {
        "colab": {
          "base_uri": "https://localhost:8080/",
          "height": 35
        },
        "id": "KzClXEnB5_LO",
        "outputId": "f624dcfe-b04b-4848-fa47-aa67623d248d"
      },
      "execution_count": 29,
      "outputs": [
        {
          "output_type": "execute_result",
          "data": {
            "text/plain": [
              "'projects increses your marks'"
            ],
            "application/vnd.google.colaboratory.intrinsic+json": {
              "type": "string"
            }
          },
          "metadata": {},
          "execution_count": 29
        }
      ]
    },
    {
      "cell_type": "code",
      "source": [
        "kle.school_seminar()"
      ],
      "metadata": {
        "colab": {
          "base_uri": "https://localhost:8080/",
          "height": 35
        },
        "id": "oRoR00kB5_Es",
        "outputId": "cfc84714-0f46-486d-ae0c-605fc21d46af"
      },
      "execution_count": 30,
      "outputs": [
        {
          "output_type": "execute_result",
          "data": {
            "text/plain": [
              "'increases your cominucation'"
            ],
            "application/vnd.google.colaboratory.intrinsic+json": {
              "type": "string"
            }
          },
          "metadata": {},
          "execution_count": 30
        }
      ]
    },
    {
      "cell_type": "code",
      "source": [],
      "metadata": {
        "id": "iXph5GIv5_Bm"
      },
      "execution_count": null,
      "outputs": []
    },
    {
      "cell_type": "code",
      "source": [],
      "metadata": {
        "id": "PFjozsMA5--l"
      },
      "execution_count": null,
      "outputs": []
    },
    {
      "cell_type": "code",
      "source": [],
      "metadata": {
        "id": "2Ykh2wi45-77"
      },
      "execution_count": null,
      "outputs": []
    },
    {
      "cell_type": "code",
      "source": [],
      "metadata": {
        "id": "6Es1j91o5-47"
      },
      "execution_count": null,
      "outputs": []
    },
    {
      "cell_type": "code",
      "source": [],
      "metadata": {
        "id": "qaDlHQ0I5-1b"
      },
      "execution_count": null,
      "outputs": []
    },
    {
      "cell_type": "code",
      "source": [],
      "metadata": {
        "id": "RZXO9EsD5-yw"
      },
      "execution_count": null,
      "outputs": []
    },
    {
      "cell_type": "code",
      "source": [],
      "metadata": {
        "id": "c3hSEGhS5-wD"
      },
      "execution_count": null,
      "outputs": []
    },
    {
      "cell_type": "code",
      "source": [
        "class DS(PwSkills):\n",
        "  def student_details(self):\n",
        "    return 'ds course student details'\n",
        "  def student_marks(self):\n",
        "    return 'ds course student marks'\n"
      ],
      "metadata": {
        "id": "3hjFj8OiMLPO"
      },
      "execution_count": null,
      "outputs": []
    },
    {
      "cell_type": "code",
      "source": [
        "class WebDev(PwSkills):\n",
        "  def student_assignments(self):\n",
        "    return 'this willl assignment of web dev'\n",
        "  def student_marks(self):\n",
        "    return 'give web dev students marks'"
      ],
      "metadata": {
        "id": "pZrMgPNbMqfx"
      },
      "execution_count": null,
      "outputs": []
    },
    {
      "cell_type": "code",
      "source": [
        "ds = DS()"
      ],
      "metadata": {
        "id": "olLH4LvZNI3C"
      },
      "execution_count": null,
      "outputs": []
    },
    {
      "cell_type": "code",
      "source": [
        "ds.student_details()"
      ],
      "metadata": {
        "colab": {
          "base_uri": "https://localhost:8080/",
          "height": 35
        },
        "id": "nOVwD2aPNPi6",
        "outputId": "aeae91d2-00f8-4838-9e5f-dfa06a3007a3"
      },
      "execution_count": null,
      "outputs": [
        {
          "output_type": "execute_result",
          "data": {
            "text/plain": [
              "'ds course student details'"
            ],
            "application/vnd.google.colaboratory.intrinsic+json": {
              "type": "string"
            }
          },
          "metadata": {},
          "execution_count": 53
        }
      ]
    },
    {
      "cell_type": "code",
      "source": [
        "ds.student_assignments()"
      ],
      "metadata": {
        "id": "ve6eKWudNRMN"
      },
      "execution_count": null,
      "outputs": []
    },
    {
      "cell_type": "code",
      "source": [
        "webdev = WebDev()"
      ],
      "metadata": {
        "id": "VWUVdSMuNTR6"
      },
      "execution_count": null,
      "outputs": []
    },
    {
      "cell_type": "code",
      "source": [
        "webdev.student_marks()"
      ],
      "metadata": {
        "colab": {
          "base_uri": "https://localhost:8080/",
          "height": 35
        },
        "id": "0Sdd8qljNXIp",
        "outputId": "b1fc2adf-03c1-42a2-ab54-05163cb659cd"
      },
      "execution_count": null,
      "outputs": [
        {
          "output_type": "execute_result",
          "data": {
            "text/plain": [
              "'give web dev students marks'"
            ],
            "application/vnd.google.colaboratory.intrinsic+json": {
              "type": "string"
            }
          },
          "metadata": {},
          "execution_count": 56
        }
      ]
    },
    {
      "cell_type": "code",
      "source": [],
      "metadata": {
        "id": "YVJTvssNNZQV"
      },
      "execution_count": null,
      "outputs": []
    }
  ]
}