{
  "nbformat": 4,
  "nbformat_minor": 0,
  "metadata": {
    "colab": {
      "provenance": [],
      "authorship_tag": "ABX9TyO494T8vRPBw4Ri2q5If7bU",
      "include_colab_link": true
    },
    "kernelspec": {
      "name": "python3",
      "display_name": "Python 3"
    },
    "language_info": {
      "name": "python"
    }
  },
  "cells": [
    {
      "cell_type": "markdown",
      "metadata": {
        "id": "view-in-github",
        "colab_type": "text"
      },
      "source": [
        "<a href=\"https://colab.research.google.com/github/atulpatil2228/pwlectures/blob/main/class_method_and_static.ipynb\" target=\"_parent\"><img src=\"https://colab.research.google.com/assets/colab-badge.svg\" alt=\"Open In Colab\"/></a>"
      ]
    },
    {
      "cell_type": "code",
      "execution_count": 1,
      "metadata": {
        "colab": {
          "base_uri": "https://localhost:8080/",
          "height": 36
        },
        "id": "vmD_9Zr5yo-1",
        "outputId": "2e55b3e0-b037-4f1c-b1d7-daac633c5724"
      },
      "outputs": [
        {
          "output_type": "execute_result",
          "data": {
            "text/plain": [
              "'atul'"
            ],
            "application/vnd.google.colaboratory.intrinsic+json": {
              "type": "string"
            }
          },
          "metadata": {},
          "execution_count": 1
        }
      ],
      "source": [
        "\"atul\""
      ]
    },
    {
      "cell_type": "code",
      "source": [
        "class Student:\n",
        "  def __init__(self,name): ## method of an instance\n",
        "    self.name = name"
      ],
      "metadata": {
        "id": "tPUny3Giy_yZ"
      },
      "execution_count": null,
      "outputs": []
    },
    {
      "cell_type": "code",
      "source": [
        "obj = Student('atul')"
      ],
      "metadata": {
        "id": "9k1k2vS7zeTH"
      },
      "execution_count": null,
      "outputs": []
    },
    {
      "cell_type": "code",
      "source": [
        "obj.name"
      ],
      "metadata": {
        "colab": {
          "base_uri": "https://localhost:8080/",
          "height": 36
        },
        "id": "NVO5RLQ3zgog",
        "outputId": "9c00c4f9-8ed3-475e-841a-a7a44384b862"
      },
      "execution_count": null,
      "outputs": [
        {
          "output_type": "execute_result",
          "data": {
            "text/plain": [
              "'atul'"
            ],
            "application/vnd.google.colaboratory.intrinsic+json": {
              "type": "string"
            }
          },
          "metadata": {},
          "execution_count": 11
        }
      ]
    },
    {
      "cell_type": "code",
      "source": [
        "## class method : bound to the class , can access and modify methods and attribute of all instances\n",
        "\n",
        "class Student:\n",
        "\n",
        "  def __init__(self,name): ## method of an instance\n",
        "    self.name = name\n",
        "\n",
        "  @classmethod ## bound to the class\n",
        "  def Student_details(cls,name):\n",
        "    return cls(name)"
      ],
      "metadata": {
        "id": "25KKPQ6Uz5uH"
      },
      "execution_count": 2,
      "outputs": []
    },
    {
      "cell_type": "code",
      "source": [
        "o = Student.Student_details('atul')"
      ],
      "metadata": {
        "id": "gFxTfevh2DYL"
      },
      "execution_count": 3,
      "outputs": []
    },
    {
      "cell_type": "code",
      "source": [
        "o.name"
      ],
      "metadata": {
        "colab": {
          "base_uri": "https://localhost:8080/",
          "height": 36
        },
        "id": "kZISDpIb2JD7",
        "outputId": "65e176f5-01cc-4148-f457-41cff5889b07"
      },
      "execution_count": 4,
      "outputs": [
        {
          "output_type": "execute_result",
          "data": {
            "text/plain": [
              "'atul'"
            ],
            "application/vnd.google.colaboratory.intrinsic+json": {
              "type": "string"
            }
          },
          "metadata": {},
          "execution_count": 4
        }
      ]
    },
    {
      "cell_type": "code",
      "source": [
        "## class method : bound to the class , can access and modify methods and attribute of all instances\n",
        "\n",
        "class Student:\n",
        "\n",
        "  def __init__(self,name): ## method of an instance\n",
        "    self.name = name\n",
        "\n",
        "  @classmethod ## bound to the class\n",
        "  def Student_details(cls,name1):\n",
        "    return cls(name1)"
      ],
      "metadata": {
        "id": "_kgpAn5T2VzA"
      },
      "execution_count": 5,
      "outputs": []
    },
    {
      "cell_type": "code",
      "source": [
        "stud = Student.Student_details('anna')"
      ],
      "metadata": {
        "id": "c187PGb1kFls"
      },
      "execution_count": 6,
      "outputs": []
    },
    {
      "cell_type": "code",
      "source": [
        "stud.name"
      ],
      "metadata": {
        "colab": {
          "base_uri": "https://localhost:8080/",
          "height": 36
        },
        "id": "oCMoQL-8kKPD",
        "outputId": "7edde7dc-21fb-4ae7-bd9c-4dd32bf89033"
      },
      "execution_count": 8,
      "outputs": [
        {
          "output_type": "execute_result",
          "data": {
            "text/plain": [
              "'anna'"
            ],
            "application/vnd.google.colaboratory.intrinsic+json": {
              "type": "string"
            }
          },
          "metadata": {},
          "execution_count": 8
        }
      ]
    },
    {
      "cell_type": "code",
      "source": [
        "stud.Student_details('')"
      ],
      "metadata": {
        "colab": {
          "base_uri": "https://localhost:8080/"
        },
        "id": "dnE835vCkMa-",
        "outputId": "ddf7f222-955f-424c-92a9-974bdab6cbdf"
      },
      "execution_count": 11,
      "outputs": [
        {
          "output_type": "execute_result",
          "data": {
            "text/plain": [
              "<__main__.Student at 0x7c776530d990>"
            ]
          },
          "metadata": {},
          "execution_count": 11
        }
      ]
    },
    {
      "cell_type": "code",
      "source": [
        "class Student:\n",
        "\n",
        "  total_student = 0\n",
        "\n",
        "  def __init__(self,name): ## method of an instance\n",
        "    self.name = name\n",
        "    Student.total_student = Student.total_student +1\n",
        "\n",
        "  @classmethod ## bound to the class\n",
        "  def get_total_details(cls):\n",
        "    return cls.total_student"
      ],
      "metadata": {
        "id": "gjX1z7qikOlx"
      },
      "execution_count": 31,
      "outputs": []
    },
    {
      "cell_type": "code",
      "source": [
        "Student.total_student"
      ],
      "metadata": {
        "colab": {
          "base_uri": "https://localhost:8080/"
        },
        "id": "9FPHwj1gmTNP",
        "outputId": "fbf15484-9509-4586-a78e-c11af6753113"
      },
      "execution_count": 13,
      "outputs": [
        {
          "output_type": "execute_result",
          "data": {
            "text/plain": [
              "0"
            ]
          },
          "metadata": {},
          "execution_count": 13
        }
      ]
    },
    {
      "cell_type": "code",
      "source": [
        "st1 = Student('ajay')"
      ],
      "metadata": {
        "id": "aCCjIOdTmWCh"
      },
      "execution_count": 15,
      "outputs": []
    },
    {
      "cell_type": "code",
      "source": [
        "st2 = Student('bijay')"
      ],
      "metadata": {
        "id": "8U3UEVw7mZRp"
      },
      "execution_count": 16,
      "outputs": []
    },
    {
      "cell_type": "code",
      "source": [
        "Student.get_total_details()"
      ],
      "metadata": {
        "colab": {
          "base_uri": "https://localhost:8080/"
        },
        "id": "uZfCxw6nmoUj",
        "outputId": "073a6558-b884-49d4-c1cc-aabb1fa233d3"
      },
      "execution_count": 19,
      "outputs": [
        {
          "output_type": "execute_result",
          "data": {
            "text/plain": [
              "3"
            ]
          },
          "metadata": {},
          "execution_count": 19
        }
      ]
    },
    {
      "cell_type": "code",
      "source": [
        "## To make external class method to be part of the class\n",
        "class Student:\n",
        "\n",
        "  total_student = 0\n",
        "\n",
        "  def __init__(self,name): ## method of an instance\n",
        "    self.name = name\n",
        "    Student.total_student = Student.total_student +1\n",
        "\n",
        "  @classmethod ## bound to the class\n",
        "  def get_total_details(cls):\n",
        "    return cls.total_student"
      ],
      "metadata": {
        "id": "IrOQwGVImu5q"
      },
      "execution_count": 29,
      "outputs": []
    },
    {
      "cell_type": "code",
      "source": [
        "def course_details(cls,course_name):\n",
        "  print('The details of the course is :' ,course_name)"
      ],
      "metadata": {
        "id": "2ZsXZ16ooq6t"
      },
      "execution_count": 22,
      "outputs": []
    },
    {
      "cell_type": "code",
      "source": [
        "Student.course_details = classmethod(course_details) ## adding the external class method"
      ],
      "metadata": {
        "id": "z35iyTUnprtj"
      },
      "execution_count": 23,
      "outputs": []
    },
    {
      "cell_type": "code",
      "source": [
        "Student.course_details('DS')"
      ],
      "metadata": {
        "colab": {
          "base_uri": "https://localhost:8080/"
        },
        "id": "ejyrZNgbp5uE",
        "outputId": "9a4e0fef-68ce-4433-839f-4651a8c0c954"
      },
      "execution_count": 24,
      "outputs": [
        {
          "output_type": "stream",
          "name": "stdout",
          "text": [
            "The details of the course is : DS\n"
          ]
        }
      ]
    },
    {
      "cell_type": "code",
      "source": [
        "### delet any class method\n",
        "del Student.course_details"
      ],
      "metadata": {
        "id": "fwVRUnjaqBdR"
      },
      "execution_count": 26,
      "outputs": []
    },
    {
      "cell_type": "code",
      "source": [
        "Student.course_details('DS')"
      ],
      "metadata": {
        "colab": {
          "base_uri": "https://localhost:8080/",
          "height": 145
        },
        "id": "6VH9Se-KqF1W",
        "outputId": "5bb09fec-1f06-46ca-a75b-5b5d1204effa"
      },
      "execution_count": 27,
      "outputs": [
        {
          "output_type": "error",
          "ename": "AttributeError",
          "evalue": "type object 'Student' has no attribute 'course_details'",
          "traceback": [
            "\u001b[0;31m---------------------------------------------------------------------------\u001b[0m",
            "\u001b[0;31mAttributeError\u001b[0m                            Traceback (most recent call last)",
            "\u001b[0;32m<ipython-input-27-fba99326bd79>\u001b[0m in \u001b[0;36m<cell line: 0>\u001b[0;34m()\u001b[0m\n\u001b[0;32m----> 1\u001b[0;31m \u001b[0mStudent\u001b[0m\u001b[0;34m.\u001b[0m\u001b[0mcourse_details\u001b[0m\u001b[0;34m(\u001b[0m\u001b[0;34m'DS'\u001b[0m\u001b[0;34m)\u001b[0m\u001b[0;34m\u001b[0m\u001b[0;34m\u001b[0m\u001b[0m\n\u001b[0m",
            "\u001b[0;31mAttributeError\u001b[0m: type object 'Student' has no attribute 'course_details'"
          ]
        }
      ]
    },
    {
      "cell_type": "code",
      "source": [
        "Student.get_total_students() ### dont where i went wrong"
      ],
      "metadata": {
        "colab": {
          "base_uri": "https://localhost:8080/",
          "height": 145
        },
        "id": "BnlRRDC_qPkj",
        "outputId": "d0efe501-36cf-4127-99a4-900f05a45f59"
      },
      "execution_count": 33,
      "outputs": [
        {
          "output_type": "error",
          "ename": "AttributeError",
          "evalue": "type object 'Student' has no attribute 'get_total_students'",
          "traceback": [
            "\u001b[0;31m---------------------------------------------------------------------------\u001b[0m",
            "\u001b[0;31mAttributeError\u001b[0m                            Traceback (most recent call last)",
            "\u001b[0;32m<ipython-input-33-3e73a376b20a>\u001b[0m in \u001b[0;36m<cell line: 0>\u001b[0;34m()\u001b[0m\n\u001b[0;32m----> 1\u001b[0;31m \u001b[0mStudent\u001b[0m\u001b[0;34m.\u001b[0m\u001b[0mget_total_students\u001b[0m\u001b[0;34m(\u001b[0m\u001b[0;34m)\u001b[0m \u001b[0;31m### dont where i went wrong\u001b[0m\u001b[0;34m\u001b[0m\u001b[0;34m\u001b[0m\u001b[0m\n\u001b[0m",
            "\u001b[0;31mAttributeError\u001b[0m: type object 'Student' has no attribute 'get_total_students'"
          ]
        }
      ]
    },
    {
      "cell_type": "code",
      "source": [
        "## static method >> it doesnot have acces or modify class, work with the parameters that is passed"
      ],
      "metadata": {
        "id": "PaSY-njkqhh5"
      },
      "execution_count": 40,
      "outputs": []
    },
    {
      "cell_type": "code",
      "source": [
        "class Calculator:\n",
        "\n",
        "  @staticmethod\n",
        "  def add(x,y):\n",
        "    return x+y\n",
        "\n",
        "\n",
        "  @staticmethod\n",
        "  def subtract(x,y):\n",
        "      return x-y\n",
        "\n"
      ],
      "metadata": {
        "id": "rq60RLzIq6n4"
      },
      "execution_count": 41,
      "outputs": []
    },
    {
      "cell_type": "code",
      "source": [
        "Calculator.add(22,44)"
      ],
      "metadata": {
        "colab": {
          "base_uri": "https://localhost:8080/"
        },
        "id": "eNkv4DdPr-Qz",
        "outputId": "c38319e3-6faf-49df-d158-d40a74275ce8"
      },
      "execution_count": 42,
      "outputs": [
        {
          "output_type": "execute_result",
          "data": {
            "text/plain": [
              "66"
            ]
          },
          "metadata": {},
          "execution_count": 42
        }
      ]
    },
    {
      "cell_type": "code",
      "source": [
        "Calculator.subtract(444,234)"
      ],
      "metadata": {
        "colab": {
          "base_uri": "https://localhost:8080/"
        },
        "id": "RemdTnvrsNrN",
        "outputId": "abe01868-e44b-4717-aaf5-8d7802fe26fa"
      },
      "execution_count": 43,
      "outputs": [
        {
          "output_type": "execute_result",
          "data": {
            "text/plain": [
              "210"
            ]
          },
          "metadata": {},
          "execution_count": 43
        }
      ]
    },
    {
      "cell_type": "code",
      "source": [
        "class Myclass:\n",
        "  def __init__(self,x):\n",
        "    self.x = x\n",
        "  def __repr__(self):\n",
        "    return f\"Myclass ({self.x})\""
      ],
      "metadata": {
        "id": "kRa5B1IIsTYA"
      },
      "execution_count": 2,
      "outputs": []
    },
    {
      "cell_type": "code",
      "source": [
        "obj = Myclass(2)"
      ],
      "metadata": {
        "id": "rXslOu22SKuk"
      },
      "execution_count": 3,
      "outputs": []
    },
    {
      "cell_type": "code",
      "source": [
        "print(repr(obj))"
      ],
      "metadata": {
        "colab": {
          "base_uri": "https://localhost:8080/"
        },
        "id": "WosQFVV-SgBf",
        "outputId": "7c9b60a5-7331-405d-919b-d1c577949d78"
      },
      "execution_count": 4,
      "outputs": [
        {
          "output_type": "stream",
          "name": "stdout",
          "text": [
            "Myclass (2)\n"
          ]
        }
      ]
    },
    {
      "cell_type": "code",
      "source": [
        "a = 3\n",
        "b = 3\n",
        "a.__eq__(b)"
      ],
      "metadata": {
        "colab": {
          "base_uri": "https://localhost:8080/"
        },
        "id": "kIwHMeOYSlGm",
        "outputId": "0e6598ca-315e-4447-9dac-eba457c2d7e2"
      },
      "execution_count": 5,
      "outputs": [
        {
          "output_type": "execute_result",
          "data": {
            "text/plain": [
              "True"
            ]
          },
          "metadata": {},
          "execution_count": 5
        }
      ]
    },
    {
      "cell_type": "code",
      "source": [
        "class Point :\n",
        "  def __init__(self,x,y):\n",
        "    self.x = x\n",
        "    self.y = y\n",
        "\n",
        "  def __eq__(self,other):\n",
        "    return self.x == other.x and self.y == other.y"
      ],
      "metadata": {
        "id": "wqhLZkUOS3Iw"
      },
      "execution_count": 6,
      "outputs": []
    },
    {
      "cell_type": "code",
      "source": [
        "p1 = Point(1,2)\n",
        "p2 = Point(1,2)"
      ],
      "metadata": {
        "id": "K79Y2ky7T2_J"
      },
      "execution_count": 9,
      "outputs": []
    },
    {
      "cell_type": "code",
      "source": [
        "print(p1==p2)"
      ],
      "metadata": {
        "colab": {
          "base_uri": "https://localhost:8080/"
        },
        "id": "tqtr3308UAQA",
        "outputId": "fb2da8aa-2070-4dc5-fad5-38f930862225"
      },
      "execution_count": 10,
      "outputs": [
        {
          "output_type": "stream",
          "name": "stdout",
          "text": [
            "True\n"
          ]
        }
      ]
    },
    {
      "cell_type": "code",
      "source": [
        "a = Point(1,3)\n",
        "b = Point(1,4)\n"
      ],
      "metadata": {
        "id": "A17_-7UmUB-i"
      },
      "execution_count": 11,
      "outputs": []
    },
    {
      "cell_type": "code",
      "source": [
        "print(a == b)"
      ],
      "metadata": {
        "colab": {
          "base_uri": "https://localhost:8080/"
        },
        "id": "TT40p1bDUVmg",
        "outputId": "b4d3f08d-e5ae-4684-cb1a-74e684273f55"
      },
      "execution_count": 12,
      "outputs": [
        {
          "output_type": "stream",
          "name": "stdout",
          "text": [
            "False\n"
          ]
        }
      ]
    },
    {
      "cell_type": "code",
      "source": [],
      "metadata": {
        "id": "QwrpRg_QUYTr"
      },
      "execution_count": null,
      "outputs": []
    }
  ]
}