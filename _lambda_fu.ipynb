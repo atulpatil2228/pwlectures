{
  "nbformat": 4,
  "nbformat_minor": 0,
  "metadata": {
    "colab": {
      "provenance": [],
      "authorship_tag": "ABX9TyNeC3WnGoFBWhpmtYhgHPPi",
      "include_colab_link": true
    },
    "kernelspec": {
      "name": "python3",
      "display_name": "Python 3"
    },
    "language_info": {
      "name": "python"
    }
  },
  "cells": [
    {
      "cell_type": "markdown",
      "metadata": {
        "id": "view-in-github",
        "colab_type": "text"
      },
      "source": [
        "<a href=\"https://colab.research.google.com/github/atulpatil2228/pwlectures/blob/main/_lambda_fu.ipynb\" target=\"_parent\"><img src=\"https://colab.research.google.com/assets/colab-badge.svg\" alt=\"Open In Colab\"/></a>"
      ]
    },
    {
      "cell_type": "code",
      "execution_count": null,
      "metadata": {
        "id": "4B4wiDYU4JOv"
      },
      "outputs": [],
      "source": [
        "## Lambda >> anonymous function\n",
        "## sybtx : Lambda  argument : expression"
      ]
    },
    {
      "cell_type": "code",
      "source": [
        "def square(x):\n",
        "  return x**2"
      ],
      "metadata": {
        "id": "eAT5goJu5_FO"
      },
      "execution_count": null,
      "outputs": []
    },
    {
      "cell_type": "code",
      "source": [
        "square(44)"
      ],
      "metadata": {
        "colab": {
          "base_uri": "https://localhost:8080/"
        },
        "id": "psHc-3Mt6RmD",
        "outputId": "c55b7cfe-f5fe-48a6-ac39-c78a1c19d467"
      },
      "execution_count": null,
      "outputs": [
        {
          "output_type": "execute_result",
          "data": {
            "text/plain": [
              "1936"
            ]
          },
          "metadata": {},
          "execution_count": 4
        }
      ]
    },
    {
      "cell_type": "code",
      "source": [
        "sq_no = lambda x : x**2"
      ],
      "metadata": {
        "id": "NZjwyi4d6Tdp"
      },
      "execution_count": null,
      "outputs": []
    },
    {
      "cell_type": "code",
      "source": [
        "s_n0 = lambda x : x**2"
      ],
      "metadata": {
        "id": "Lbrd-HKU6fxk"
      },
      "execution_count": null,
      "outputs": []
    },
    {
      "cell_type": "code",
      "source": [
        "s_n0(22)"
      ],
      "metadata": {
        "colab": {
          "base_uri": "https://localhost:8080/"
        },
        "id": "yGrG_LvE6kjm",
        "outputId": "1cfd982e-b068-4844-9905-c8c4a93c4934"
      },
      "execution_count": null,
      "outputs": [
        {
          "output_type": "execute_result",
          "data": {
            "text/plain": [
              "484"
            ]
          },
          "metadata": {},
          "execution_count": 3
        }
      ]
    },
    {
      "cell_type": "code",
      "source": [
        "sq_no(999)"
      ],
      "metadata": {
        "colab": {
          "base_uri": "https://localhost:8080/"
        },
        "id": "nQy49E4v7FCA",
        "outputId": "30986606-5fc1-4246-edef-e4672d6a8cfe"
      },
      "execution_count": null,
      "outputs": [
        {
          "output_type": "execute_result",
          "data": {
            "text/plain": [
              "998001"
            ]
          },
          "metadata": {},
          "execution_count": 9
        }
      ]
    },
    {
      "cell_type": "code",
      "source": [
        " add_no =lambda a,b : a+b"
      ],
      "metadata": {
        "id": "_RxOansc7OE7"
      },
      "execution_count": null,
      "outputs": []
    },
    {
      "cell_type": "code",
      "source": [
        "add_n = lambda a,b : a + b"
      ],
      "metadata": {
        "id": "jVJjXwst6p4X"
      },
      "execution_count": null,
      "outputs": []
    },
    {
      "cell_type": "code",
      "source": [
        "add_n(22,33)"
      ],
      "metadata": {
        "colab": {
          "base_uri": "https://localhost:8080/"
        },
        "id": "ZRvFe-jP6y0u",
        "outputId": "62374749-93bb-4181-ec20-536b83789577"
      },
      "execution_count": null,
      "outputs": [
        {
          "output_type": "execute_result",
          "data": {
            "text/plain": [
              "55"
            ]
          },
          "metadata": {},
          "execution_count": 6
        }
      ]
    },
    {
      "cell_type": "code",
      "source": [
        "add_no(44,33)"
      ],
      "metadata": {
        "colab": {
          "base_uri": "https://localhost:8080/"
        },
        "id": "Y0nXvvR-8D2N",
        "outputId": "6922280a-232c-4504-d24d-f916533d762b"
      },
      "execution_count": null,
      "outputs": [
        {
          "output_type": "execute_result",
          "data": {
            "text/plain": [
              "77"
            ]
          },
          "metadata": {},
          "execution_count": 11
        }
      ]
    },
    {
      "cell_type": "code",
      "source": [
        " is_even  = lambda  x : x % 2 == 0"
      ],
      "metadata": {
        "id": "apsVZY078Fhv"
      },
      "execution_count": null,
      "outputs": []
    },
    {
      "cell_type": "code",
      "source": [
        "i_even = lambda x : x % 2 == 0"
      ],
      "metadata": {
        "id": "v5oYX75e63oF"
      },
      "execution_count": null,
      "outputs": []
    },
    {
      "cell_type": "code",
      "source": [
        "i_even(244)"
      ],
      "metadata": {
        "colab": {
          "base_uri": "https://localhost:8080/"
        },
        "id": "7St6-udl6_LV",
        "outputId": "27a2a30d-3eee-47a7-9780-bef237250aa1"
      },
      "execution_count": null,
      "outputs": [
        {
          "output_type": "execute_result",
          "data": {
            "text/plain": [
              "True"
            ]
          },
          "metadata": {},
          "execution_count": 8
        }
      ]
    },
    {
      "cell_type": "code",
      "source": [
        "is_even(2)"
      ],
      "metadata": {
        "colab": {
          "base_uri": "https://localhost:8080/"
        },
        "id": "i9yVqwBT8TO-",
        "outputId": "3db5ba0f-9fe9-46a6-a880-62feb5713cb8"
      },
      "execution_count": null,
      "outputs": [
        {
          "output_type": "execute_result",
          "data": {
            "text/plain": [
              "True"
            ]
          },
          "metadata": {},
          "execution_count": 14
        }
      ]
    },
    {
      "cell_type": "code",
      "source": [
        "is_even(5)"
      ],
      "metadata": {
        "colab": {
          "base_uri": "https://localhost:8080/"
        },
        "id": "dfpbC2_H8YQ8",
        "outputId": "6d45b180-aa09-4114-8920-9c4c47f0cfa2"
      },
      "execution_count": null,
      "outputs": [
        {
          "output_type": "execute_result",
          "data": {
            "text/plain": [
              "False"
            ]
          },
          "metadata": {},
          "execution_count": 15
        }
      ]
    },
    {
      "cell_type": "code",
      "source": [
        "x = ['Python','Data science' ,'Ajay']\n",
        "sorted_words = sorted(x , key = lambda x : len(x))\n",
        "print(sorted_words)"
      ],
      "metadata": {
        "colab": {
          "base_uri": "https://localhost:8080/"
        },
        "id": "17ya2a_q8axk",
        "outputId": "3b5f1409-37ff-4b95-e777-23abd2eb9416"
      },
      "execution_count": null,
      "outputs": [
        {
          "output_type": "stream",
          "name": "stdout",
          "text": [
            "['Ajay', 'Python', 'Data science']\n"
          ]
        }
      ]
    },
    {
      "cell_type": "code",
      "source": [
        "x = ['annna' ,'terse' ,'tawdry']\n",
        "sorted_w = sorted(x ,key =  lambda x : len(x))\n",
        "print(sorted_w)"
      ],
      "metadata": {
        "colab": {
          "base_uri": "https://localhost:8080/"
        },
        "id": "GEf9fvo-7Chs",
        "outputId": "17df9b36-c20c-4610-dd5a-3ec378a09e8d"
      },
      "execution_count": null,
      "outputs": [
        {
          "output_type": "stream",
          "name": "stdout",
          "text": [
            "['annna', 'terse', 'tawdry']\n"
          ]
        }
      ]
    },
    {
      "cell_type": "code",
      "source": [
        "fib = lambda n : n if n <= 1 else  fib(n-1) + fib(n-2)\n",
        "[fib(i) for i in range(10)]"
      ],
      "metadata": {
        "colab": {
          "base_uri": "https://localhost:8080/"
        },
        "id": "N7Dh8Qdo8rag",
        "outputId": "50a8b8f8-0159-4a4d-bffd-d86d513e4cdf"
      },
      "execution_count": null,
      "outputs": [
        {
          "output_type": "execute_result",
          "data": {
            "text/plain": [
              "[0, 1, 1, 2, 3, 5, 8, 13, 21, 34]"
            ]
          },
          "metadata": {},
          "execution_count": 21
        }
      ]
    },
    {
      "cell_type": "code",
      "source": [
        "fib = lambda n : n if n<= 1 else fib(n-1) + fib(n-2)"
      ],
      "metadata": {
        "id": "xmlqkrYN7p2s"
      },
      "execution_count": null,
      "outputs": []
    },
    {
      "cell_type": "code",
      "source": [
        "def fact_num(n):\n",
        "  if n == 0 :\n",
        "    return 1\n",
        "  else:\n",
        "      return n*fact_num(n-1)"
      ],
      "metadata": {
        "id": "-nhjx69p8mRH"
      },
      "execution_count": null,
      "outputs": []
    },
    {
      "cell_type": "code",
      "source": [
        "def f_num(n):\n",
        "  if n == 0:\n",
        "    return 1\n",
        "  else :\n",
        "    return n*(n-1)"
      ],
      "metadata": {
        "id": "79-6ewWC71D1"
      },
      "execution_count": null,
      "outputs": []
    },
    {
      "cell_type": "code",
      "source": [
        "f_num(4)"
      ],
      "metadata": {
        "colab": {
          "base_uri": "https://localhost:8080/"
        },
        "id": "leoMQPjJ8AQO",
        "outputId": "74e31f1c-802c-4f4d-ae20-9ae5b532c8f2"
      },
      "execution_count": null,
      "outputs": [
        {
          "output_type": "execute_result",
          "data": {
            "text/plain": [
              "12"
            ]
          },
          "metadata": {},
          "execution_count": 14
        }
      ]
    },
    {
      "cell_type": "code",
      "source": [
        "fact_num(5)"
      ],
      "metadata": {
        "colab": {
          "base_uri": "https://localhost:8080/"
        },
        "id": "UVkgkf2LNvmB",
        "outputId": "45968a2f-179b-41e2-cd62-c4ea23387b04"
      },
      "execution_count": null,
      "outputs": [
        {
          "output_type": "execute_result",
          "data": {
            "text/plain": [
              "120"
            ]
          },
          "metadata": {},
          "execution_count": 23
        }
      ]
    },
    {
      "cell_type": "code",
      "source": [
        "f_number = lambda n :1 if n == 0  else n*f_number(n-1)"
      ],
      "metadata": {
        "id": "riP0830oNxGU"
      },
      "execution_count": null,
      "outputs": []
    },
    {
      "cell_type": "code",
      "source": [
        "f_num = lambda n : 1 if n == 0 else n * (n-1)"
      ],
      "metadata": {
        "id": "Cy904m6f8GR2"
      },
      "execution_count": null,
      "outputs": []
    },
    {
      "cell_type": "code",
      "source": [
        "f_num(2)"
      ],
      "metadata": {
        "colab": {
          "base_uri": "https://localhost:8080/"
        },
        "id": "Be_udRSU8P50",
        "outputId": "e5c79550-7f80-472a-ded9-11247fd75188"
      },
      "execution_count": null,
      "outputs": [
        {
          "output_type": "execute_result",
          "data": {
            "text/plain": [
              "2"
            ]
          },
          "metadata": {},
          "execution_count": 16
        }
      ]
    },
    {
      "cell_type": "code",
      "source": [
        "f_number(5)"
      ],
      "metadata": {
        "colab": {
          "base_uri": "https://localhost:8080/"
        },
        "id": "ZihoQMHVOXsr",
        "outputId": "79fa71e5-a62a-43b2-c6ca-b89cd1a82b79"
      },
      "execution_count": null,
      "outputs": [
        {
          "output_type": "execute_result",
          "data": {
            "text/plain": [
              "120"
            ]
          },
          "metadata": {},
          "execution_count": 37
        }
      ]
    },
    {
      "cell_type": "code",
      "source": [
        "f_number(0)"
      ],
      "metadata": {
        "colab": {
          "base_uri": "https://localhost:8080/"
        },
        "id": "jjLSmDsGOZOw",
        "outputId": "4db4985f-7b59-4c90-a5a2-05a0417cf20c"
      },
      "execution_count": null,
      "outputs": [
        {
          "output_type": "execute_result",
          "data": {
            "text/plain": [
              "1"
            ]
          },
          "metadata": {},
          "execution_count": 40
        }
      ]
    },
    {
      "cell_type": "code",
      "source": [
        "f_number = lambda n :1 if n == 0  else n*(n-1)"
      ],
      "metadata": {
        "id": "cfbmdhrnOjov"
      },
      "execution_count": null,
      "outputs": []
    },
    {
      "cell_type": "code",
      "source": [
        "f_number(0)"
      ],
      "metadata": {
        "colab": {
          "base_uri": "https://localhost:8080/"
        },
        "id": "qhZ5W53RP9jy",
        "outputId": "27047145-8093-44f6-9585-ec4dc9607dc1"
      },
      "execution_count": null,
      "outputs": [
        {
          "output_type": "execute_result",
          "data": {
            "text/plain": [
              "1"
            ]
          },
          "metadata": {},
          "execution_count": 39
        }
      ]
    },
    {
      "cell_type": "code",
      "source": [
        "## map >> executes a specified function for each of the items of an iterable\n",
        "## syntax > map (func , * iterables)"
      ],
      "metadata": {
        "id": "nHOHKyJKP_zv"
      },
      "execution_count": null,
      "outputs": []
    },
    {
      "cell_type": "code",
      "source": [
        "help(map)"
      ],
      "metadata": {
        "colab": {
          "base_uri": "https://localhost:8080/"
        },
        "id": "UwFEp8eMR0vq",
        "outputId": "d7580698-8384-4015-86ed-03923961e0e0"
      },
      "execution_count": null,
      "outputs": [
        {
          "output_type": "stream",
          "name": "stdout",
          "text": [
            "Help on class map in module builtins:\n",
            "\n",
            "class map(object)\n",
            " |  map(func, *iterables) --> map object\n",
            " |  \n",
            " |  Make an iterator that computes the function using arguments from\n",
            " |  each of the iterables.  Stops when the shortest iterable is exhausted.\n",
            " |  \n",
            " |  Methods defined here:\n",
            " |  \n",
            " |  __getattribute__(self, name, /)\n",
            " |      Return getattr(self, name).\n",
            " |  \n",
            " |  __iter__(self, /)\n",
            " |      Implement iter(self).\n",
            " |  \n",
            " |  __next__(self, /)\n",
            " |      Implement next(self).\n",
            " |  \n",
            " |  __reduce__(...)\n",
            " |      Return state information for pickling.\n",
            " |  \n",
            " |  ----------------------------------------------------------------------\n",
            " |  Static methods defined here:\n",
            " |  \n",
            " |  __new__(*args, **kwargs)\n",
            " |      Create and return a new object.  See help(type) for accurate signature.\n",
            "\n"
          ]
        }
      ]
    },
    {
      "cell_type": "code",
      "source": [
        "l =[1,2,3,4]\n",
        "def square(l):\n",
        "  sq = []\n",
        "  for i in l :\n",
        "    sq.append(i**2)\n",
        "  return sq\n"
      ],
      "metadata": {
        "id": "Crntep8JSMBh"
      },
      "execution_count": null,
      "outputs": []
    },
    {
      "cell_type": "code",
      "source": [
        "l = [1,2,3,4]\n",
        "def square(l):\n",
        "  sq = []\n",
        "  for i in 1 :\n",
        "    sq.append(i**2)\n",
        "  return sq"
      ],
      "metadata": {
        "id": "hzRkekkn8Wr-"
      },
      "execution_count": null,
      "outputs": []
    },
    {
      "cell_type": "code",
      "source": [
        "square(l)"
      ],
      "metadata": {
        "colab": {
          "base_uri": "https://localhost:8080/"
        },
        "id": "0EhQA9fBTFUi",
        "outputId": "a45bbe94-c21a-4d40-cd24-362c74702984"
      },
      "execution_count": null,
      "outputs": [
        {
          "output_type": "execute_result",
          "data": {
            "text/plain": [
              "[1, 4, 9, 16]"
            ]
          },
          "metadata": {},
          "execution_count": 47
        }
      ]
    },
    {
      "cell_type": "code",
      "source": [],
      "metadata": {
        "id": "MgSvPCdmTGD0"
      },
      "execution_count": null,
      "outputs": []
    },
    {
      "cell_type": "code",
      "source": [
        "def sq(x):\n",
        "  return x**2"
      ],
      "metadata": {
        "id": "Tl_CK4PlTIIn"
      },
      "execution_count": null,
      "outputs": []
    },
    {
      "cell_type": "code",
      "source": [
        "list(map(sq,l))"
      ],
      "metadata": {
        "colab": {
          "base_uri": "https://localhost:8080/"
        },
        "id": "F7nioPnPTgQI",
        "outputId": "14f90f84-dc17-41b2-c7e2-23edfe7c9b47"
      },
      "execution_count": null,
      "outputs": [
        {
          "output_type": "execute_result",
          "data": {
            "text/plain": [
              "[1, 4, 9, 16]"
            ]
          },
          "metadata": {},
          "execution_count": 51
        }
      ]
    },
    {
      "cell_type": "code",
      "source": [
        "def add(x):\n",
        "  return x + 10\n",
        "\n",
        "a = list(map(add,l))"
      ],
      "metadata": {
        "id": "nOiDfskzTwYI"
      },
      "execution_count": null,
      "outputs": []
    },
    {
      "cell_type": "code",
      "source": [
        "a"
      ],
      "metadata": {
        "colab": {
          "base_uri": "https://localhost:8080/"
        },
        "id": "89u2DLkcUeV0",
        "outputId": "49b53228-2892-452a-f755-83aa3e67ec08"
      },
      "execution_count": null,
      "outputs": [
        {
          "output_type": "execute_result",
          "data": {
            "text/plain": [
              "[11, 12, 13, 14]"
            ]
          },
          "metadata": {},
          "execution_count": 61
        }
      ]
    },
    {
      "cell_type": "code",
      "source": [
        "def sq(x):\n",
        "  return x**2\n",
        "\n",
        "list(map(sq ,l))\n"
      ],
      "metadata": {
        "colab": {
          "base_uri": "https://localhost:8080/"
        },
        "id": "AxOI_RIQUjoo",
        "outputId": "760a78ef-5a9b-4985-f794-f90a428c2690"
      },
      "execution_count": null,
      "outputs": [
        {
          "output_type": "execute_result",
          "data": {
            "text/plain": [
              "[1, 4, 9, 16]"
            ]
          },
          "metadata": {},
          "execution_count": 63
        }
      ]
    },
    {
      "cell_type": "code",
      "source": [
        "## now doing the same function using  lambda\n",
        "list(map(lambda x : x**2 ,l))"
      ],
      "metadata": {
        "colab": {
          "base_uri": "https://localhost:8080/"
        },
        "id": "ws0Iw-I4VIaJ",
        "outputId": "ddcaf97e-ae86-47d2-bcd7-d3049686ff71"
      },
      "execution_count": null,
      "outputs": [
        {
          "output_type": "execute_result",
          "data": {
            "text/plain": [
              "[1, 4, 9, 16]"
            ]
          },
          "metadata": {},
          "execution_count": 65
        }
      ]
    },
    {
      "cell_type": "code",
      "source": [
        "list(map(lambda x : x+102 ,l))"
      ],
      "metadata": {
        "colab": {
          "base_uri": "https://localhost:8080/"
        },
        "id": "6cND_dInVRD5",
        "outputId": "72854d90-52b3-4fa2-da69-d5e5beb303fe"
      },
      "execution_count": null,
      "outputs": [
        {
          "output_type": "execute_result",
          "data": {
            "text/plain": [
              "[103, 104, 105, 106]"
            ]
          },
          "metadata": {},
          "execution_count": 66
        }
      ]
    },
    {
      "cell_type": "code",
      "source": [
        " a = lambda x : x**2\n",
        " list(map(a,l))"
      ],
      "metadata": {
        "colab": {
          "base_uri": "https://localhost:8080/"
        },
        "id": "TcU2PGGvVslt",
        "outputId": "16f7e703-9b72-4a0a-a4b7-edb369535978"
      },
      "execution_count": null,
      "outputs": [
        {
          "output_type": "execute_result",
          "data": {
            "text/plain": [
              "[1, 4, 9, 16]"
            ]
          },
          "metadata": {},
          "execution_count": 69
        }
      ]
    },
    {
      "cell_type": "code",
      "source": [
        "l = ['1' , '2','3','4','100']\n",
        "list(map(lambda x : int(x),l))"
      ],
      "metadata": {
        "colab": {
          "base_uri": "https://localhost:8080/"
        },
        "id": "Py5UUP2wV3Db",
        "outputId": "551f616b-4003-4827-c603-d889509fc3c4"
      },
      "execution_count": null,
      "outputs": [
        {
          "output_type": "execute_result",
          "data": {
            "text/plain": [
              "[1, 2, 3, 4, 100]"
            ]
          },
          "metadata": {},
          "execution_count": 71
        }
      ]
    },
    {
      "cell_type": "code",
      "source": [
        "l = ['1','2','3','4']\n",
        "list(map(lambda x : int(x) , l))"
      ],
      "metadata": {
        "colab": {
          "base_uri": "https://localhost:8080/"
        },
        "id": "bDvSuTAq9doF",
        "outputId": "2671cec4-d45a-44d6-fb23-e737a188e963"
      },
      "execution_count": null,
      "outputs": [
        {
          "output_type": "execute_result",
          "data": {
            "text/plain": [
              "[1, 2, 3, 4]"
            ]
          },
          "metadata": {},
          "execution_count": 18
        }
      ]
    },
    {
      "cell_type": "code",
      "source": [],
      "metadata": {
        "id": "sMB8ilQa9dgF"
      },
      "execution_count": null,
      "outputs": []
    },
    {
      "cell_type": "code",
      "source": [
        "l1  = [100,200,300,400]\n",
        "l2 = [1,2,3,4]\n",
        "list(map(lambda x,y :  x + y ,l1,l2))"
      ],
      "metadata": {
        "colab": {
          "base_uri": "https://localhost:8080/"
        },
        "id": "NInvUIVSWVIw",
        "outputId": "ceb4fd40-7f19-476a-f103-d952cf2b6ef6"
      },
      "execution_count": null,
      "outputs": [
        {
          "output_type": "execute_result",
          "data": {
            "text/plain": [
              "[101, 202, 303, 404]"
            ]
          },
          "metadata": {},
          "execution_count": 75
        }
      ]
    },
    {
      "cell_type": "code",
      "source": [
        "s  = \"pwskills\"\n",
        "list(map(lambda x : x.upper() ,s))"
      ],
      "metadata": {
        "colab": {
          "base_uri": "https://localhost:8080/"
        },
        "id": "Idl8X8K6iB9O",
        "outputId": "e7f3df2a-2dc5-41d4-dea4-fa76e8f13f31"
      },
      "execution_count": null,
      "outputs": [
        {
          "output_type": "execute_result",
          "data": {
            "text/plain": [
              "['P', 'W', 'S', 'K', 'I', 'L', 'L', 'S']"
            ]
          },
          "metadata": {},
          "execution_count": 76
        }
      ]
    },
    {
      "cell_type": "code",
      "source": [
        "s = 'pwskills'\n",
        "list (map(lambda x : x.upper() ,s))"
      ],
      "metadata": {
        "colab": {
          "base_uri": "https://localhost:8080/"
        },
        "id": "GXcIFoqo9zUc",
        "outputId": "54c37765-d2b4-4723-a25a-dcde47a697fb"
      },
      "execution_count": null,
      "outputs": [
        {
          "output_type": "execute_result",
          "data": {
            "text/plain": [
              "['P', 'W', 'S', 'K', 'I', 'L', 'L', 'S']"
            ]
          },
          "metadata": {},
          "execution_count": 19
        }
      ]
    },
    {
      "cell_type": "code",
      "source": [],
      "metadata": {
        "id": "LWC0X4P39zRd"
      },
      "execution_count": null,
      "outputs": []
    },
    {
      "cell_type": "code",
      "source": [
        "words = ['pyhton' , 'atul']\n",
        "list(map(str.capitalize,words))"
      ],
      "metadata": {
        "colab": {
          "base_uri": "https://localhost:8080/"
        },
        "id": "w081v7OujGai",
        "outputId": "54bfbd7e-bf5a-4e16-d979-be88f4140ad0"
      },
      "execution_count": null,
      "outputs": [
        {
          "output_type": "execute_result",
          "data": {
            "text/plain": [
              "['Pyhton', 'Atul']"
            ]
          },
          "metadata": {},
          "execution_count": 78
        }
      ]
    },
    {
      "cell_type": "code",
      "source": [
        "w = ['python' ,'atul']\n",
        "b = list(map(str.capitalize, w))"
      ],
      "metadata": {
        "id": "yzI-T_p9-Do2"
      },
      "execution_count": null,
      "outputs": []
    },
    {
      "cell_type": "code",
      "source": [
        "b"
      ],
      "metadata": {
        "colab": {
          "base_uri": "https://localhost:8080/"
        },
        "id": "U-ODki8F-Dmc",
        "outputId": "273f9a92-d0c2-444d-a5cc-6f981d9449a4"
      },
      "execution_count": null,
      "outputs": [
        {
          "output_type": "execute_result",
          "data": {
            "text/plain": [
              "['Python', 'Atul']"
            ]
          },
          "metadata": {},
          "execution_count": 26
        }
      ]
    },
    {
      "cell_type": "code",
      "source": [
        "grades = ['A','B','C','D']\n",
        "list (map (lambda grade : 4 if grade == 'A' else (3 if grade == 'B' else 2) , grades ))"
      ],
      "metadata": {
        "colab": {
          "base_uri": "https://localhost:8080/"
        },
        "id": "vF9zjnbMjzzB",
        "outputId": "d186defe-aef3-4321-c9ce-c6a9dceb93eb"
      },
      "execution_count": null,
      "outputs": [
        {
          "output_type": "execute_result",
          "data": {
            "text/plain": [
              "[4, 3, 2, 2]"
            ]
          },
          "metadata": {},
          "execution_count": 80
        }
      ]
    },
    {
      "cell_type": "code",
      "source": [
        "## reduces functions >> followig / reduction function\n",
        "\n",
        "from functools import reduce"
      ],
      "metadata": {
        "id": "c1BfRO5Sk9mg"
      },
      "execution_count": 2,
      "outputs": []
    },
    {
      "cell_type": "code",
      "source": [
        "l = [1,2,3,4,5,6]\n",
        "reduce(lambda x,y : x+y , l)"
      ],
      "metadata": {
        "id": "wj6u-t7ulJUT",
        "colab": {
          "base_uri": "https://localhost:8080/"
        },
        "outputId": "142bd9ce-228d-48a2-e2dd-7f89ea3b251f"
      },
      "execution_count": 9,
      "outputs": [
        {
          "output_type": "execute_result",
          "data": {
            "text/plain": [
              "21"
            ]
          },
          "metadata": {},
          "execution_count": 9
        }
      ]
    },
    {
      "cell_type": "code",
      "source": [
        "def add(a,b):\n",
        "  return a + b"
      ],
      "metadata": {
        "id": "_T7xMqtv9DYm"
      },
      "execution_count": 7,
      "outputs": []
    },
    {
      "cell_type": "code",
      "source": [
        "reduce(add,l)"
      ],
      "metadata": {
        "colab": {
          "base_uri": "https://localhost:8080/"
        },
        "id": "mohUBeEX-BCq",
        "outputId": "6d247ef5-2873-46ec-94fa-0291970ee63e"
      },
      "execution_count": 9,
      "outputs": [
        {
          "output_type": "execute_result",
          "data": {
            "text/plain": [
              "21"
            ]
          },
          "metadata": {},
          "execution_count": 9
        }
      ]
    },
    {
      "cell_type": "code",
      "source": [
        "l = [1,2,3,4,5] ## reduce function only reduce to 2 arguments\n",
        "reduce(lambda x,y,z : x + y + z)"
      ],
      "metadata": {
        "colab": {
          "base_uri": "https://localhost:8080/",
          "height": 158
        },
        "id": "_KAsJLH_-HKC",
        "outputId": "46f9d6e6-ad0b-4f5f-ab82-341f4a2804b6"
      },
      "execution_count": 11,
      "outputs": [
        {
          "output_type": "error",
          "ename": "TypeError",
          "evalue": "reduce expected at least 2 arguments, got 1",
          "traceback": [
            "\u001b[0;31m---------------------------------------------------------------------------\u001b[0m",
            "\u001b[0;31mTypeError\u001b[0m                                 Traceback (most recent call last)",
            "\u001b[0;32m<ipython-input-11-d06b71bd6703>\u001b[0m in \u001b[0;36m<cell line: 0>\u001b[0;34m()\u001b[0m\n\u001b[1;32m      1\u001b[0m \u001b[0ml\u001b[0m \u001b[0;34m=\u001b[0m \u001b[0;34m[\u001b[0m\u001b[0;36m1\u001b[0m\u001b[0;34m,\u001b[0m\u001b[0;36m2\u001b[0m\u001b[0;34m,\u001b[0m\u001b[0;36m3\u001b[0m\u001b[0;34m,\u001b[0m\u001b[0;36m4\u001b[0m\u001b[0;34m,\u001b[0m\u001b[0;36m5\u001b[0m\u001b[0;34m]\u001b[0m \u001b[0;31m## reduce function only reduce to 2 arguments\u001b[0m\u001b[0;34m\u001b[0m\u001b[0;34m\u001b[0m\u001b[0m\n\u001b[0;32m----> 2\u001b[0;31m \u001b[0mreduce\u001b[0m\u001b[0;34m(\u001b[0m\u001b[0;32mlambda\u001b[0m \u001b[0mx\u001b[0m\u001b[0;34m,\u001b[0m\u001b[0my\u001b[0m\u001b[0;34m,\u001b[0m\u001b[0mz\u001b[0m \u001b[0;34m:\u001b[0m \u001b[0mx\u001b[0m \u001b[0;34m+\u001b[0m \u001b[0my\u001b[0m \u001b[0;34m+\u001b[0m \u001b[0mz\u001b[0m\u001b[0;34m)\u001b[0m\u001b[0;34m\u001b[0m\u001b[0;34m\u001b[0m\u001b[0m\n\u001b[0m",
            "\u001b[0;31mTypeError\u001b[0m: reduce expected at least 2 arguments, got 1"
          ]
        }
      ]
    },
    {
      "cell_type": "code",
      "source": [
        "reduce (lambda x,y  :  x+y ,[])"
      ],
      "metadata": {
        "colab": {
          "base_uri": "https://localhost:8080/",
          "height": 141
        },
        "id": "Gnb0Xxij_v5w",
        "outputId": "05643c7b-8d98-4af1-a84d-159ce40860cc"
      },
      "execution_count": 12,
      "outputs": [
        {
          "output_type": "error",
          "ename": "TypeError",
          "evalue": "reduce() of empty iterable with no initial value",
          "traceback": [
            "\u001b[0;31m---------------------------------------------------------------------------\u001b[0m",
            "\u001b[0;31mTypeError\u001b[0m                                 Traceback (most recent call last)",
            "\u001b[0;32m<ipython-input-12-cd1def89f45e>\u001b[0m in \u001b[0;36m<cell line: 0>\u001b[0;34m()\u001b[0m\n\u001b[0;32m----> 1\u001b[0;31m \u001b[0mreduce\u001b[0m \u001b[0;34m(\u001b[0m\u001b[0;32mlambda\u001b[0m \u001b[0mx\u001b[0m\u001b[0;34m,\u001b[0m\u001b[0my\u001b[0m  \u001b[0;34m:\u001b[0m  \u001b[0mx\u001b[0m\u001b[0;34m+\u001b[0m\u001b[0my\u001b[0m \u001b[0;34m,\u001b[0m\u001b[0;34m[\u001b[0m\u001b[0;34m]\u001b[0m\u001b[0;34m)\u001b[0m\u001b[0;34m\u001b[0m\u001b[0;34m\u001b[0m\u001b[0m\n\u001b[0m",
            "\u001b[0;31mTypeError\u001b[0m: reduce() of empty iterable with no initial value"
          ]
        }
      ]
    },
    {
      "cell_type": "code",
      "source": [
        "reduce (lambda x,y  :  x+y ,[1])"
      ],
      "metadata": {
        "colab": {
          "base_uri": "https://localhost:8080/"
        },
        "id": "YAVfEEk_ABVZ",
        "outputId": "ad124541-e7ad-4221-8816-672589817e0d"
      },
      "execution_count": 13,
      "outputs": [
        {
          "output_type": "execute_result",
          "data": {
            "text/plain": [
              "1"
            ]
          },
          "metadata": {},
          "execution_count": 13
        }
      ]
    },
    {
      "cell_type": "code",
      "source": [
        "reduce(lambda x , y : x * y ,[1] )"
      ],
      "metadata": {
        "colab": {
          "base_uri": "https://localhost:8080/"
        },
        "id": "BBcI19G8AElW",
        "outputId": "d7638a15-8119-426c-c33d-d1c838cdf946"
      },
      "execution_count": 14,
      "outputs": [
        {
          "output_type": "execute_result",
          "data": {
            "text/plain": [
              "1"
            ]
          },
          "metadata": {},
          "execution_count": 14
        }
      ]
    },
    {
      "cell_type": "code",
      "source": [
        "reduce(lambda x , y : x * y ,l )"
      ],
      "metadata": {
        "colab": {
          "base_uri": "https://localhost:8080/"
        },
        "id": "5Jrn_HBCAWCR",
        "outputId": "f985b67b-b606-4357-9de6-ce11bc3962f4"
      },
      "execution_count": 15,
      "outputs": [
        {
          "output_type": "execute_result",
          "data": {
            "text/plain": [
              "120"
            ]
          },
          "metadata": {},
          "execution_count": 15
        }
      ]
    },
    {
      "cell_type": "code",
      "source": [
        "words = ['data' ,'science' ,'courses']\n",
        "reduce(lambda x,y : x + \" \" +  y, words)"
      ],
      "metadata": {
        "colab": {
          "base_uri": "https://localhost:8080/",
          "height": 35
        },
        "id": "lyf8V1AnAZRd",
        "outputId": "085ed8da-1b3f-4a5b-aab3-eab009e444f3"
      },
      "execution_count": 21,
      "outputs": [
        {
          "output_type": "execute_result",
          "data": {
            "text/plain": [
              "'data science courses'"
            ],
            "application/vnd.google.colaboratory.intrinsic+json": {
              "type": "string"
            }
          },
          "metadata": {},
          "execution_count": 21
        }
      ]
    },
    {
      "cell_type": "code",
      "source": [
        "numbers = [1,2,5,3,100,1000,6,1000]\n",
        "reduce(lambda x,y : x if x>y else y , numbers)"
      ],
      "metadata": {
        "colab": {
          "base_uri": "https://localhost:8080/"
        },
        "id": "yYBoBvXuBHcj",
        "outputId": "1b960449-0339-40df-e129-054101c2ac03"
      },
      "execution_count": 3,
      "outputs": [
        {
          "output_type": "execute_result",
          "data": {
            "text/plain": [
              "1000"
            ]
          },
          "metadata": {},
          "execution_count": 3
        }
      ]
    },
    {
      "cell_type": "code",
      "source": [
        "def factorial(n):\n",
        "  return reduce(lambda x , y : x*y , range(1,n+1))"
      ],
      "metadata": {
        "id": "w_bcHxFiCEf1"
      },
      "execution_count": 4,
      "outputs": []
    },
    {
      "cell_type": "code",
      "source": [
        "factorial(4)"
      ],
      "metadata": {
        "colab": {
          "base_uri": "https://localhost:8080/"
        },
        "id": "Z4Na_XIKCIPP",
        "outputId": "ec0fe51f-365e-4ecb-cbe1-894cbfc80e16"
      },
      "execution_count": 5,
      "outputs": [
        {
          "output_type": "execute_result",
          "data": {
            "text/plain": [
              "24"
            ]
          },
          "metadata": {},
          "execution_count": 5
        }
      ]
    },
    {
      "cell_type": "code",
      "source": [
        "## filter function >> it is used  to filter an elemets from o iterable based on some certain condition\n",
        "## syntaxx >> filter(fuction ,iterable)"
      ],
      "metadata": {
        "id": "HwYGeIDvU6u9"
      },
      "execution_count": 8,
      "outputs": []
    },
    {
      "cell_type": "code",
      "source": [
        "l"
      ],
      "metadata": {
        "colab": {
          "base_uri": "https://localhost:8080/"
        },
        "id": "IfrnJyFQVA9s",
        "outputId": "e2b5f27e-5457-4ac0-f41b-32268281deb2"
      },
      "execution_count": 10,
      "outputs": [
        {
          "output_type": "execute_result",
          "data": {
            "text/plain": [
              "[1, 2, 3, 4, 5, 6]"
            ]
          },
          "metadata": {},
          "execution_count": 10
        }
      ]
    },
    {
      "cell_type": "code",
      "source": [
        "list(filter(lambda x : x % 2 == 0 ,l))"
      ],
      "metadata": {
        "colab": {
          "base_uri": "https://localhost:8080/"
        },
        "id": "zJiphIhrVl6e",
        "outputId": "f7d65c9d-3d47-4bd4-b78c-0ab1b4f9b5eb"
      },
      "execution_count": 11,
      "outputs": [
        {
          "output_type": "execute_result",
          "data": {
            "text/plain": [
              "[2, 4, 6]"
            ]
          },
          "metadata": {},
          "execution_count": 11
        }
      ]
    },
    {
      "cell_type": "code",
      "source": [
        "list(filter(lambda x : x % 2 == 1 ,l))"
      ],
      "metadata": {
        "colab": {
          "base_uri": "https://localhost:8080/"
        },
        "id": "HSSE5yTLWLd9",
        "outputId": "cc833192-ac61-4bc7-d9b5-018785cbe4b8"
      },
      "execution_count": 12,
      "outputs": [
        {
          "output_type": "execute_result",
          "data": {
            "text/plain": [
              "[1, 3, 5]"
            ]
          },
          "metadata": {},
          "execution_count": 12
        }
      ]
    },
    {
      "cell_type": "code",
      "source": [
        "l1 = [-2,-1,-3,4,0]\n",
        "list(filter(lambda x : x <0 ,l1))"
      ],
      "metadata": {
        "colab": {
          "base_uri": "https://localhost:8080/"
        },
        "id": "gztBbZNYWSav",
        "outputId": "1895813c-d412-4d74-9976-a26d16aa6ed6"
      },
      "execution_count": 13,
      "outputs": [
        {
          "output_type": "execute_result",
          "data": {
            "text/plain": [
              "[-2, -1, -3]"
            ]
          },
          "metadata": {},
          "execution_count": 13
        }
      ]
    },
    {
      "cell_type": "code",
      "source": [
        "l1 = [-2,-1,-3,4,0]\n",
        "list(filter(lambda x : x >=0 ,l1))"
      ],
      "metadata": {
        "colab": {
          "base_uri": "https://localhost:8080/"
        },
        "id": "zJHh0L-LW0EH",
        "outputId": "90655b7d-bf17-4171-877c-38d468510057"
      },
      "execution_count": 14,
      "outputs": [
        {
          "output_type": "execute_result",
          "data": {
            "text/plain": [
              "[4, 0]"
            ]
          },
          "metadata": {},
          "execution_count": 14
        }
      ]
    },
    {
      "cell_type": "code",
      "source": [
        "s = ['ajay' ,'cmu' ,'data' ,'pwskills']\n",
        "list(filter(lambda x : len(x) > 3 ,s))"
      ],
      "metadata": {
        "colab": {
          "base_uri": "https://localhost:8080/"
        },
        "id": "e_A3liqsW8Yz",
        "outputId": "f3802c52-0af6-44aa-c36e-5f1036e05a22"
      },
      "execution_count": 16,
      "outputs": [
        {
          "output_type": "execute_result",
          "data": {
            "text/plain": [
              "['ajay', 'data', 'pwskills']"
            ]
          },
          "metadata": {},
          "execution_count": 16
        }
      ]
    },
    {
      "cell_type": "code",
      "source": [
        "def check_even(num):\n",
        "  if num % 2 == 0:\n",
        "    return True\n",
        "  return False"
      ],
      "metadata": {
        "id": "GlpEoDtUXSBi"
      },
      "execution_count": 17,
      "outputs": []
    },
    {
      "cell_type": "code",
      "source": [
        "check_even(2233)"
      ],
      "metadata": {
        "colab": {
          "base_uri": "https://localhost:8080/"
        },
        "id": "0tzfmEh6Xyo0",
        "outputId": "582d5043-62da-435d-f38e-26bb0a83453a"
      },
      "execution_count": 18,
      "outputs": [
        {
          "output_type": "execute_result",
          "data": {
            "text/plain": [
              "False"
            ]
          },
          "metadata": {},
          "execution_count": 18
        }
      ]
    },
    {
      "cell_type": "code",
      "source": [
        "num = [1,2,3,4,5,67]\n",
        "list(filter(check_even ,num))"
      ],
      "metadata": {
        "colab": {
          "base_uri": "https://localhost:8080/"
        },
        "id": "EwQEAe6zX0xj",
        "outputId": "1251e8fc-5107-41cd-a605-49dbce83756a"
      },
      "execution_count": 19,
      "outputs": [
        {
          "output_type": "execute_result",
          "data": {
            "text/plain": [
              "[2, 4]"
            ]
          },
          "metadata": {},
          "execution_count": 19
        }
      ]
    },
    {
      "cell_type": "code",
      "source": [],
      "metadata": {
        "id": "1nBsyITFYQS1"
      },
      "execution_count": null,
      "outputs": []
    }
  ]
}