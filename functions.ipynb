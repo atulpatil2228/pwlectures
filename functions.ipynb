{
  "nbformat": 4,
  "nbformat_minor": 0,
  "metadata": {
    "colab": {
      "provenance": []
    },
    "kernelspec": {
      "name": "python3",
      "display_name": "Python 3"
    },
    "language_info": {
      "name": "python"
    }
  },
  "cells": [
    {
      "cell_type": "code",
      "execution_count": null,
      "metadata": {
        "colab": {
          "base_uri": "https://localhost:8080/"
        },
        "id": "r7yGEksKXrhR",
        "outputId": "26e8a2ce-5a21-4acb-fa32-b8bbdcd915d9"
      },
      "outputs": [
        {
          "output_type": "stream",
          "name": "stdout",
          "text": [
            "hello world\n"
          ]
        }
      ],
      "source": [
        "print('hello world')"
      ]
    },
    {
      "cell_type": "code",
      "source": [
        "len('hello')"
      ],
      "metadata": {
        "colab": {
          "base_uri": "https://localhost:8080/"
        },
        "id": "C8MBuSDmbdQG",
        "outputId": "d5a50315-d91f-481b-c904-bb7171c3fa21"
      },
      "execution_count": null,
      "outputs": [
        {
          "output_type": "execute_result",
          "data": {
            "text/plain": [
              "5"
            ]
          },
          "metadata": {},
          "execution_count": 2
        }
      ]
    },
    {
      "cell_type": "code",
      "source": [
        "type(5)"
      ],
      "metadata": {
        "colab": {
          "base_uri": "https://localhost:8080/"
        },
        "id": "CIPCs0ifbifw",
        "outputId": "69ddde4a-8097-4f61-f2e1-ecacc2a4c508"
      },
      "execution_count": null,
      "outputs": [
        {
          "output_type": "execute_result",
          "data": {
            "text/plain": [
              "int"
            ]
          },
          "metadata": {},
          "execution_count": 3
        }
      ]
    },
    {
      "cell_type": "code",
      "source": [
        "## function types ><<\n",
        "## inbuilt >> print  ,  len , type\n",
        "## user define function\n"
      ],
      "metadata": {
        "id": "g3xDR6BwbjYp"
      },
      "execution_count": null,
      "outputs": []
    },
    {
      "cell_type": "code",
      "source": [
        "## function >> it is a block of code that performs specific computation\n",
        "## it keeps your code neat and clean, organise ,reusable\n"
      ],
      "metadata": {
        "id": "zEsE2YHjb0IK"
      },
      "execution_count": null,
      "outputs": []
    },
    {
      "cell_type": "code",
      "source": [
        "int(2.25)"
      ],
      "metadata": {
        "colab": {
          "base_uri": "https://localhost:8080/"
        },
        "id": "oaqt7duUb7zY",
        "outputId": "4b5dce27-0122-4f8e-d8a0-14681f80374a"
      },
      "execution_count": null,
      "outputs": [
        {
          "output_type": "execute_result",
          "data": {
            "text/plain": [
              "2"
            ]
          },
          "metadata": {},
          "execution_count": 7
        }
      ]
    },
    {
      "cell_type": "code",
      "source": [
        "float(2)"
      ],
      "metadata": {
        "colab": {
          "base_uri": "https://localhost:8080/"
        },
        "id": "5UVXjNAGcNiR",
        "outputId": "6cedfc5c-7414-4dcd-e5f4-e34678d0b5a5"
      },
      "execution_count": null,
      "outputs": [
        {
          "output_type": "execute_result",
          "data": {
            "text/plain": [
              "2.0"
            ]
          },
          "metadata": {},
          "execution_count": 8
        }
      ]
    },
    {
      "cell_type": "code",
      "source": [
        "import math as m\n",
        "m.ceil(6.5) ## vlaue on highest value"
      ],
      "metadata": {
        "colab": {
          "base_uri": "https://localhost:8080/"
        },
        "id": "EhWSE6LccPFC",
        "outputId": "da20df7b-2844-46f1-851d-00e5cc4b8bb1"
      },
      "execution_count": null,
      "outputs": [
        {
          "output_type": "execute_result",
          "data": {
            "text/plain": [
              "7"
            ]
          },
          "metadata": {},
          "execution_count": 12
        }
      ]
    },
    {
      "cell_type": "code",
      "source": [
        "m.floor(3.5)  ## lower side value"
      ],
      "metadata": {
        "colab": {
          "base_uri": "https://localhost:8080/"
        },
        "id": "dod1_ivPceiW",
        "outputId": "dec97156-6a27-4462-d0ac-eb02ad917076"
      },
      "execution_count": null,
      "outputs": [
        {
          "output_type": "execute_result",
          "data": {
            "text/plain": [
              "3"
            ]
          },
          "metadata": {},
          "execution_count": 13
        }
      ]
    },
    {
      "cell_type": "code",
      "source": [
        "## sytax of a function\n",
        "## def func()\n",
        "  ## do something\n",
        "  ## do something\n",
        "  ## return\n"
      ],
      "metadata": {
        "id": "F2H8uq8NchaY"
      },
      "execution_count": null,
      "outputs": []
    },
    {
      "cell_type": "code",
      "source": [
        "print('welcome to class rahul')\n",
        "print('welcome to class shewata')\n",
        "print('welcome to class amruta')"
      ],
      "metadata": {
        "colab": {
          "base_uri": "https://localhost:8080/"
        },
        "id": "wOrXY5uTdBgz",
        "outputId": "9bde6ea6-fb12-41a3-fb55-566fa68ab971"
      },
      "execution_count": null,
      "outputs": [
        {
          "output_type": "stream",
          "name": "stdout",
          "text": [
            "welcome to class rahul\n",
            "welcome to class shewata\n",
            "welcome to class amruta\n"
          ]
        }
      ]
    },
    {
      "cell_type": "code",
      "source": [
        "def greeting(n):\n",
        "  print('how are you ' ,n)"
      ],
      "metadata": {
        "id": "NU3Ue7PhS3UQ"
      },
      "execution_count": null,
      "outputs": []
    },
    {
      "cell_type": "code",
      "source": [
        "greeting('atul')"
      ],
      "metadata": {
        "colab": {
          "base_uri": "https://localhost:8080/"
        },
        "id": "XD4RvdlnTAxH",
        "outputId": "7770a240-7f58-4aca-f9f0-c09d33764d61"
      },
      "execution_count": null,
      "outputs": [
        {
          "output_type": "stream",
          "name": "stdout",
          "text": [
            "how are you  atul\n"
          ]
        }
      ]
    },
    {
      "cell_type": "code",
      "source": [],
      "metadata": {
        "id": "fzY7uaqLTAbz"
      },
      "execution_count": null,
      "outputs": []
    },
    {
      "cell_type": "code",
      "source": [
        "def greet(n):\n",
        "  print('welcome to classs',n)"
      ],
      "metadata": {
        "id": "46nbMxnddTqk"
      },
      "execution_count": null,
      "outputs": []
    },
    {
      "cell_type": "code",
      "source": [
        "def anna(n):\n",
        "  print('welcome to class ' ,n)"
      ],
      "metadata": {
        "id": "NoaL0kXGBtaQ"
      },
      "execution_count": null,
      "outputs": []
    },
    {
      "cell_type": "code",
      "source": [
        "anna('omkar')"
      ],
      "metadata": {
        "colab": {
          "base_uri": "https://localhost:8080/"
        },
        "id": "oZWxjtrSCByA",
        "outputId": "85fdf54b-c332-4d69-c028-c1cebf04273d"
      },
      "execution_count": null,
      "outputs": [
        {
          "output_type": "stream",
          "name": "stdout",
          "text": [
            "welcome to class  omkar\n"
          ]
        }
      ]
    },
    {
      "cell_type": "code",
      "source": [
        "anna('atul')"
      ],
      "metadata": {
        "colab": {
          "base_uri": "https://localhost:8080/"
        },
        "id": "oooH8gM7dtOz",
        "outputId": "7dfb6b07-b3f0-4107-d7b6-fe16dcfef58f"
      },
      "execution_count": null,
      "outputs": [
        {
          "output_type": "stream",
          "name": "stdout",
          "text": [
            "welcome to class  atul\n"
          ]
        }
      ]
    },
    {
      "cell_type": "code",
      "source": [
        "greet('anna')"
      ],
      "metadata": {
        "colab": {
          "base_uri": "https://localhost:8080/"
        },
        "id": "WjVLsBo7dvlx",
        "outputId": "cb5dbed7-ab7f-42c7-a8b4-be24daa49d08"
      },
      "execution_count": null,
      "outputs": [
        {
          "output_type": "stream",
          "name": "stdout",
          "text": [
            "welcome to classs anna\n"
          ]
        }
      ]
    },
    {
      "cell_type": "code",
      "source": [
        "greet('akka')"
      ],
      "metadata": {
        "colab": {
          "base_uri": "https://localhost:8080/"
        },
        "id": "JG0ddcPmdznz",
        "outputId": "983c4edb-2131-415e-b44b-b9d56a633de9"
      },
      "execution_count": null,
      "outputs": [
        {
          "output_type": "stream",
          "name": "stdout",
          "text": [
            "welcome to classs akka\n"
          ]
        }
      ]
    },
    {
      "cell_type": "code",
      "source": [
        "greet('okk')"
      ],
      "metadata": {
        "colab": {
          "base_uri": "https://localhost:8080/"
        },
        "id": "O7XFfXHdd3LI",
        "outputId": "bee20589-19ac-4de7-a111-35624d9a1159"
      },
      "execution_count": null,
      "outputs": [
        {
          "output_type": "stream",
          "name": "stdout",
          "text": [
            "welcome to classs okk\n"
          ]
        }
      ]
    },
    {
      "cell_type": "code",
      "source": [
        "def func():\n",
        "  print('this is my function')"
      ],
      "metadata": {
        "id": "AYDucxInd4io"
      },
      "execution_count": null,
      "outputs": []
    },
    {
      "cell_type": "code",
      "source": [
        "fan()"
      ],
      "metadata": {
        "colab": {
          "base_uri": "https://localhost:8080/"
        },
        "id": "42GebXrOTWrr",
        "outputId": "ca9d2efd-9567-4887-9b20-f222ccf64cdf"
      },
      "execution_count": null,
      "outputs": [
        {
          "output_type": "stream",
          "name": "stdout",
          "text": [
            "this is my world\n"
          ]
        }
      ]
    },
    {
      "cell_type": "code",
      "source": [
        "fan() + ' i am going to india'"
      ],
      "metadata": {
        "colab": {
          "base_uri": "https://localhost:8080/",
          "height": 158
        },
        "id": "jlEfxJlNTXTa",
        "outputId": "658b2d5f-b2b1-4551-90da-12c495104edc"
      },
      "execution_count": null,
      "outputs": [
        {
          "output_type": "stream",
          "name": "stdout",
          "text": [
            "this is my world\n"
          ]
        },
        {
          "output_type": "error",
          "ename": "TypeError",
          "evalue": "unsupported operand type(s) for +: 'NoneType' and 'str'",
          "traceback": [
            "\u001b[0;31m---------------------------------------------------------------------------\u001b[0m",
            "\u001b[0;31mTypeError\u001b[0m                                 Traceback (most recent call last)",
            "\u001b[0;32m<ipython-input-4-c9b58820b118>\u001b[0m in \u001b[0;36m<cell line: 0>\u001b[0;34m()\u001b[0m\n\u001b[0;32m----> 1\u001b[0;31m \u001b[0mfan\u001b[0m\u001b[0;34m(\u001b[0m\u001b[0;34m)\u001b[0m \u001b[0;34m+\u001b[0m \u001b[0;34m' i am going to india'\u001b[0m\u001b[0;34m\u001b[0m\u001b[0;34m\u001b[0m\u001b[0m\n\u001b[0m",
            "\u001b[0;31mTypeError\u001b[0m: unsupported operand type(s) for +: 'NoneType' and 'str'"
          ]
        }
      ]
    },
    {
      "cell_type": "code",
      "source": [
        "def fan():\n",
        "  print('this is my world')"
      ],
      "metadata": {
        "id": "mjCRV1AfTN7_"
      },
      "execution_count": null,
      "outputs": []
    },
    {
      "cell_type": "code",
      "source": [
        "def fan():\n",
        "  return \" this is my world \" ,2 ,3,3+7j,True"
      ],
      "metadata": {
        "id": "0CjtKw_KTiW4"
      },
      "execution_count": null,
      "outputs": []
    },
    {
      "cell_type": "code",
      "source": [
        " a  =  fan()"
      ],
      "metadata": {
        "id": "QG5rGr3ETwLA"
      },
      "execution_count": null,
      "outputs": []
    },
    {
      "cell_type": "code",
      "source": [
        "a"
      ],
      "metadata": {
        "colab": {
          "base_uri": "https://localhost:8080/"
        },
        "id": "Du3R5QhCUQQu",
        "outputId": "294119e1-45a8-4d87-daaf-8ced4a71e982"
      },
      "execution_count": null,
      "outputs": [
        {
          "output_type": "execute_result",
          "data": {
            "text/plain": [
              "(' this is my world ', 2, 3, (3+7j), True)"
            ]
          },
          "metadata": {},
          "execution_count": 15
        }
      ]
    },
    {
      "cell_type": "code",
      "source": [
        "a[0]"
      ],
      "metadata": {
        "colab": {
          "base_uri": "https://localhost:8080/",
          "height": 35
        },
        "id": "T9ANERbSUQFD",
        "outputId": "1bf33fdd-fb14-4f4b-982a-45618a175502"
      },
      "execution_count": null,
      "outputs": [
        {
          "output_type": "execute_result",
          "data": {
            "text/plain": [
              "' this is my world '"
            ],
            "application/vnd.google.colaboratory.intrinsic+json": {
              "type": "string"
            }
          },
          "metadata": {},
          "execution_count": 16
        }
      ]
    },
    {
      "cell_type": "code",
      "source": [
        "a[-1]"
      ],
      "metadata": {
        "colab": {
          "base_uri": "https://localhost:8080/"
        },
        "id": "1YIDYaPQUP-W",
        "outputId": "06672da7-042b-42f0-e3fe-4d040dab0e01"
      },
      "execution_count": null,
      "outputs": [
        {
          "output_type": "execute_result",
          "data": {
            "text/plain": [
              "True"
            ]
          },
          "metadata": {},
          "execution_count": 17
        }
      ]
    },
    {
      "cell_type": "code",
      "source": [
        "b"
      ],
      "metadata": {
        "colab": {
          "base_uri": "https://localhost:8080/"
        },
        "id": "vRfIYyMwUkrJ",
        "outputId": "df9f69e4-b604-429d-b626-b53c12cda54e"
      },
      "execution_count": null,
      "outputs": [
        {
          "output_type": "execute_result",
          "data": {
            "text/plain": [
              "2"
            ]
          },
          "metadata": {},
          "execution_count": 20
        }
      ]
    },
    {
      "cell_type": "code",
      "source": [
        "c"
      ],
      "metadata": {
        "colab": {
          "base_uri": "https://localhost:8080/"
        },
        "id": "HSMAfdHwUkol",
        "outputId": "63e1f41c-f54b-4c20-c99f-6b65c7ea3e8f"
      },
      "execution_count": null,
      "outputs": [
        {
          "output_type": "execute_result",
          "data": {
            "text/plain": [
              "3"
            ]
          },
          "metadata": {},
          "execution_count": 21
        }
      ]
    },
    {
      "cell_type": "code",
      "source": [
        "d"
      ],
      "metadata": {
        "colab": {
          "base_uri": "https://localhost:8080/"
        },
        "id": "WR8lqQqqUklG",
        "outputId": "065409b6-a5f6-4c0b-a4c4-7c92f3448dde"
      },
      "execution_count": null,
      "outputs": [
        {
          "output_type": "execute_result",
          "data": {
            "text/plain": [
              "(3+7j)"
            ]
          },
          "metadata": {},
          "execution_count": 22
        }
      ]
    },
    {
      "cell_type": "code",
      "source": [
        "e"
      ],
      "metadata": {
        "colab": {
          "base_uri": "https://localhost:8080/"
        },
        "id": "-3cpnW6DUkil",
        "outputId": "03f73549-a1d0-4e7f-9768-9f6502d406cf"
      },
      "execution_count": null,
      "outputs": [
        {
          "output_type": "execute_result",
          "data": {
            "text/plain": [
              "True"
            ]
          },
          "metadata": {},
          "execution_count": 23
        }
      ]
    },
    {
      "cell_type": "code",
      "source": [],
      "metadata": {
        "id": "7Jen_OH-UkgE"
      },
      "execution_count": null,
      "outputs": []
    },
    {
      "cell_type": "code",
      "source": [],
      "metadata": {
        "id": "IrIa4oJNUkds"
      },
      "execution_count": null,
      "outputs": []
    },
    {
      "cell_type": "code",
      "source": [],
      "metadata": {
        "id": "IorggD61UkaO"
      },
      "execution_count": null,
      "outputs": []
    },
    {
      "cell_type": "code",
      "source": [],
      "metadata": {
        "id": "oN31twUQUkW_"
      },
      "execution_count": null,
      "outputs": []
    },
    {
      "cell_type": "code",
      "source": [],
      "metadata": {
        "id": "SZu7IejVUkUT"
      },
      "execution_count": null,
      "outputs": []
    },
    {
      "cell_type": "code",
      "source": [
        "a,b,c,d,e = fan()"
      ],
      "metadata": {
        "id": "2mzrCT6QUP7w"
      },
      "execution_count": null,
      "outputs": []
    },
    {
      "cell_type": "code",
      "source": [
        "a"
      ],
      "metadata": {
        "colab": {
          "base_uri": "https://localhost:8080/",
          "height": 35
        },
        "id": "4sxFWqW8UPvY",
        "outputId": "195c8a77-612b-4275-86f1-6bf23665e0e1"
      },
      "execution_count": null,
      "outputs": [
        {
          "output_type": "execute_result",
          "data": {
            "text/plain": [
              "' this is my world '"
            ],
            "application/vnd.google.colaboratory.intrinsic+json": {
              "type": "string"
            }
          },
          "metadata": {},
          "execution_count": 19
        }
      ]
    },
    {
      "cell_type": "code",
      "source": [
        "fan() + \"annaa\""
      ],
      "metadata": {
        "colab": {
          "base_uri": "https://localhost:8080/",
          "height": 35
        },
        "id": "vOjxsP8jTyr3",
        "outputId": "5918fd15-7391-4db8-a676-96d3c017fe38"
      },
      "execution_count": null,
      "outputs": [
        {
          "output_type": "execute_result",
          "data": {
            "text/plain": [
              "' this is my world annaa'"
            ],
            "application/vnd.google.colaboratory.intrinsic+json": {
              "type": "string"
            }
          },
          "metadata": {},
          "execution_count": 8
        }
      ]
    },
    {
      "cell_type": "code",
      "source": [
        "fan() +  ' i am going to mumbai'"
      ],
      "metadata": {
        "colab": {
          "base_uri": "https://localhost:8080/",
          "height": 35
        },
        "id": "xQw8-0TnTyiA",
        "outputId": "5bb1ce8e-509c-4047-c62d-0706dcec2bfb"
      },
      "execution_count": null,
      "outputs": [
        {
          "output_type": "execute_result",
          "data": {
            "text/plain": [
              "' this is my world  i am going to mumbai'"
            ],
            "application/vnd.google.colaboratory.intrinsic+json": {
              "type": "string"
            }
          },
          "metadata": {},
          "execution_count": 9
        }
      ]
    },
    {
      "cell_type": "code",
      "source": [
        "func()"
      ],
      "metadata": {
        "colab": {
          "base_uri": "https://localhost:8080/"
        },
        "id": "fgNd5w2keLM4",
        "outputId": "ec95256c-ce2c-4326-d105-86b46f9392c0"
      },
      "execution_count": null,
      "outputs": [
        {
          "output_type": "stream",
          "name": "stdout",
          "text": [
            "this is my function\n"
          ]
        }
      ]
    },
    {
      "cell_type": "code",
      "source": [
        "'this is my function' + 'in python'"
      ],
      "metadata": {
        "colab": {
          "base_uri": "https://localhost:8080/",
          "height": 35
        },
        "id": "XRYFGQg-eMgp",
        "outputId": "4126d88b-b358-494e-ee4f-c1d6f853a05f"
      },
      "execution_count": null,
      "outputs": [
        {
          "output_type": "execute_result",
          "data": {
            "text/plain": [
              "'this is my functionin python'"
            ],
            "application/vnd.google.colaboratory.intrinsic+json": {
              "type": "string"
            }
          },
          "metadata": {},
          "execution_count": 29
        }
      ]
    },
    {
      "cell_type": "code",
      "source": [
        "func()  + 'in python'"
      ],
      "metadata": {
        "colab": {
          "base_uri": "https://localhost:8080/",
          "height": 158
        },
        "id": "WEd6jzPheu24",
        "outputId": "6f6b0a3f-15e9-48b9-8bd8-9f491f2a426c"
      },
      "execution_count": null,
      "outputs": [
        {
          "output_type": "stream",
          "name": "stdout",
          "text": [
            "this is my function\n"
          ]
        },
        {
          "output_type": "error",
          "ename": "TypeError",
          "evalue": "unsupported operand type(s) for +: 'NoneType' and 'str'",
          "traceback": [
            "\u001b[0;31m---------------------------------------------------------------------------\u001b[0m",
            "\u001b[0;31mTypeError\u001b[0m                                 Traceback (most recent call last)",
            "\u001b[0;32m<ipython-input-30-13fcefccbbe2>\u001b[0m in \u001b[0;36m<cell line: 0>\u001b[0;34m()\u001b[0m\n\u001b[0;32m----> 1\u001b[0;31m \u001b[0mfunc\u001b[0m\u001b[0;34m(\u001b[0m\u001b[0;34m)\u001b[0m  \u001b[0;34m+\u001b[0m \u001b[0;34m'in python'\u001b[0m\u001b[0;34m\u001b[0m\u001b[0;34m\u001b[0m\u001b[0m\n\u001b[0m",
            "\u001b[0;31mTypeError\u001b[0m: unsupported operand type(s) for +: 'NoneType' and 'str'"
          ]
        }
      ]
    },
    {
      "cell_type": "code",
      "source": [
        "func()"
      ],
      "metadata": {
        "colab": {
          "base_uri": "https://localhost:8080/"
        },
        "id": "QB8NQpWwe2mM",
        "outputId": "ac621733-5a35-4f5a-c41c-763dc72ddf18"
      },
      "execution_count": null,
      "outputs": [
        {
          "output_type": "stream",
          "name": "stdout",
          "text": [
            "this is my function\n"
          ]
        }
      ]
    },
    {
      "cell_type": "code",
      "source": [
        "def func() :\n",
        "  return 'this is my  function' ,2,3,4,5 ,True,3+4j"
      ],
      "metadata": {
        "id": "bcVChOe6e_1I"
      },
      "execution_count": null,
      "outputs": []
    },
    {
      "cell_type": "code",
      "source": [
        "func() + ' in python'"
      ],
      "metadata": {
        "colab": {
          "base_uri": "https://localhost:8080/",
          "height": 141
        },
        "id": "nygkiO8XfD6T",
        "outputId": "7afda7de-2908-4efb-b403-d77db14feec8"
      },
      "execution_count": null,
      "outputs": [
        {
          "output_type": "error",
          "ename": "TypeError",
          "evalue": "can only concatenate tuple (not \"str\") to tuple",
          "traceback": [
            "\u001b[0;31m---------------------------------------------------------------------------\u001b[0m",
            "\u001b[0;31mTypeError\u001b[0m                                 Traceback (most recent call last)",
            "\u001b[0;32m<ipython-input-11-1a28bc5e199a>\u001b[0m in \u001b[0;36m<cell line: 0>\u001b[0;34m()\u001b[0m\n\u001b[0;32m----> 1\u001b[0;31m \u001b[0mfunc\u001b[0m\u001b[0;34m(\u001b[0m\u001b[0;34m)\u001b[0m \u001b[0;34m+\u001b[0m \u001b[0;34m' in python'\u001b[0m\u001b[0;34m\u001b[0m\u001b[0;34m\u001b[0m\u001b[0m\n\u001b[0m",
            "\u001b[0;31mTypeError\u001b[0m: can only concatenate tuple (not \"str\") to tuple"
          ]
        }
      ]
    },
    {
      "cell_type": "code",
      "source": [
        "def func() :\n",
        "  return 'this is my  function' ,2 ,3,3+7j,True"
      ],
      "metadata": {
        "id": "uN6RUqs9fjow"
      },
      "execution_count": null,
      "outputs": []
    },
    {
      "cell_type": "code",
      "source": [],
      "metadata": {
        "id": "MYfNocFxUJDi"
      },
      "execution_count": null,
      "outputs": []
    },
    {
      "cell_type": "code",
      "source": [
        "func()"
      ],
      "metadata": {
        "colab": {
          "base_uri": "https://localhost:8080/"
        },
        "id": "B9NqaU_Mf0n8",
        "outputId": "7615ae3f-0e48-452c-d59e-577ee7ea49cc"
      },
      "execution_count": null,
      "outputs": [
        {
          "output_type": "execute_result",
          "data": {
            "text/plain": [
              "('this is my  function', 2, 3, (3+7j), True)"
            ]
          },
          "metadata": {},
          "execution_count": 38
        }
      ]
    },
    {
      "cell_type": "code",
      "source": [
        "a =  func()"
      ],
      "metadata": {
        "id": "yX6FuFQSf1o7"
      },
      "execution_count": null,
      "outputs": []
    },
    {
      "cell_type": "code",
      "source": [
        "a"
      ],
      "metadata": {
        "colab": {
          "base_uri": "https://localhost:8080/"
        },
        "id": "zdwlhVFNf-8V",
        "outputId": "2fdbc821-69fe-4a4d-8a1c-485efb6ca4dc"
      },
      "execution_count": null,
      "outputs": [
        {
          "output_type": "execute_result",
          "data": {
            "text/plain": [
              "('this is my  function', 2, 3, (3+7j), True)"
            ]
          },
          "metadata": {},
          "execution_count": 40
        }
      ]
    },
    {
      "cell_type": "code",
      "source": [
        "type(a)"
      ],
      "metadata": {
        "colab": {
          "base_uri": "https://localhost:8080/"
        },
        "id": "H7G-8E0qf_wW",
        "outputId": "16ff02ea-6707-4cb1-b490-37efb25178be"
      },
      "execution_count": null,
      "outputs": [
        {
          "output_type": "execute_result",
          "data": {
            "text/plain": [
              "tuple"
            ]
          },
          "metadata": {},
          "execution_count": 41
        }
      ]
    },
    {
      "cell_type": "code",
      "source": [
        "a[0]"
      ],
      "metadata": {
        "colab": {
          "base_uri": "https://localhost:8080/",
          "height": 35
        },
        "id": "XC7Lv11EgBpd",
        "outputId": "37f44d35-27fa-4e66-c9ca-9fc63f535c69"
      },
      "execution_count": null,
      "outputs": [
        {
          "output_type": "execute_result",
          "data": {
            "text/plain": [
              "'this is my  function'"
            ],
            "application/vnd.google.colaboratory.intrinsic+json": {
              "type": "string"
            }
          },
          "metadata": {},
          "execution_count": 42
        }
      ]
    },
    {
      "cell_type": "code",
      "source": [
        "a[-1]"
      ],
      "metadata": {
        "colab": {
          "base_uri": "https://localhost:8080/"
        },
        "id": "wroDM1fagDT0",
        "outputId": "f48f9001-58f0-4a6e-e241-060297baf1ce"
      },
      "execution_count": null,
      "outputs": [
        {
          "output_type": "execute_result",
          "data": {
            "text/plain": [
              "True"
            ]
          },
          "metadata": {},
          "execution_count": 43
        }
      ]
    },
    {
      "cell_type": "code",
      "source": [
        "a,b,c,d,e = func()"
      ],
      "metadata": {
        "id": "n5SLz5DlgJIe"
      },
      "execution_count": null,
      "outputs": []
    },
    {
      "cell_type": "code",
      "source": [
        "a"
      ],
      "metadata": {
        "colab": {
          "base_uri": "https://localhost:8080/",
          "height": 35
        },
        "id": "_JzI0T0MgOSv",
        "outputId": "e7e01aa1-d488-40ff-a2e8-a20b3b5e7c33"
      },
      "execution_count": null,
      "outputs": [
        {
          "output_type": "execute_result",
          "data": {
            "text/plain": [
              "'this is my  function'"
            ],
            "application/vnd.google.colaboratory.intrinsic+json": {
              "type": "string"
            }
          },
          "metadata": {},
          "execution_count": 45
        }
      ]
    },
    {
      "cell_type": "code",
      "source": [
        "b"
      ],
      "metadata": {
        "colab": {
          "base_uri": "https://localhost:8080/"
        },
        "id": "sVyjrj6bgPdg",
        "outputId": "fcae0606-eb8f-442d-f263-f482bb878112"
      },
      "execution_count": null,
      "outputs": [
        {
          "output_type": "execute_result",
          "data": {
            "text/plain": [
              "2"
            ]
          },
          "metadata": {},
          "execution_count": 46
        }
      ]
    },
    {
      "cell_type": "code",
      "source": [
        "c"
      ],
      "metadata": {
        "colab": {
          "base_uri": "https://localhost:8080/"
        },
        "id": "UJuw4aZGgPzy",
        "outputId": "59a26367-154e-4a20-828f-f78f3fc56a66"
      },
      "execution_count": null,
      "outputs": [
        {
          "output_type": "execute_result",
          "data": {
            "text/plain": [
              "3"
            ]
          },
          "metadata": {},
          "execution_count": 47
        }
      ]
    },
    {
      "cell_type": "code",
      "source": [
        "d"
      ],
      "metadata": {
        "colab": {
          "base_uri": "https://localhost:8080/"
        },
        "id": "6tK2HVKIgQTO",
        "outputId": "bfa7e6af-c6b5-44af-ea3b-fd73e8735632"
      },
      "execution_count": null,
      "outputs": [
        {
          "output_type": "execute_result",
          "data": {
            "text/plain": [
              "(3+7j)"
            ]
          },
          "metadata": {},
          "execution_count": 48
        }
      ]
    },
    {
      "cell_type": "code",
      "source": [
        "e"
      ],
      "metadata": {
        "colab": {
          "base_uri": "https://localhost:8080/"
        },
        "id": "DNsoukbJgQfA",
        "outputId": "51b718d1-15c9-4221-9d00-94330c2d9a22"
      },
      "execution_count": null,
      "outputs": [
        {
          "output_type": "execute_result",
          "data": {
            "text/plain": [
              "True"
            ]
          },
          "metadata": {},
          "execution_count": 49
        }
      ]
    },
    {
      "cell_type": "code",
      "source": [
        "a,b,c,d,e = func()"
      ],
      "metadata": {
        "id": "3IKPIcw-gQ01"
      },
      "execution_count": null,
      "outputs": []
    },
    {
      "cell_type": "code",
      "source": [
        "func()[2]"
      ],
      "metadata": {
        "colab": {
          "base_uri": "https://localhost:8080/"
        },
        "id": "pTCQPqaXgUFt",
        "outputId": "0f3e0908-a081-4ba1-8d73-912a91fe349a"
      },
      "execution_count": null,
      "outputs": [
        {
          "output_type": "execute_result",
          "data": {
            "text/plain": [
              "3"
            ]
          },
          "metadata": {},
          "execution_count": 52
        }
      ]
    },
    {
      "cell_type": "code",
      "source": [
        "def fan():\n",
        "  cal = 2+3+4+4\n",
        "  return cal"
      ],
      "metadata": {
        "id": "ZqjpBR0EUq7c"
      },
      "execution_count": null,
      "outputs": []
    },
    {
      "cell_type": "code",
      "source": [
        "fan()"
      ],
      "metadata": {
        "colab": {
          "base_uri": "https://localhost:8080/"
        },
        "id": "fbdAcBvyU3y0",
        "outputId": "d3055f07-efb1-4800-ff1f-f0b7c72b1818"
      },
      "execution_count": null,
      "outputs": [
        {
          "output_type": "execute_result",
          "data": {
            "text/plain": [
              "13"
            ]
          },
          "metadata": {},
          "execution_count": 27
        }
      ]
    },
    {
      "cell_type": "code",
      "source": [
        "type(fan())"
      ],
      "metadata": {
        "colab": {
          "base_uri": "https://localhost:8080/"
        },
        "id": "fgBnFd1YU3fT",
        "outputId": "388a463a-3e01-4bee-fe88-8393adf21628"
      },
      "execution_count": null,
      "outputs": [
        {
          "output_type": "execute_result",
          "data": {
            "text/plain": [
              "int"
            ]
          },
          "metadata": {},
          "execution_count": 28
        }
      ]
    },
    {
      "cell_type": "code",
      "source": [
        "def func():\n",
        "  calc = 2+3+6*5\n",
        "  return calc"
      ],
      "metadata": {
        "id": "dY7CloplgceB"
      },
      "execution_count": null,
      "outputs": []
    },
    {
      "cell_type": "code",
      "source": [
        "func()"
      ],
      "metadata": {
        "colab": {
          "base_uri": "https://localhost:8080/"
        },
        "id": "3F_TmOsdgoTV",
        "outputId": "a3e240f2-5be9-4310-f019-d20f8e407be9"
      },
      "execution_count": null,
      "outputs": [
        {
          "output_type": "execute_result",
          "data": {
            "text/plain": [
              "35"
            ]
          },
          "metadata": {},
          "execution_count": 54
        }
      ]
    },
    {
      "cell_type": "code",
      "source": [
        "type(func())"
      ],
      "metadata": {
        "colab": {
          "base_uri": "https://localhost:8080/"
        },
        "id": "ZKNZPdZNgrq8",
        "outputId": "c6f1d345-c1e3-48e6-e634-ddb749ce47ef"
      },
      "execution_count": null,
      "outputs": [
        {
          "output_type": "execute_result",
          "data": {
            "text/plain": [
              "int"
            ]
          },
          "metadata": {},
          "execution_count": 57
        }
      ]
    },
    {
      "cell_type": "code",
      "source": [
        "def sq_no(a):\n",
        "  return a * a"
      ],
      "metadata": {
        "id": "FHcs6bynVC2K"
      },
      "execution_count": null,
      "outputs": []
    },
    {
      "cell_type": "code",
      "source": [
        "sq_no(9898)"
      ],
      "metadata": {
        "colab": {
          "base_uri": "https://localhost:8080/"
        },
        "id": "PE8pkt_OVCoI",
        "outputId": "63e42a95-b086-483f-a5d8-a928bb3b2580"
      },
      "execution_count": null,
      "outputs": [
        {
          "output_type": "execute_result",
          "data": {
            "text/plain": [
              "97970404"
            ]
          },
          "metadata": {},
          "execution_count": 31
        }
      ]
    },
    {
      "cell_type": "code",
      "source": [
        "def square_no(a): ## a is called as argument\n",
        "  return a * a"
      ],
      "metadata": {
        "id": "oHNQk3xXgvIY"
      },
      "execution_count": null,
      "outputs": []
    },
    {
      "cell_type": "code",
      "source": [
        "square_no(222)"
      ],
      "metadata": {
        "colab": {
          "base_uri": "https://localhost:8080/"
        },
        "id": "KQFijejVjE0T",
        "outputId": "10320c60-a97f-4cb1-a5ff-737f17d778a2"
      },
      "execution_count": null,
      "outputs": [
        {
          "output_type": "execute_result",
          "data": {
            "text/plain": [
              "49284"
            ]
          },
          "metadata": {},
          "execution_count": 59
        }
      ]
    },
    {
      "cell_type": "code",
      "source": [
        "square_no(34567)"
      ],
      "metadata": {
        "colab": {
          "base_uri": "https://localhost:8080/"
        },
        "id": "eqHHMqn4jHzZ",
        "outputId": "0878b2ae-0a76-48a5-de64-098ccc16070e"
      },
      "execution_count": null,
      "outputs": [
        {
          "output_type": "execute_result",
          "data": {
            "text/plain": [
              "1194877489"
            ]
          },
          "metadata": {},
          "execution_count": 60
        }
      ]
    },
    {
      "cell_type": "code",
      "source": [
        "def sum_(a,b):\n",
        "  return(a+b)"
      ],
      "metadata": {
        "id": "KppZI1okVbJn"
      },
      "execution_count": null,
      "outputs": []
    },
    {
      "cell_type": "code",
      "source": [
        "sum_(111,222)"
      ],
      "metadata": {
        "colab": {
          "base_uri": "https://localhost:8080/"
        },
        "id": "M10qT1mUVa9R",
        "outputId": "a1cfc7a9-7ec7-4641-c401-40b863773bde"
      },
      "execution_count": null,
      "outputs": [
        {
          "output_type": "execute_result",
          "data": {
            "text/plain": [
              "333"
            ]
          },
          "metadata": {},
          "execution_count": 33
        }
      ]
    },
    {
      "cell_type": "code",
      "source": [
        "def sum_(a,b):\n",
        "  return (a + b)"
      ],
      "metadata": {
        "id": "Gv55bjEXjNVR"
      },
      "execution_count": null,
      "outputs": []
    },
    {
      "cell_type": "code",
      "source": [
        "sum_(222,0)"
      ],
      "metadata": {
        "colab": {
          "base_uri": "https://localhost:8080/"
        },
        "id": "slakR6WdjdIu",
        "outputId": "d26e924a-ca27-48bf-bec2-fc199e8cdfb3"
      },
      "execution_count": null,
      "outputs": [
        {
          "output_type": "execute_result",
          "data": {
            "text/plain": [
              "222"
            ]
          },
          "metadata": {},
          "execution_count": 63
        }
      ]
    },
    {
      "cell_type": "code",
      "source": [
        "sum_(\"pwskills\" ,'alakh sir')"
      ],
      "metadata": {
        "colab": {
          "base_uri": "https://localhost:8080/",
          "height": 35
        },
        "id": "YEXxL45bjfGT",
        "outputId": "17ad67ad-1621-4460-cbea-3c862ae18a8e"
      },
      "execution_count": null,
      "outputs": [
        {
          "output_type": "execute_result",
          "data": {
            "text/plain": [
              "'pwskillsalakh sir'"
            ],
            "application/vnd.google.colaboratory.intrinsic+json": {
              "type": "string"
            }
          },
          "metadata": {},
          "execution_count": 64
        }
      ]
    },
    {
      "cell_type": "code",
      "source": [
        "sum_([1,2,3,4] ,[4,5,6,7])"
      ],
      "metadata": {
        "colab": {
          "base_uri": "https://localhost:8080/"
        },
        "id": "e2sBp4Mjjk3O",
        "outputId": "a80fc651-daab-4119-f94a-d5d6a0bca8d3"
      },
      "execution_count": null,
      "outputs": [
        {
          "output_type": "execute_result",
          "data": {
            "text/plain": [
              "[1, 2, 3, 4, 4, 5, 6, 7]"
            ]
          },
          "metadata": {},
          "execution_count": 65
        }
      ]
    },
    {
      "cell_type": "code",
      "source": [
        "sum_(b= [1,2,3,4] ,a=[4,5,6,7])"
      ],
      "metadata": {
        "colab": {
          "base_uri": "https://localhost:8080/"
        },
        "id": "PSXf3icfjquT",
        "outputId": "ae63570f-03ee-446b-f73d-697ad06b9cfc"
      },
      "execution_count": null,
      "outputs": [
        {
          "output_type": "execute_result",
          "data": {
            "text/plain": [
              "[4, 5, 6, 7, 1, 2, 3, 4]"
            ]
          },
          "metadata": {},
          "execution_count": 67
        }
      ]
    },
    {
      "cell_type": "code",
      "source": [
        "sum_(b=\"pwskills\" ,a='alakh sir')"
      ],
      "metadata": {
        "colab": {
          "base_uri": "https://localhost:8080/",
          "height": 35
        },
        "id": "4EJaja-4kEfD",
        "outputId": "6af26b97-60f3-44a5-98c2-fd55a60b3599"
      },
      "execution_count": null,
      "outputs": [
        {
          "output_type": "execute_result",
          "data": {
            "text/plain": [
              "'alakh sirpwskills'"
            ],
            "application/vnd.google.colaboratory.intrinsic+json": {
              "type": "string"
            }
          },
          "metadata": {},
          "execution_count": 68
        }
      ]
    },
    {
      "cell_type": "code",
      "source": [
        "def sum_(a,b,c):\n",
        "  return a + b + c"
      ],
      "metadata": {
        "id": "mp7vsCHqkNBF"
      },
      "execution_count": null,
      "outputs": []
    },
    {
      "cell_type": "code",
      "source": [
        "sum_(1,2,3333)"
      ],
      "metadata": {
        "colab": {
          "base_uri": "https://localhost:8080/"
        },
        "id": "_T-7ywn_kZI8",
        "outputId": "45e46845-941e-4ee9-a1bf-ce75aa478f29"
      },
      "execution_count": null,
      "outputs": [
        {
          "output_type": "execute_result",
          "data": {
            "text/plain": [
              "3336"
            ]
          },
          "metadata": {},
          "execution_count": 70
        }
      ]
    },
    {
      "cell_type": "code",
      "source": [
        "## default argument\n",
        "def sum_(a =0,b=0,c=0):\n",
        "  return a + b + c"
      ],
      "metadata": {
        "id": "i8GXBukgkbt_"
      },
      "execution_count": null,
      "outputs": []
    },
    {
      "cell_type": "code",
      "source": [
        "sum_(b= 2, c= 3)"
      ],
      "metadata": {
        "colab": {
          "base_uri": "https://localhost:8080/"
        },
        "id": "vucwL6zSkpsM",
        "outputId": "8b87dd58-024a-44de-9936-28be6df2df53"
      },
      "execution_count": null,
      "outputs": [
        {
          "output_type": "execute_result",
          "data": {
            "text/plain": [
              "5"
            ]
          },
          "metadata": {},
          "execution_count": 74
        }
      ]
    },
    {
      "cell_type": "code",
      "source": [
        "sum_(a= 2, c= 3)"
      ],
      "metadata": {
        "colab": {
          "base_uri": "https://localhost:8080/"
        },
        "id": "rvQt1SF0kr-b",
        "outputId": "710bc53b-72e0-47be-9c2b-f1412f0bfc66"
      },
      "execution_count": null,
      "outputs": [
        {
          "output_type": "execute_result",
          "data": {
            "text/plain": [
              "5"
            ]
          },
          "metadata": {},
          "execution_count": 75
        }
      ]
    },
    {
      "cell_type": "code",
      "source": [
        "sum_( 5,  3)"
      ],
      "metadata": {
        "colab": {
          "base_uri": "https://localhost:8080/"
        },
        "id": "JOsuyrl8lEvd",
        "outputId": "efe9368f-b66e-40ea-d64c-98e140b462e7"
      },
      "execution_count": null,
      "outputs": [
        {
          "output_type": "execute_result",
          "data": {
            "text/plain": [
              "8"
            ]
          },
          "metadata": {},
          "execution_count": 77
        }
      ]
    },
    {
      "cell_type": "code",
      "source": [
        "def add_two():\n",
        "  a = int(input('enter the 1st number'))\n",
        "  b= int(input('enter the 2st number'))\n",
        "  c = int(input('enter the 3st number'))\n",
        "\n",
        "  return a + b + c"
      ],
      "metadata": {
        "id": "-UOqpz20VnL_"
      },
      "execution_count": null,
      "outputs": []
    },
    {
      "cell_type": "code",
      "source": [
        "add_two()"
      ],
      "metadata": {
        "colab": {
          "base_uri": "https://localhost:8080/"
        },
        "id": "trJ9qfNNVoCy",
        "outputId": "bda407eb-982b-4fef-e00f-7fa99081db42"
      },
      "execution_count": null,
      "outputs": [
        {
          "name": "stdout",
          "output_type": "stream",
          "text": [
            "enter the 1st number23\n",
            "enter the 2st number24444\n",
            "enter the 3st number444\n"
          ]
        },
        {
          "output_type": "execute_result",
          "data": {
            "text/plain": [
              "24911"
            ]
          },
          "metadata": {},
          "execution_count": 35
        }
      ]
    },
    {
      "cell_type": "code",
      "source": [
        "def add_two_no():\n",
        "  a = int(input('enter the 1st number'))\n",
        "  b= int(input('enter the 2st number'))\n",
        "\n",
        "  return a + b"
      ],
      "metadata": {
        "id": "IO_2SzUHlQNC"
      },
      "execution_count": null,
      "outputs": []
    },
    {
      "cell_type": "code",
      "source": [
        "\n",
        "\n",
        "add_two_no()"
      ],
      "metadata": {
        "colab": {
          "base_uri": "https://localhost:8080/"
        },
        "id": "o_r51vVDlqFC",
        "outputId": "8fbfc002-af1e-4ac7-c581-bc395e247028"
      },
      "execution_count": null,
      "outputs": [
        {
          "name": "stdout",
          "output_type": "stream",
          "text": [
            "enter the 1st number33\n",
            "enter the 2st number33\n"
          ]
        },
        {
          "output_type": "execute_result",
          "data": {
            "text/plain": [
              "66"
            ]
          },
          "metadata": {},
          "execution_count": 3
        }
      ]
    },
    {
      "cell_type": "code",
      "source": [
        "4\n",
        "4\n",
        "add_two_no()"
      ],
      "metadata": {
        "colab": {
          "base_uri": "https://localhost:8080/"
        },
        "id": "FAeunVPIlruV",
        "outputId": "dd7e88a8-5603-4336-ef9c-9a27886544de"
      },
      "execution_count": null,
      "outputs": [
        {
          "name": "stdout",
          "output_type": "stream",
          "text": [
            "enter the 1st number233\n",
            "enter the 2st number33\n"
          ]
        },
        {
          "output_type": "execute_result",
          "data": {
            "text/plain": [
              "266"
            ]
          },
          "metadata": {},
          "execution_count": 80
        }
      ]
    },
    {
      "cell_type": "code",
      "source": [
        "## write a function that takes a least as input and return me all numeric values"
      ],
      "metadata": {
        "id": "b3yu4eQilvJw"
      },
      "execution_count": null,
      "outputs": []
    },
    {
      "cell_type": "code",
      "source": [
        "def only_num(a):\n",
        "  n= []\n",
        "  for i in a :\n",
        "    if type(i) == int or  type(i) == float:\n",
        "      n.append(i)\n",
        "  return(n)"
      ],
      "metadata": {
        "id": "MpRsPLj4kzYU"
      },
      "execution_count": null,
      "outputs": []
    },
    {
      "cell_type": "code",
      "source": [
        "only_num([1,2,3,4,5,'atul' ,'pwskills' ,True ,2.3 ,[1,2,3,4]])"
      ],
      "metadata": {
        "colab": {
          "base_uri": "https://localhost:8080/"
        },
        "id": "odWQuKBtlbRI",
        "outputId": "6a8e019d-e018-418f-ef98-bb6cad82632c"
      },
      "execution_count": null,
      "outputs": [
        {
          "output_type": "execute_result",
          "data": {
            "text/plain": [
              "[1, 2, 3, 4, 5, 2.3]"
            ]
          },
          "metadata": {},
          "execution_count": 12
        }
      ]
    },
    {
      "cell_type": "code",
      "source": [
        "def only_num(a):\n",
        "  n= []\n",
        "  for i in a :\n",
        "    if type(i) == list :\n",
        "      for j in i:\n",
        "         if type(j) == int  or  type(j) == float:\n",
        "            n.append(j)\n",
        "\n",
        "      else:\n",
        "         if type(i) == int  or   type(i) == float:\n",
        "            n.append(i)\n",
        "\n",
        "      return n"
      ],
      "metadata": {
        "id": "B-D6jOKylrk2"
      },
      "execution_count": null,
      "outputs": []
    },
    {
      "cell_type": "code",
      "source": [
        "only_num([1,2,3,4,5,'atul' ,'pwskills' ,True ,2.3 ,[1,2,3,4]])"
      ],
      "metadata": {
        "colab": {
          "base_uri": "https://localhost:8080/"
        },
        "id": "IgEYw9DgmexD",
        "outputId": "da87a766-6f47-476d-ae74-f3b2da5edc67"
      },
      "execution_count": null,
      "outputs": [
        {
          "output_type": "execute_result",
          "data": {
            "text/plain": [
              "[1, 2, 3, 4]"
            ]
          },
          "metadata": {},
          "execution_count": 47
        }
      ]
    },
    {
      "cell_type": "code",
      "source": [
        "onlonly_num([1,2,3,4,5,'atul' ,'pwskills' ,True ,2.3 ,[1,2,3,4]])"
      ],
      "metadata": {
        "colab": {
          "base_uri": "https://localhost:8080/"
        },
        "id": "rEff9IUempLg",
        "outputId": "6239b203-b477-4b08-f185-c4466b9d504e"
      },
      "execution_count": null,
      "outputs": [
        {
          "output_type": "execute_result",
          "data": {
            "text/plain": [
              "[1, 2, 3, 4]"
            ]
          },
          "metadata": {},
          "execution_count": 23
        }
      ]
    },
    {
      "cell_type": "code",
      "source": [
        "def only_num(a):\n",
        "  n = []\n",
        "  for i in a :\n",
        "      if type(i) == list :\n",
        "           for j in i :\n",
        "               if type(j) == int or type(j) == float:\n",
        "                   n.append(j)\n",
        "\n",
        "      else:\n",
        "            if type(i) == int or type (i) == float :\n",
        "                n.append(i)\n",
        "\n",
        "      return (n)"
      ],
      "metadata": {
        "id": "znV32L5knRK-"
      },
      "execution_count": null,
      "outputs": []
    },
    {
      "cell_type": "code",
      "source": [
        "only_num([1,2,3,4,'atul','akka' , [1,2,3,4]])"
      ],
      "metadata": {
        "colab": {
          "base_uri": "https://localhost:8080/"
        },
        "id": "PRUYDkeyoHiQ",
        "outputId": "7a799e91-3711-4854-842d-a95d43a8bba0"
      },
      "execution_count": null,
      "outputs": [
        {
          "output_type": "execute_result",
          "data": {
            "text/plain": [
              "[1]"
            ]
          },
          "metadata": {},
          "execution_count": 50
        }
      ]
    },
    {
      "cell_type": "code",
      "source": [
        "def sum_(a,b):\n",
        "  return a + b"
      ],
      "metadata": {
        "id": "6VL-Dcw8olSR"
      },
      "execution_count": null,
      "outputs": []
    },
    {
      "cell_type": "code",
      "source": [
        "sum_(1,2)"
      ],
      "metadata": {
        "colab": {
          "base_uri": "https://localhost:8080/"
        },
        "id": "XoKkf7-tqEcf",
        "outputId": "71a3b96e-21ff-44e2-e744-290cfd7bc4f5"
      },
      "execution_count": null,
      "outputs": [
        {
          "output_type": "execute_result",
          "data": {
            "text/plain": [
              "3"
            ]
          },
          "metadata": {},
          "execution_count": 52
        }
      ]
    },
    {
      "cell_type": "code",
      "source": [
        "## variable length argument\n",
        "\n",
        "def sum_(*args):\n",
        "  s = 0\n",
        "  for i in args :\n",
        "    s = s+i\n",
        "  return s"
      ],
      "metadata": {
        "id": "pFbBHWYoqG1J"
      },
      "execution_count": null,
      "outputs": []
    },
    {
      "cell_type": "code",
      "source": [
        "sum_(2,3,4,4,4,4,9)"
      ],
      "metadata": {
        "colab": {
          "base_uri": "https://localhost:8080/"
        },
        "id": "tSrrI74WsNdn",
        "outputId": "65eb85ee-39fe-4e9d-c10f-045fc171d033"
      },
      "execution_count": null,
      "outputs": [
        {
          "output_type": "execute_result",
          "data": {
            "text/plain": [
              "30"
            ]
          },
          "metadata": {},
          "execution_count": 54
        }
      ]
    },
    {
      "cell_type": "code",
      "source": [
        "sum_(1,2,2)"
      ],
      "metadata": {
        "colab": {
          "base_uri": "https://localhost:8080/"
        },
        "id": "vp99naLgsQuQ",
        "outputId": "f81b1377-3d1a-44d8-8fa3-1a3f05f33b35"
      },
      "execution_count": null,
      "outputs": [
        {
          "output_type": "execute_result",
          "data": {
            "text/plain": [
              "5"
            ]
          },
          "metadata": {},
          "execution_count": 55
        }
      ]
    },
    {
      "cell_type": "code",
      "source": [
        "def test1(*args):\n",
        "  return args"
      ],
      "metadata": {
        "id": "2J-jsIo6saXT"
      },
      "execution_count": null,
      "outputs": []
    },
    {
      "cell_type": "code",
      "source": [
        "test1(1,2,3,4,4.5,'atul',[1,2,3,] , (12,3))"
      ],
      "metadata": {
        "colab": {
          "base_uri": "https://localhost:8080/"
        },
        "id": "Zf4C3lEmsiGg",
        "outputId": "1cda49ff-3250-4b88-aca0-90fbcc83fab7"
      },
      "execution_count": null,
      "outputs": [
        {
          "output_type": "execute_result",
          "data": {
            "text/plain": [
              "(1, 2, 3, 4, 4.5, 'atul', [1, 2, 3], (12, 3))"
            ]
          },
          "metadata": {},
          "execution_count": 57
        }
      ]
    },
    {
      "cell_type": "code",
      "source": [
        "def test1(*args ,a):\n",
        "  return args ,a"
      ],
      "metadata": {
        "id": "tDgd1zblssYu"
      },
      "execution_count": null,
      "outputs": []
    },
    {
      "cell_type": "code",
      "source": [
        "test1(1,2,3,4,4.5,'atul',[1,2,3,] , (12,3) ,a ='ram')"
      ],
      "metadata": {
        "colab": {
          "base_uri": "https://localhost:8080/"
        },
        "id": "2rcvtHOus9CU",
        "outputId": "3ba1b55a-e67c-49a6-ec43-04c26834efdc"
      },
      "execution_count": null,
      "outputs": [
        {
          "output_type": "execute_result",
          "data": {
            "text/plain": [
              "((1, 2, 3, 4, 4.5, 'atul', [1, 2, 3], (12, 3)), 'ram')"
            ]
          },
          "metadata": {},
          "execution_count": 60
        }
      ]
    },
    {
      "cell_type": "code",
      "source": [
        "## wirte a function that takes alist as input and return me all umeric values"
      ],
      "metadata": {
        "id": "TLeoVHbas_B7"
      },
      "execution_count": null,
      "outputs": []
    },
    {
      "cell_type": "code",
      "source": [
        "def only_numeric(a):\n",
        "  n = []\n",
        "  for i in a :\n",
        "    if type(i) == int or  type(i) == float:\n",
        "       n.append(i)\n",
        "  return n"
      ],
      "metadata": {
        "id": "VGSixFOfETCA"
      },
      "execution_count": null,
      "outputs": []
    },
    {
      "cell_type": "code",
      "source": [
        "only_numeric([1,2,3,4.5,5,'atul' ,'pwskills' ,True,[1,2,3,4]])"
      ],
      "metadata": {
        "colab": {
          "base_uri": "https://localhost:8080/"
        },
        "id": "aAsTO2euFBId",
        "outputId": "f1045531-1592-404d-a263-b566265bdeaa"
      },
      "execution_count": null,
      "outputs": [
        {
          "output_type": "execute_result",
          "data": {
            "text/plain": [
              "[1, 2, 3, 4.5, 5]"
            ]
          },
          "metadata": {},
          "execution_count": 7
        }
      ]
    },
    {
      "cell_type": "code",
      "source": [
        "def only_numeric(a):\n",
        "  n = []\n",
        "  for i in a :\n",
        "    if type(i) == list:\n",
        "      for j in i:\n",
        "           if type(j) == int or  type(j) == float:\n",
        "            n.append(j)\n",
        "\n",
        "\n",
        "    else:\n",
        "      if type(i) == int or  type(i) == float:\n",
        "       n.append(i)\n",
        "  return n\n",
        "\n"
      ],
      "metadata": {
        "id": "VfqxrbIxFOpj"
      },
      "execution_count": null,
      "outputs": []
    },
    {
      "cell_type": "code",
      "source": [
        " only_numeric([1,2,3,4.5,5,'atul' ,'pwskills' ,True,[1,2,3,4]])"
      ],
      "metadata": {
        "colab": {
          "base_uri": "https://localhost:8080/"
        },
        "id": "Bjt_Gs9oGQLr",
        "outputId": "95f5fe25-811d-4d8a-e075-8c381315df36"
      },
      "execution_count": null,
      "outputs": [
        {
          "output_type": "execute_result",
          "data": {
            "text/plain": [
              "[1, 2, 3, 4.5, 5, 1, 2, 3, 4]"
            ]
          },
          "metadata": {},
          "execution_count": 25
        }
      ]
    },
    {
      "cell_type": "code",
      "source": [],
      "metadata": {
        "id": "bWdhFTLZGgm9"
      },
      "execution_count": null,
      "outputs": []
    },
    {
      "cell_type": "code",
      "source": [
        "only_numeric([1,2,3,4.5,5,'atul' ,'pwskills' ,True,[1,2,3,4]])"
      ],
      "metadata": {
        "colab": {
          "base_uri": "https://localhost:8080/"
        },
        "id": "rLzsGrMqHHld",
        "outputId": "09fd0a65-1853-42e7-851c-a3a407bc9b2d"
      },
      "execution_count": null,
      "outputs": [
        {
          "output_type": "execute_result",
          "data": {
            "text/plain": [
              "[1, 2, 3, 4.5, 5, 1, 2, 3, 4]"
            ]
          },
          "metadata": {},
          "execution_count": 17
        }
      ]
    },
    {
      "cell_type": "code",
      "source": [
        "def sum_(a,b):\n",
        "  return a + b"
      ],
      "metadata": {
        "id": "gfUKtgtCHJ33"
      },
      "execution_count": null,
      "outputs": []
    },
    {
      "cell_type": "code",
      "source": [
        "sum_(2,3)"
      ],
      "metadata": {
        "colab": {
          "base_uri": "https://localhost:8080/"
        },
        "id": "CjGx3NQ7JJw7",
        "outputId": "0d945bda-e446-4eca-d736-d4dd959eefcd"
      },
      "execution_count": null,
      "outputs": [
        {
          "output_type": "execute_result",
          "data": {
            "text/plain": [
              "5"
            ]
          },
          "metadata": {},
          "execution_count": 27
        }
      ]
    },
    {
      "cell_type": "code",
      "source": [
        "sum_(2,3,3)"
      ],
      "metadata": {
        "colab": {
          "base_uri": "https://localhost:8080/",
          "height": 141
        },
        "id": "57L9b5j9JLx4",
        "outputId": "6bd11bf5-b737-42f3-d112-e779c26cacc4"
      },
      "execution_count": null,
      "outputs": [
        {
          "output_type": "error",
          "ename": "TypeError",
          "evalue": "sum_() takes 2 positional arguments but 3 were given",
          "traceback": [
            "\u001b[0;31m---------------------------------------------------------------------------\u001b[0m",
            "\u001b[0;31mTypeError\u001b[0m                                 Traceback (most recent call last)",
            "\u001b[0;32m<ipython-input-28-fab3902ad445>\u001b[0m in \u001b[0;36m<cell line: 0>\u001b[0;34m()\u001b[0m\n\u001b[0;32m----> 1\u001b[0;31m \u001b[0msum_\u001b[0m\u001b[0;34m(\u001b[0m\u001b[0;36m2\u001b[0m\u001b[0;34m,\u001b[0m\u001b[0;36m3\u001b[0m\u001b[0;34m,\u001b[0m\u001b[0;36m3\u001b[0m\u001b[0;34m)\u001b[0m\u001b[0;34m\u001b[0m\u001b[0;34m\u001b[0m\u001b[0m\n\u001b[0m",
            "\u001b[0;31mTypeError\u001b[0m: sum_() takes 2 positional arguments but 3 were given"
          ]
        }
      ]
    },
    {
      "cell_type": "code",
      "source": [
        "### variable lenght argument\n",
        "\n",
        "\n",
        "def sum_(*args):\n",
        "  s = 0\n",
        "  for i in args:\n",
        "    s = s+i\n",
        "  return s"
      ],
      "metadata": {
        "id": "5zsN-0ZNJRSz"
      },
      "execution_count": null,
      "outputs": []
    },
    {
      "cell_type": "code",
      "source": [
        "sum_(1,2,3,4,5,6,7,7,7)"
      ],
      "metadata": {
        "colab": {
          "base_uri": "https://localhost:8080/"
        },
        "id": "BIsbNaGkJv4q",
        "outputId": "7de539b6-36d3-4890-fa60-a72fa6d59953"
      },
      "execution_count": null,
      "outputs": [
        {
          "output_type": "execute_result",
          "data": {
            "text/plain": [
              "42"
            ]
          },
          "metadata": {},
          "execution_count": 33
        }
      ]
    },
    {
      "cell_type": "code",
      "source": [
        "sum_(1,2,3,4,5)"
      ],
      "metadata": {
        "colab": {
          "base_uri": "https://localhost:8080/"
        },
        "id": "OEoenoI2J3Jh",
        "outputId": "813f6e18-c457-46bd-8ddf-25dfef0321eb"
      },
      "execution_count": null,
      "outputs": [
        {
          "output_type": "execute_result",
          "data": {
            "text/plain": [
              "15"
            ]
          },
          "metadata": {},
          "execution_count": 34
        }
      ]
    },
    {
      "cell_type": "code",
      "source": [
        "def test1(*args):\n",
        "  return args"
      ],
      "metadata": {
        "id": "X1svcv_aKDkG"
      },
      "execution_count": null,
      "outputs": []
    },
    {
      "cell_type": "code",
      "source": [
        "test1(1,2.3,4,4.5,'atul' ,[1,2,4] ,(12,3) , True ,a = \"ram\")"
      ],
      "metadata": {
        "colab": {
          "base_uri": "https://localhost:8080/"
        },
        "id": "btI1pbqrKKbi",
        "outputId": "99c56d5a-353f-4067-bfc7-1646bca2744a"
      },
      "execution_count": null,
      "outputs": [
        {
          "output_type": "execute_result",
          "data": {
            "text/plain": [
              "((1, 2.3, 4, 4.5, 'atul', [1, 2, 4], (12, 3), True), 'ram')"
            ]
          },
          "metadata": {},
          "execution_count": 38
        }
      ]
    },
    {
      "cell_type": "code",
      "source": [
        "def test1(*args,a):\n",
        "  return args ,a"
      ],
      "metadata": {
        "id": "gW2q2mtFKWbo"
      },
      "execution_count": null,
      "outputs": []
    },
    {
      "cell_type": "code",
      "source": [
        "def return_list(*args):\n",
        "  l = []\n",
        "  for i in args:\n",
        "    if type(i) == list:\n",
        "      l.append(i)\n",
        "\n",
        "\n",
        "  return l"
      ],
      "metadata": {
        "id": "eJqW-rdDKj5w"
      },
      "execution_count": null,
      "outputs": []
    },
    {
      "cell_type": "code",
      "source": [
        "return_list(1,2.3,4,4.5,'atul' ,[1,2,4] ,(12,3) , [4,5,6,7], True )"
      ],
      "metadata": {
        "colab": {
          "base_uri": "https://localhost:8080/"
        },
        "id": "Qymg0JPQLHs6",
        "outputId": "1b20d631-f54f-4abe-e33c-b94883918c8b"
      },
      "execution_count": null,
      "outputs": [
        {
          "output_type": "execute_result",
          "data": {
            "text/plain": [
              "[[1, 2, 4], [4, 5, 6, 7]]"
            ]
          },
          "metadata": {},
          "execution_count": 43
        }
      ]
    },
    {
      "cell_type": "code",
      "source": [
        "def team(name,project):\n",
        "  return f\"{name} is working on {project}.\""
      ],
      "metadata": {
        "id": "nykS_BS0LRLk"
      },
      "execution_count": 1,
      "outputs": []
    },
    {
      "cell_type": "code",
      "source": [
        "team(name= 'atul' ,project='IR')"
      ],
      "metadata": {
        "colab": {
          "base_uri": "https://localhost:8080/",
          "height": 35
        },
        "id": "tZLXcPc5MHvv",
        "outputId": "747cf4b5-8c59-44f2-ceb7-c426f007ed7a"
      },
      "execution_count": 2,
      "outputs": [
        {
          "output_type": "execute_result",
          "data": {
            "text/plain": [
              "'atul is working on IR.'"
            ],
            "application/vnd.google.colaboratory.intrinsic+json": {
              "type": "string"
            }
          },
          "metadata": {},
          "execution_count": 2
        }
      ]
    },
    {
      "cell_type": "code",
      "source": [
        "### it should accept any number of argument\n",
        "##  treated key value pair"
      ],
      "metadata": {
        "id": "U8aybYd1MQKQ"
      },
      "execution_count": 3,
      "outputs": []
    },
    {
      "cell_type": "code",
      "source": [
        "def kwarg_func(**kwargs):\n",
        "  return kwargs"
      ],
      "metadata": {
        "id": "NdE5BD38MjdX"
      },
      "execution_count": 4,
      "outputs": []
    },
    {
      "cell_type": "code",
      "source": [
        "kwarg_func(a = 2,b=3)"
      ],
      "metadata": {
        "colab": {
          "base_uri": "https://localhost:8080/"
        },
        "id": "eI1ukyEgNCrl",
        "outputId": "0d98cc90-5fb8-4e25-f03b-8846fb98517e"
      },
      "execution_count": 5,
      "outputs": [
        {
          "output_type": "execute_result",
          "data": {
            "text/plain": [
              "{'a': 2, 'b': 3}"
            ]
          },
          "metadata": {},
          "execution_count": 5
        }
      ]
    },
    {
      "cell_type": "code",
      "source": [
        "kwarg_func(a = 2,b=3 , c = 6,d=7 ,e =[1,23] ,m=(12,3,4))"
      ],
      "metadata": {
        "colab": {
          "base_uri": "https://localhost:8080/"
        },
        "id": "CTmk8AerNHiJ",
        "outputId": "07c51581-5d7f-486f-b627-92e240e98891"
      },
      "execution_count": 8,
      "outputs": [
        {
          "output_type": "execute_result",
          "data": {
            "text/plain": [
              "{'a': 2, 'b': 3, 'c': 6, 'd': 7, 'e': [1, 23], 'm': (12, 3, 4)}"
            ]
          },
          "metadata": {},
          "execution_count": 8
        }
      ]
    },
    {
      "cell_type": "code",
      "source": [
        "## write a function which takes variable key word argument and return only the values which is a list"
      ],
      "metadata": {
        "id": "ySyhRJq-NSxX"
      },
      "execution_count": 9,
      "outputs": []
    },
    {
      "cell_type": "code",
      "source": [
        "def test(**kwargs):\n",
        "  for i in kwargs.keys():\n",
        "    if type(kwargs[i] ) == list:\n",
        "      return i, kwargs[i]"
      ],
      "metadata": {
        "id": "yEPZDWeDNzZV"
      },
      "execution_count": 12,
      "outputs": []
    },
    {
      "cell_type": "code",
      "source": [
        "test(a = 2,b=3 , c = 6,d=7 ,e =[1,23] ,m=(12,3,4))"
      ],
      "metadata": {
        "colab": {
          "base_uri": "https://localhost:8080/"
        },
        "id": "IkNGSv7EOZdm",
        "outputId": "c470e06d-6402-463a-ae70-74412d0f0713"
      },
      "execution_count": 13,
      "outputs": [
        {
          "output_type": "execute_result",
          "data": {
            "text/plain": [
              "('e', [1, 23])"
            ]
          },
          "metadata": {},
          "execution_count": 13
        }
      ]
    },
    {
      "cell_type": "code",
      "source": [
        "def test1(*atul,**bijay):\n",
        "  return atul,bijay\n"
      ],
      "metadata": {
        "id": "Nbkyv7MwOikG"
      },
      "execution_count": 17,
      "outputs": []
    },
    {
      "cell_type": "code",
      "source": [
        "test1(1,2,3,a=100,c=1000 )"
      ],
      "metadata": {
        "colab": {
          "base_uri": "https://localhost:8080/"
        },
        "id": "kT3OQVe7P-Sq",
        "outputId": "51765819-1838-4b1e-b8c1-57d4a2349162"
      },
      "execution_count": 18,
      "outputs": [
        {
          "output_type": "execute_result",
          "data": {
            "text/plain": [
              "((1, 2, 3), {'a': 100, 'c': 1000})"
            ]
          },
          "metadata": {},
          "execution_count": 18
        }
      ]
    },
    {
      "cell_type": "code",
      "source": [
        "## python_name space\n",
        "def greet():\n",
        "  message = 'hello,welcome' ##3 message is a local variable\n",
        "  print(message)"
      ],
      "metadata": {
        "id": "FHqhtGoLQWaH"
      },
      "execution_count": 19,
      "outputs": []
    },
    {
      "cell_type": "code",
      "source": [
        "greet()"
      ],
      "metadata": {
        "colab": {
          "base_uri": "https://localhost:8080/"
        },
        "id": "bk-uE__KQ-au",
        "outputId": "61a816c1-d0b1-420a-ebc3-7fd067d328ac"
      },
      "execution_count": 20,
      "outputs": [
        {
          "output_type": "stream",
          "name": "stdout",
          "text": [
            "hello,welcome\n"
          ]
        }
      ]
    },
    {
      "cell_type": "code",
      "source": [
        "from re import sub\n",
        "## python_name space\n",
        "subpart = \"to course \" ## global variable >> can be accessed in and outside the function\n",
        "def greet():\n",
        "  message = 'hello,welcome'  + subpart\n",
        "  print(message)"
      ],
      "metadata": {
        "id": "28zernOGRAhc"
      },
      "execution_count": 29,
      "outputs": []
    },
    {
      "cell_type": "code",
      "source": [
        "greet()"
      ],
      "metadata": {
        "colab": {
          "base_uri": "https://localhost:8080/"
        },
        "id": "yu1DKdcTRwoA",
        "outputId": "3e2a47cc-9c49-40b3-8a26-2e7289a35fd6"
      },
      "execution_count": 23,
      "outputs": [
        {
          "output_type": "stream",
          "name": "stdout",
          "text": [
            "hello,welcometo course \n"
          ]
        }
      ]
    },
    {
      "cell_type": "code",
      "source": [
        "print(subpart)"
      ],
      "metadata": {
        "colab": {
          "base_uri": "https://localhost:8080/"
        },
        "id": "BampAfqTR1mU",
        "outputId": "4557371d-e906-46ca-a846-3e3a8e34d2f5"
      },
      "execution_count": 28,
      "outputs": [
        {
          "output_type": "stream",
          "name": "stdout",
          "text": [
            "to course \n"
          ]
        }
      ]
    },
    {
      "cell_type": "code",
      "source": [
        "print(message)"
      ],
      "metadata": {
        "colab": {
          "base_uri": "https://localhost:8080/",
          "height": 141
        },
        "id": "AVZreMdWR4uf",
        "outputId": "40c45513-4cf2-42cb-944f-33c0f416ea4b"
      },
      "execution_count": 27,
      "outputs": [
        {
          "output_type": "error",
          "ename": "NameError",
          "evalue": "name 'message' is not defined",
          "traceback": [
            "\u001b[0;31m---------------------------------------------------------------------------\u001b[0m",
            "\u001b[0;31mNameError\u001b[0m                                 Traceback (most recent call last)",
            "\u001b[0;32m<ipython-input-27-83cfdf559502>\u001b[0m in \u001b[0;36m<cell line: 0>\u001b[0;34m()\u001b[0m\n\u001b[0;32m----> 1\u001b[0;31m \u001b[0mprint\u001b[0m\u001b[0;34m(\u001b[0m\u001b[0mmessage\u001b[0m\u001b[0;34m)\u001b[0m\u001b[0;34m\u001b[0m\u001b[0;34m\u001b[0m\u001b[0m\n\u001b[0m",
            "\u001b[0;31mNameError\u001b[0m: name 'message' is not defined"
          ]
        }
      ]
    },
    {
      "cell_type": "code",
      "source": [
        "##function inside a function\n",
        "\n",
        "\n",
        "def marks_in_subjects(**kwargs):\n",
        "\n",
        "  marks_list = []\n",
        "  for sugject , marks in kwargs .items():\n",
        "    marks_list.append(marks)\n",
        "  return total_marks (marks_list)\n"
      ],
      "metadata": {
        "id": "N07_uL3cR9GT"
      },
      "execution_count": 35,
      "outputs": []
    },
    {
      "cell_type": "code",
      "source": [
        "marks_in_subjects (a= 37 ,b = 45,c= 23)"
      ],
      "metadata": {
        "colab": {
          "base_uri": "https://localhost:8080/"
        },
        "id": "cSm4aOL8UBTQ",
        "outputId": "36e68aa3-bdf1-4391-ad6f-f578113c854d"
      },
      "execution_count": 36,
      "outputs": [
        {
          "output_type": "execute_result",
          "data": {
            "text/plain": [
              "105"
            ]
          },
          "metadata": {},
          "execution_count": 36
        }
      ]
    },
    {
      "cell_type": "code",
      "source": [
        "## calling from outside\n",
        "def total_marks(marks_list):\n",
        "    return sum(marks_list)\n",
        "    def marks_in_subjects(**kwargs):\n",
        "\n",
        "      marks_list = []\n",
        "      for sugject , marks in kwargs .items():\n",
        "        marks_list.append(marks)\n",
        "    return total_marks (marks_list)\n",
        "\n",
        ""
      ],
      "metadata": {
        "id": "79-tD30pU3zJ"
      },
      "execution_count": 44,
      "outputs": []
    },
    {
      "cell_type": "code",
      "source": [
        "marks_in_subjects (a= 37 ,b = 45,c= 23)"
      ],
      "metadata": {
        "colab": {
          "base_uri": "https://localhost:8080/"
        },
        "id": "GIuGGe6gVntq",
        "outputId": "e16416c1-5040-48ef-aac2-45ea2c3e71ab"
      },
      "execution_count": 45,
      "outputs": [
        {
          "output_type": "execute_result",
          "data": {
            "text/plain": [
              "105"
            ]
          },
          "metadata": {},
          "execution_count": 45
        }
      ]
    },
    {
      "cell_type": "code",
      "source": [
        "def find_power(num ,power):\n",
        "  '''This function returns the power of number\n",
        "  Args:\n",
        "  num(int):insert an intger any value\n",
        "  power(int): insert any intger value\n",
        "  returns:\n",
        "  integer : power of number\n",
        "  '''\n",
        "  return num**power"
      ],
      "metadata": {
        "id": "xofl2vLTVyqO"
      },
      "execution_count": 48,
      "outputs": []
    },
    {
      "cell_type": "code",
      "source": [
        "find_power(33,77)"
      ],
      "metadata": {
        "colab": {
          "base_uri": "https://localhost:8080/"
        },
        "id": "3WpgVM3oWHcz",
        "outputId": "72f62930-2067-45b6-b0ec-4ec618e6dc26"
      },
      "execution_count": 49,
      "outputs": [
        {
          "output_type": "execute_result",
          "data": {
            "text/plain": [
              "842506714222034986377665537243970265098661950508148501967088295783728612174508896092022189907905149812071917470663073"
            ]
          },
          "metadata": {},
          "execution_count": 49
        }
      ]
    },
    {
      "cell_type": "code",
      "source": [
        "help(find_power)"
      ],
      "metadata": {
        "colab": {
          "base_uri": "https://localhost:8080/"
        },
        "id": "ibzYN-L0WKvt",
        "outputId": "485b0d47-8361-49c2-c83a-91ae5a406c6a"
      },
      "execution_count": 50,
      "outputs": [
        {
          "output_type": "stream",
          "name": "stdout",
          "text": [
            "Help on function find_power in module __main__:\n",
            "\n",
            "find_power(num, power)\n",
            "    This function returns the power of number\n",
            "    Args:\n",
            "    num(int):insert an intger any value\n",
            "    power(int): insert any intger value\n",
            "    returns:\n",
            "    integer : power of number\n",
            "\n"
          ]
        }
      ]
    },
    {
      "cell_type": "code",
      "source": [
        "print(find_power.__doc__)"
      ],
      "metadata": {
        "colab": {
          "base_uri": "https://localhost:8080/"
        },
        "id": "wDzW0lRJXCzA",
        "outputId": "b8e045c1-3361-4457-d779-93739538bd68"
      },
      "execution_count": 52,
      "outputs": [
        {
          "output_type": "stream",
          "name": "stdout",
          "text": [
            "This function returns the power of number\n",
            "  Args:\n",
            "  num(int):insert an intger any value\n",
            "  power(int): insert any intger value\n",
            "  returns:\n",
            "  integer : power of number\n",
            "  \n"
          ]
        }
      ]
    },
    {
      "cell_type": "code",
      "source": [],
      "metadata": {
        "id": "xI5mgUlqXKPG"
      },
      "execution_count": null,
      "outputs": []
    }
  ]
}