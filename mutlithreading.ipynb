{
  "nbformat": 4,
  "nbformat_minor": 0,
  "metadata": {
    "colab": {
      "provenance": [],
      "authorship_tag": "ABX9TyPIIhx3FWAi4cbk2gclLoNe",
      "include_colab_link": true
    },
    "kernelspec": {
      "name": "python3",
      "display_name": "Python 3"
    },
    "language_info": {
      "name": "python"
    }
  },
  "cells": [
    {
      "cell_type": "markdown",
      "metadata": {
        "id": "view-in-github",
        "colab_type": "text"
      },
      "source": [
        "<a href=\"https://colab.research.google.com/github/atulpatil2228/pwlectures/blob/main/mutlithreading.ipynb\" target=\"_parent\"><img src=\"https://colab.research.google.com/assets/colab-badge.svg\" alt=\"Open In Colab\"/></a>"
      ]
    },
    {
      "cell_type": "code",
      "execution_count": 2,
      "metadata": {
        "id": "h6VAfinpi5m3"
      },
      "outputs": [],
      "source": [
        "## A process is an instance of a computer program\n",
        "## executable program , data , execution context\n",
        "## 4 processors  parallely >> multiprocessing\n",
        "## multiple threads in processor /core >> multi threading"
      ]
    },
    {
      "cell_type": "code",
      "source": [
        "import time\n",
        "start = time.perf_counter()\n",
        "\n",
        "def test_func():\n",
        "  print(\"so something\")\n",
        "  print(\"sleep of 1 sec\")\n",
        "  time.sleep(1)\n",
        "  print(\"Done with sleeping\")\n",
        "test_func()\n",
        "end  = time.perf_counter()\n",
        "\n",
        "print(f\"The program finished in{round(end-start,2)}seconds.\")"
      ],
      "metadata": {
        "colab": {
          "base_uri": "https://localhost:8080/"
        },
        "id": "fO0GEWpQliMR",
        "outputId": "759efa22-0afa-4c5f-c0cf-926105cbd573"
      },
      "execution_count": 4,
      "outputs": [
        {
          "output_type": "stream",
          "name": "stdout",
          "text": [
            "so something\n",
            "sleep of 1 sec\n",
            "Done with sleeping\n",
            "The program finished in1.0seconds.\n"
          ]
        }
      ]
    },
    {
      "cell_type": "code",
      "source": [
        "import time\n",
        "start = time.perf_counter()\n",
        "\n",
        "def test_func():\n",
        "  print(\"so something\")\n",
        "  print(\"sleep of 1 sec\")\n",
        "  time.sleep(1)\n",
        "  print(\"Done with sleeping\")\n",
        "test_func()\n",
        "test_func()\n",
        "end  = time.perf_counter()\n",
        "\n",
        "print(f\"The program finished in{round(end-start,2)}seconds.\")"
      ],
      "metadata": {
        "colab": {
          "base_uri": "https://localhost:8080/"
        },
        "id": "B7aXEoxanIKV",
        "outputId": "1cf06afa-e825-4bd1-baf8-16f78c617bf7"
      },
      "execution_count": 5,
      "outputs": [
        {
          "output_type": "stream",
          "name": "stdout",
          "text": [
            "so something\n",
            "sleep of 1 sec\n",
            "Done with sleeping\n",
            "so something\n",
            "sleep of 1 sec\n",
            "Done with sleeping\n",
            "The program finished in2.0seconds.\n"
          ]
        }
      ]
    },
    {
      "cell_type": "code",
      "source": [
        "import time\n",
        "import threading\n",
        "start = time.perf_counter()\n",
        "\n",
        "def test_func():\n",
        "  print(\"so something\")\n",
        "  print(\"sleep of 5 sec\")\n",
        "  time.sleep(5)\n",
        "  print(\"Done with sleeping\")\n",
        "\n",
        "t1  = threading.Thread(target=test_func)\n",
        "t2  = threading.Thread(target=test_func)\n",
        "\n",
        "t1.start() ## to start the thread\n",
        "t2.start()\n",
        "\n",
        "t1.join() ## in order to 1st execute the threads and then the excition of main program\n",
        "t2.join()\n",
        "\n",
        "end  = time.perf_counter()\n",
        "\n",
        "print(f\"The program finished in{round(end-start,2)}seconds.\")"
      ],
      "metadata": {
        "colab": {
          "base_uri": "https://localhost:8080/"
        },
        "id": "c-ianjKunoV1",
        "outputId": "93b8e09c-079f-4228-85da-aa5e4c3c4ea8"
      },
      "execution_count": 9,
      "outputs": [
        {
          "output_type": "stream",
          "name": "stdout",
          "text": [
            "so something\n",
            "sleep of 5 sec\n",
            "so something\n",
            "sleep of 5 sec\n",
            "Done with sleeping\n",
            "Done with sleeping\n",
            "The program finished in5.0seconds.\n"
          ]
        }
      ]
    },
    {
      "cell_type": "code",
      "source": [
        "import time\n",
        "import threading\n",
        "start = time.perf_counter()\n",
        "\n",
        "def test_func():\n",
        "  print(\"so something\")\n",
        "  print(\"sleep of 1 sec\")\n",
        "  time.sleep(1)\n",
        "  print(\"Done with sleeping\")\n",
        "threads = []\n",
        "for i in range(10):\n",
        "  t = threading.Thread(target=test_func)\n",
        "  t.start()\n",
        "  threads.append(t)\n",
        "for thread in threads:\n",
        "  thread.join()\n",
        "\n",
        "\n",
        "\n",
        "\n",
        "\n",
        "end  = time.perf_counter()\n",
        "\n",
        "print(f\"The program finished in{round(end-start,2)}seconds.\")"
      ],
      "metadata": {
        "colab": {
          "base_uri": "https://localhost:8080/"
        },
        "id": "HJuenRyOo9dM",
        "outputId": "13285723-8d0e-42e7-8596-32d32280af08"
      },
      "execution_count": 11,
      "outputs": [
        {
          "output_type": "stream",
          "name": "stdout",
          "text": [
            "so something\n",
            "sleep of 1 sec\n",
            "so something\n",
            "sleep of 1 sec\n",
            "so something\n",
            "sleep of 1 sec\n",
            "so something\n",
            "sleep of 1 sec\n",
            "so something\n",
            "sleep of 1 sec\n",
            "so something\n",
            "sleep of 1 sec\n",
            "so something\n",
            "sleep of 1 sec\n",
            "so something\n",
            "sleep of 1 sec\n",
            "so something\n",
            "sleep of 1 sec\n",
            "so something\n",
            "sleep of 1 sec\n",
            "Done with sleeping\n",
            "Done with sleeping\n",
            "Done with sleeping\n",
            "Done with sleeping\n",
            "Done with sleeping\n",
            "Done with sleeping\n",
            "Done with sleeping\n",
            "Done with sleeping\n",
            "Done with sleeping\n",
            "Done with sleeping\n",
            "The program finished in1.0seconds.\n"
          ]
        }
      ]
    },
    {
      "cell_type": "code",
      "source": [
        "import time\n",
        "import threading\n",
        "start = time.perf_counter()\n",
        "\n",
        "def test_func(args):\n",
        "  print(\"so something\")\n",
        "  print(f\"sleep of {args} sec\")\n",
        "  time.sleep(args)\n",
        "  print(\"Done with sleeping\")\n",
        "\n",
        "\n",
        "threads = []\n",
        "for i in range(10):\n",
        "  t = threading.Thread(target=test_func,args =[2])\n",
        "  t.start()\n",
        "  threads.append(t)\n",
        "for thread in threads:\n",
        "  thread.join()\n",
        "\n",
        "\n",
        "\n",
        "\n",
        "\n",
        "end  = time.perf_counter()\n",
        "\n",
        "print(f\"The program finished in{round(end-start,2)}seconds.\")"
      ],
      "metadata": {
        "colab": {
          "base_uri": "https://localhost:8080/"
        },
        "id": "f2OA6sHpt3LR",
        "outputId": "429679f0-dbe1-4f16-937f-e015d5ff20a2"
      },
      "execution_count": 13,
      "outputs": [
        {
          "output_type": "stream",
          "name": "stdout",
          "text": [
            "so something\n",
            "sleep of 2 sec\n",
            "so something\n",
            "sleep of 2 sec\n",
            "so something\n",
            "sleep of 2 sec\n",
            "so something\n",
            "sleep of 2 sec\n",
            "so something\n",
            "sleep of 2 sec\n",
            "so something\n",
            "sleep of 2 sec\n",
            "so something\n",
            "sleep of 2 sec\n",
            "so something\n",
            "sleep of 2 sec\n",
            "so something\n",
            "sleep of 2 sec\n",
            "so something\n",
            "sleep of 2 sec\n",
            "Done with sleeping\n",
            "Done with sleeping\n",
            "Done with sleeping\n",
            "Done with sleeping\n",
            "Done with sleeping\n",
            "Done with sleeping\n",
            "Done with sleeping\n",
            "Done with sleeping\n",
            "Done with sleeping\n",
            "Done with sleeping\n",
            "The program finished in2.01seconds.\n"
          ]
        }
      ]
    },
    {
      "cell_type": "code",
      "source": [
        "## I/O bound task >> performace can be improved using multithreading >> reading writing files, network communication,data base queries\n"
      ],
      "metadata": {
        "id": "Kby-pgTauSU4"
      },
      "execution_count": 15,
      "outputs": []
    },
    {
      "cell_type": "code",
      "source": [
        "url_list =[\"https://github.com/itsfoss/text-script-files/blob/master/agatha_complete.txt\",\n",
        "           \"https://github.com/itsfoss/text-script-files/blob/master/sample_log_file.txt\",\n",
        "           \"https://github.com/itsfoss/text-script-files/blob/master/sherlock.txt\",\n",
        "           \"https://github.com/itsfoss/text-script-files/blob/master/tab_file\"]"
      ],
      "metadata": {
        "id": "CkYlCW6yxZLu"
      },
      "execution_count": 16,
      "outputs": []
    },
    {
      "cell_type": "code",
      "source": [
        "import time\n",
        "import threading\n",
        "start = time.perf_counter()\n",
        "\n",
        "url_list =[\"https://github.com/itsfoss/text-script-files/blob/master/agatha_complete.txt\",\n",
        "           \"https://github.com/itsfoss/text-script-files/blob/master/sample_log_file.txt\",\n",
        "           \"https://github.com/itsfoss/text-script-files/blob/master/sherlock.txt\",\n",
        "           \"https://github.com/itsfoss/text-script-files/blob/master/tab_file\"]\n",
        "\n",
        "\n",
        "data_list = ['data1.txt','data2.txt','data3.txt','data4.txt']\n",
        "\n",
        "\n",
        "import urllib.request\n",
        "\n",
        "def file_download(url,filename):\n",
        "  urllib.request.urlretrieve(url,filename)\n",
        "threads = []\n",
        "for i in range(len(url_list)):\n",
        "  t = threading.Thread(target = file_download,args =(url_list[i],data_list[i]))\n",
        "  t.start()\n",
        "  threads.append(t)\n",
        "\n",
        "for thread in threads :\n",
        "  thread.join()\n",
        "\n",
        "\n",
        "\n",
        "\n",
        "\n",
        "\n",
        "\n",
        "end  = time.perf_counter()\n",
        "\n",
        "print(f\"The program finished in{round(end-start,2)}seconds.\")"
      ],
      "metadata": {
        "colab": {
          "base_uri": "https://localhost:8080/"
        },
        "id": "QIvgSwq3ydKD",
        "outputId": "d19b8106-008e-4490-85da-ac952c01b599"
      },
      "execution_count": 19,
      "outputs": [
        {
          "output_type": "stream",
          "name": "stdout",
          "text": [
            "The program finished in0.4seconds.\n"
          ]
        }
      ]
    },
    {
      "cell_type": "code",
      "source": [
        "import time\n",
        "import concurrent.futures\n",
        "start = time.perf_counter()\n",
        "\n",
        "url_list =[\"https://github.com/itsfoss/text-script-files/blob/master/agatha_complete.txt\",\n",
        "           \"https://github.com/itsfoss/text-script-files/blob/master/sample_log_file.txt\",\n",
        "           \"https://github.com/itsfoss/text-script-files/blob/master/sherlock.txt\",\n",
        "           \"https://github.com/itsfoss/text-script-files/blob/master/tab_file\"]\n",
        "\n",
        "\n",
        "data_list = ['data1.txt','data2.txt','data3.txt','data4.txt']\n",
        "\n",
        "\n",
        "import urllib.request\n",
        "\n",
        "def file_download(url,filename):\n",
        "  urllib.request.urlretrieve(url,filename)\n",
        "with concurrent.futures.ThreadPoolExecutor() as executor:\n",
        "  executor.map(file_download,url_list,data_list)\n",
        "\n",
        "\n",
        "\n",
        "\n",
        "\n",
        "\n",
        "end  = time.perf_counter()\n",
        "\n",
        "print(f\"The program finished in{round(end-start,2)}seconds.\")"
      ],
      "metadata": {
        "colab": {
          "base_uri": "https://localhost:8080/"
        },
        "id": "Sa22OCJlz65P",
        "outputId": "2f45b589-9465-4537-97ad-d464ddd30292"
      },
      "execution_count": 20,
      "outputs": [
        {
          "output_type": "stream",
          "name": "stdout",
          "text": [
            "The program finished in0.39seconds.\n"
          ]
        }
      ]
    },
    {
      "cell_type": "code",
      "source": [
        "## shared variable across all the threads\n",
        "start = time.perf_counter()\n",
        "shared_counter = 0\n",
        "counter_lock = threading.Lock()\n",
        "\n",
        "def increment_shared_counter(x):\n",
        "  global shared_counter\n",
        "  with counter_lock:\n",
        "    shared_counter =  shared_counter+1\n",
        "    print(f\"Thread {x} : incremented shared counter to {shared_counter}\")\n",
        "    time.sleep(1)\n",
        "\n",
        "\n",
        "threads = [threading.Thread(target = increment_shared_counter,args=(i,)) for i in [1,2,3,4,5,6]]\n",
        "\n",
        "for thread in threads:\n",
        "  thread.start()\n",
        "\n",
        "for thread in threads:\n",
        "  thread.join()\n",
        "end  = time.perf_counter()\n",
        "\n",
        "print(f\"The program finished in{round(end-start,2)}seconds.\")\n"
      ],
      "metadata": {
        "colab": {
          "base_uri": "https://localhost:8080/"
        },
        "id": "_4BYWFfx2cAB",
        "outputId": "5b7addce-5d25-4bad-83be-20050e086e9e"
      },
      "execution_count": 22,
      "outputs": [
        {
          "output_type": "stream",
          "name": "stdout",
          "text": [
            "Thread 1 : incremented shared counter to 1\n",
            "Thread 2 : incremented shared counter to 2\n",
            "Thread 3 : incremented shared counter to 3\n",
            "Thread 4 : incremented shared counter to 4\n",
            "Thread 5 : incremented shared counter to 5\n",
            "Thread 6 : incremented shared counter to 6\n",
            "The program finished in6.01seconds.\n"
          ]
        }
      ]
    },
    {
      "cell_type": "code",
      "source": [],
      "metadata": {
        "id": "B-ccat405HCs"
      },
      "execution_count": null,
      "outputs": []
    }
  ]
}