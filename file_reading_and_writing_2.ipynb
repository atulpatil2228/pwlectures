{
  "nbformat": 4,
  "nbformat_minor": 0,
  "metadata": {
    "colab": {
      "provenance": [],
      "authorship_tag": "ABX9TyPJCkHdliL036DsTV93AtoI",
      "include_colab_link": true
    },
    "kernelspec": {
      "name": "python3",
      "display_name": "Python 3"
    },
    "language_info": {
      "name": "python"
    }
  },
  "cells": [
    {
      "cell_type": "markdown",
      "metadata": {
        "id": "view-in-github",
        "colab_type": "text"
      },
      "source": [
        "<a href=\"https://colab.research.google.com/github/atulpatil2228/pwlectures/blob/main/file_reading_and_writing_2.ipynb\" target=\"_parent\"><img src=\"https://colab.research.google.com/assets/colab-badge.svg\" alt=\"Open In Colab\"/></a>"
      ]
    },
    {
      "cell_type": "code",
      "execution_count": 2,
      "metadata": {
        "id": "IjOWAdffvuMX"
      },
      "outputs": [],
      "source": [
        "text_content =\"\"\"\n",
        "example1\n",
        "example2\n",
        "example3\n",
        "\"\"\""
      ]
    },
    {
      "cell_type": "code",
      "source": [
        "with open(\"example.text\",\"w\") as file:\n",
        "  file.write(text_content)"
      ],
      "metadata": {
        "id": "aD-mmjep1lw4"
      },
      "execution_count": 3,
      "outputs": []
    },
    {
      "cell_type": "code",
      "source": [
        "with open(\"example.text\",\"r\") as file :\n",
        "  data = file.read()\n",
        "\n",
        "\n",
        "print(data)"
      ],
      "metadata": {
        "colab": {
          "base_uri": "https://localhost:8080/"
        },
        "id": "Nq56SG9W13_L",
        "outputId": "3cf3674d-af3f-4bdb-bee4-b87682a074db"
      },
      "execution_count": 5,
      "outputs": [
        {
          "output_type": "stream",
          "name": "stdout",
          "text": [
            "\n",
            "example1\n",
            "example2\n",
            "example3\n",
            "\n"
          ]
        }
      ]
    },
    {
      "cell_type": "code",
      "source": [
        "## CSV >> comma seprated values\n",
        "\n",
        "\n",
        "data = [[\"Name\",\"Course\",\"Fee\"],\n",
        "        [\"ajay\",\"DS\",\"1000\"],\n",
        "        [\"Atul\",\"ML\",\"2000\"]]"
      ],
      "metadata": {
        "id": "Z9Dp-aUB2JQa"
      },
      "execution_count": 11,
      "outputs": []
    },
    {
      "cell_type": "code",
      "source": [
        "data\n"
      ],
      "metadata": {
        "colab": {
          "base_uri": "https://localhost:8080/"
        },
        "id": "i4hjUmf02u1J",
        "outputId": "bd09544d-ddfd-4292-ae77-79e7b65f11ca"
      },
      "execution_count": 12,
      "outputs": [
        {
          "output_type": "execute_result",
          "data": {
            "text/plain": [
              "[['Name', 'Course', 'Fee'], ['ajay', 'DS', '1000'], ['Atul', 'ML', '2000']]"
            ]
          },
          "metadata": {},
          "execution_count": 12
        }
      ]
    },
    {
      "cell_type": "code",
      "source": [
        "for i in data :\n",
        "  print(i)"
      ],
      "metadata": {
        "colab": {
          "base_uri": "https://localhost:8080/"
        },
        "id": "woea5wtV3Ofr",
        "outputId": "c77dca45-d262-4c18-83b8-da407d582b35"
      },
      "execution_count": 13,
      "outputs": [
        {
          "output_type": "stream",
          "name": "stdout",
          "text": [
            "['Name', 'Course', 'Fee']\n",
            "['ajay', 'DS', '1000']\n",
            "['Atul', 'ML', '2000']\n"
          ]
        }
      ]
    },
    {
      "cell_type": "code",
      "source": [
        "import csv\n",
        "\n",
        "with open(\"example_csv.csv\" ,\"w\") as f :\n",
        "  w = csv.writer(f)\n",
        "  for i in data:\n",
        "    w.writerow(i)"
      ],
      "metadata": {
        "id": "9d8hdIf83SRS"
      },
      "execution_count": 15,
      "outputs": []
    },
    {
      "cell_type": "code",
      "source": [
        "with open(\"example_csv.csv\" ,\"r\") as f :\n",
        "  r = csv.reader(f)\n",
        "  for i in r :\n",
        "    print(i)"
      ],
      "metadata": {
        "colab": {
          "base_uri": "https://localhost:8080/"
        },
        "id": "i0wrxLEo33ux",
        "outputId": "532a9f6a-c164-4c48-fc03-580decf819fd"
      },
      "execution_count": 16,
      "outputs": [
        {
          "output_type": "stream",
          "name": "stdout",
          "text": [
            "['Name', 'Course', 'Fee']\n",
            "['ajay', 'DS', '1000']\n",
            "['Atul', 'ML', '2000']\n"
          ]
        }
      ]
    },
    {
      "cell_type": "code",
      "source": [
        "## json >> javascript object notation\n",
        "data = {\"name\":\"ajay\",\n",
        "        \"course\" :\"DA\",\n",
        "        \"fee\" : 2900}"
      ],
      "metadata": {
        "id": "wCY2Qj0N4c13"
      },
      "execution_count": 17,
      "outputs": []
    },
    {
      "cell_type": "code",
      "source": [
        "type(data)"
      ],
      "metadata": {
        "colab": {
          "base_uri": "https://localhost:8080/"
        },
        "id": "MTd_UWsv48Zp",
        "outputId": "10874ad9-7365-4d89-a8a4-fe2df95e0be8"
      },
      "execution_count": 18,
      "outputs": [
        {
          "output_type": "execute_result",
          "data": {
            "text/plain": [
              "dict"
            ]
          },
          "metadata": {},
          "execution_count": 18
        }
      ]
    },
    {
      "cell_type": "code",
      "source": [
        "import json\n",
        "with open(\"json1.json\" ,\"w\") as f :\n",
        "  json.dump(data,f)"
      ],
      "metadata": {
        "id": "KZVtPbv949yK"
      },
      "execution_count": 19,
      "outputs": []
    },
    {
      "cell_type": "code",
      "source": [
        "with open(\"json1.json\" ,\"r\") as f :\n",
        "  data = json.load(f)\n",
        "\n",
        "\n",
        "print(data)"
      ],
      "metadata": {
        "colab": {
          "base_uri": "https://localhost:8080/"
        },
        "id": "bP6C4qqq5Ur1",
        "outputId": "d332b342-0259-4b70-a751-a5ab5666d04b"
      },
      "execution_count": 21,
      "outputs": [
        {
          "output_type": "stream",
          "name": "stdout",
          "text": [
            "{'name': 'ajay', 'course': 'DA', 'fee': 2900}\n"
          ]
        }
      ]
    },
    {
      "cell_type": "code",
      "source": [
        "with open (\"test_bin.bin\",\"wb\") as f : ## not that usefull\n",
        "  f.write(\"\")"
      ],
      "metadata": {
        "colab": {
          "base_uri": "https://localhost:8080/",
          "height": 162
        },
        "id": "0KE8_txa5sNE",
        "outputId": "a2f0e183-5d8e-4b5d-8eb2-fc48a5c34cb6"
      },
      "execution_count": 22,
      "outputs": [
        {
          "output_type": "error",
          "ename": "TypeError",
          "evalue": "a bytes-like object is required, not 'str'",
          "traceback": [
            "\u001b[0;31m---------------------------------------------------------------------------\u001b[0m",
            "\u001b[0;31mTypeError\u001b[0m                                 Traceback (most recent call last)",
            "\u001b[0;32m<ipython-input-22-9a91776ff1e1>\u001b[0m in \u001b[0;36m<cell line: 0>\u001b[0;34m()\u001b[0m\n\u001b[1;32m      1\u001b[0m \u001b[0;32mwith\u001b[0m \u001b[0mopen\u001b[0m \u001b[0;34m(\u001b[0m\u001b[0;34m\"test_bin.bin\"\u001b[0m\u001b[0;34m,\u001b[0m\u001b[0;34m\"wb\"\u001b[0m\u001b[0;34m)\u001b[0m \u001b[0;32mas\u001b[0m \u001b[0mf\u001b[0m \u001b[0;34m:\u001b[0m \u001b[0;31m## not that usefull\u001b[0m\u001b[0;34m\u001b[0m\u001b[0;34m\u001b[0m\u001b[0m\n\u001b[0;32m----> 2\u001b[0;31m   \u001b[0mf\u001b[0m\u001b[0;34m.\u001b[0m\u001b[0mwrite\u001b[0m\u001b[0;34m(\u001b[0m\u001b[0;34m\"\"\u001b[0m\u001b[0;34m)\u001b[0m\u001b[0;34m\u001b[0m\u001b[0;34m\u001b[0m\u001b[0m\n\u001b[0m",
            "\u001b[0;31mTypeError\u001b[0m: a bytes-like object is required, not 'str'"
          ]
        }
      ]
    },
    {
      "cell_type": "code",
      "source": [
        "with open(\"test_bin.bin\",\"rb\") as f :\n",
        "  print(f.read())"
      ],
      "metadata": {
        "colab": {
          "base_uri": "https://localhost:8080/"
        },
        "id": "K_rCqJh77hxw",
        "outputId": "9665e272-6bce-4e65-e756-f5bd10256dfb"
      },
      "execution_count": 24,
      "outputs": [
        {
          "output_type": "stream",
          "name": "stdout",
          "text": [
            "b''\n"
          ]
        }
      ]
    },
    {
      "cell_type": "code",
      "source": [
        "## bufered reading >> it allows the program to read the data in chunks\n",
        "## buffered writing >>"
      ],
      "metadata": {
        "id": "hphy_Q757va3"
      },
      "execution_count": 25,
      "outputs": []
    },
    {
      "cell_type": "code",
      "source": [
        "import io\n",
        "with open(\"test_buf.txt\",\"wb\") as f :\n",
        "  file = io.BufferedWriter(f)\n",
        "  file.write(b\"bbb\")\n",
        "  file.write(b\"aaa\")\n",
        "  file.write(b\"atul\")\n",
        "  file.flush()"
      ],
      "metadata": {
        "id": "ep-Db-w38Z0K"
      },
      "execution_count": 27,
      "outputs": []
    },
    {
      "cell_type": "code",
      "source": [
        "with open(\"test_buf.txt\",\"rb\") as f :\n",
        "  file = io.BufferedReader(f)\n",
        "  data  = file.read(100) ## 100 bytes\n",
        "  print(data)"
      ],
      "metadata": {
        "colab": {
          "base_uri": "https://localhost:8080/"
        },
        "id": "ITlY5J0g9EkS",
        "outputId": "157173ab-f2ef-44fa-de22-667a89bd2036"
      },
      "execution_count": 28,
      "outputs": [
        {
          "output_type": "stream",
          "name": "stdout",
          "text": [
            "b'bbbaaaatul'\n"
          ]
        }
      ]
    },
    {
      "cell_type": "code",
      "source": [],
      "metadata": {
        "id": "SErNXj_N-PY2"
      },
      "execution_count": null,
      "outputs": []
    }
  ]
}