{
  "nbformat": 4,
  "nbformat_minor": 0,
  "metadata": {
    "colab": {
      "provenance": [],
      "authorship_tag": "ABX9TyOATbYUO5pUSGcTPlYbS8QN",
      "include_colab_link": true
    },
    "kernelspec": {
      "name": "python3",
      "display_name": "Python 3"
    },
    "language_info": {
      "name": "python"
    }
  },
  "cells": [
    {
      "cell_type": "markdown",
      "metadata": {
        "id": "view-in-github",
        "colab_type": "text"
      },
      "source": [
        "<a href=\"https://colab.research.google.com/github/atulpatil2228/pwlectures/blob/main/Logging_and_Debugging1.ipynb\" target=\"_parent\"><img src=\"https://colab.research.google.com/assets/colab-badge.svg\" alt=\"Open In Colab\"/></a>"
      ]
    },
    {
      "cell_type": "code",
      "execution_count": 1,
      "metadata": {
        "id": "_JS5CyUSoXaC"
      },
      "outputs": [],
      "source": [
        "## logging>> keep track of\n",
        "## logging module keep track of events i software run\n",
        "import logging\n",
        "\n",
        "## logging different levels of loggng which helps to categorize based on the severity"
      ]
    },
    {
      "cell_type": "code",
      "source": [
        "logging.basicConfig(filename=\"test.log\",level =logging.INFO)"
      ],
      "metadata": {
        "id": "bl2elD2rocZp"
      },
      "execution_count": 2,
      "outputs": []
    },
    {
      "cell_type": "code",
      "source": [
        "import logging\n",
        "\n",
        "# Reset any previous logging handlers\n",
        "for handler in logging.root.handlers[:]:\n",
        "    logging.root.removeHandler(handler)\n",
        "\n",
        "logging.basicConfig(filename=\"test.log\", level=logging.INFO)\n",
        "logging.info(\"This is a test log message.\")\n"
      ],
      "metadata": {
        "id": "boQ8AeXZoefI"
      },
      "execution_count": 3,
      "outputs": []
    },
    {
      "cell_type": "code",
      "source": [
        "logging.info(\"This is my normal informationn about software run\")\n",
        "logging.error(\"This is the error message\")"
      ],
      "metadata": {
        "id": "-AfSS6Ujo-BP"
      },
      "execution_count": 4,
      "outputs": []
    },
    {
      "cell_type": "code",
      "source": [
        "logging.warning(\"This is my warning\")\n"
      ],
      "metadata": {
        "id": "z3ZCZYRPpTjL"
      },
      "execution_count": 5,
      "outputs": []
    },
    {
      "cell_type": "code",
      "source": [
        "logging.debug(\"This is my msg for debuging\")"
      ],
      "metadata": {
        "id": "1n_8ujMHpYqf"
      },
      "execution_count": 6,
      "outputs": []
    },
    {
      "cell_type": "code",
      "source": [
        "logging.critical(\"This is critical msg\")"
      ],
      "metadata": {
        "id": "iYOJamSlpgqY"
      },
      "execution_count": 7,
      "outputs": []
    },
    {
      "cell_type": "code",
      "source": [
        "logging.shutdown()"
      ],
      "metadata": {
        "id": "TBYngKZkpk_N"
      },
      "execution_count": 8,
      "outputs": []
    },
    {
      "cell_type": "code",
      "source": [],
      "metadata": {
        "id": "cS9R_tdWrZAc"
      },
      "execution_count": null,
      "outputs": []
    },
    {
      "cell_type": "code",
      "source": [
        "1.logging.DEBUG >>  lowest level :debuggng message and varaible\n",
        "2.logging.INFO >> the things are working as expected\n",
        "3.logging.WARNING >> potential issues\n",
        "4.logging.ERROR >> serious problem\n",
        "5.logging.CRITICAL >> termination of program"
      ],
      "metadata": {
        "id": "RZx1F26WprC6"
      },
      "execution_count": null,
      "outputs": []
    },
    {
      "cell_type": "code",
      "source": [
        "logging.basicConfig(filename=\"test_new.log\",level =logging.DEBUG,format = '%(asctime)s')"
      ],
      "metadata": {
        "id": "xNTT25WDrZmi"
      },
      "execution_count": 9,
      "outputs": []
    },
    {
      "cell_type": "code",
      "source": [
        "import logging\n",
        "\n",
        "# Reset any previous logging handlers\n",
        "for handler in logging.root.handlers[:]:\n",
        "    logging.root.removeHandler(handler)\n",
        "\n",
        "logging.basicConfig(filename=\"test_new.log\", level=logging.DEBUG,format = '%(asctime)s %(message)s')\n",
        "\n"
      ],
      "metadata": {
        "id": "DH1xhHtlsyxj"
      },
      "execution_count": 17,
      "outputs": []
    },
    {
      "cell_type": "code",
      "source": [
        "logging.debug(\"This mesage for debug\")\n",
        "logging.info(\"This is my info message\")\n"
      ],
      "metadata": {
        "id": "lrwwTtdwtEG_"
      },
      "execution_count": 18,
      "outputs": []
    },
    {
      "cell_type": "code",
      "source": [
        "logging.warning(\"This is my warning message\")"
      ],
      "metadata": {
        "id": "_TmfryvStSeo"
      },
      "execution_count": 19,
      "outputs": []
    },
    {
      "cell_type": "code",
      "source": [
        "logging.shutdown()"
      ],
      "metadata": {
        "id": "iKZGfXqJtY45"
      },
      "execution_count": 20,
      "outputs": []
    },
    {
      "cell_type": "code",
      "source": [
        "import logging\n",
        "\n",
        "# Reset any previous logging handlers\n",
        "for handler in logging.root.handlers[:]:\n",
        "    logging.root.removeHandler(handler)\n",
        "\n",
        "logging.basicConfig(filename=\"test_new1.log\", level=logging.DEBUG,format = '%(asctime)s %(levelname)s %(message)s')\n",
        "\n"
      ],
      "metadata": {
        "id": "tl0tC3nxtkvp"
      },
      "execution_count": 26,
      "outputs": []
    },
    {
      "cell_type": "code",
      "source": [
        "logging.debug(\"debugging message\")"
      ],
      "metadata": {
        "id": "PAdGheu_uERL"
      },
      "execution_count": 27,
      "outputs": []
    },
    {
      "cell_type": "code",
      "source": [
        "logging.info(\"info message\")"
      ],
      "metadata": {
        "id": "-cZRnX24uLnf"
      },
      "execution_count": 28,
      "outputs": []
    },
    {
      "cell_type": "code",
      "source": [
        "logging.shutdown()"
      ],
      "metadata": {
        "id": "sSHv9zaAuOTC"
      },
      "execution_count": 29,
      "outputs": []
    },
    {
      "cell_type": "code",
      "source": [],
      "metadata": {
        "id": "Wtr_cA2Lw-qr"
      },
      "execution_count": null,
      "outputs": []
    },
    {
      "cell_type": "code",
      "source": [
        "import logging\n",
        "\n",
        "# Reset any previous logging handlers\n",
        "for handler in logging.root.handlers[:]:\n",
        "    logging.root.removeHandler(handler)\n",
        "\n",
        "logging.basicConfig(filename=\"program.log\", level=logging.DEBUG,format = '%(asctime)s %(levelname)s %(message)s')\n",
        "\n"
      ],
      "metadata": {
        "id": "3wz8OBBDuQBG"
      },
      "execution_count": 31,
      "outputs": []
    },
    {
      "cell_type": "code",
      "source": [
        "l = [1,\"hello\",[2,\"world\"],3,[\"python\",4]]\n",
        "\n",
        "## write a program to seprate the int and string in two list seprately"
      ],
      "metadata": {
        "id": "JUtT6QMEw4fG"
      },
      "execution_count": 32,
      "outputs": []
    },
    {
      "cell_type": "code",
      "source": [
        "l1_int = []\n",
        "l1_str = []\n",
        "\n",
        "for i in l :\n",
        "  logging.info(f\"processing each element{i}\")\n",
        "\n",
        "\n",
        "  if type(i)==list:\n",
        "    for j in i:\n",
        "      logging.info(f'processing sublist element:{j}')\n",
        "      if type(j) == int:\n",
        "        l1_int.append(j)\n",
        "  elif type(i) == int :\n",
        "    l1_int.append(i)\n",
        "\n",
        "  else :\n",
        "    l1_str.append(i)\n",
        "\n",
        "logging.info(f\"The final result is :{l1_int},{l1_str}\")\n",
        "logging.shutdown()\n",
        "\n"
      ],
      "metadata": {
        "id": "huQr81SYxWAp"
      },
      "execution_count": 33,
      "outputs": []
    },
    {
      "cell_type": "code",
      "source": [],
      "metadata": {
        "id": "W1iRNMZTyiJG"
      },
      "execution_count": null,
      "outputs": []
    }
  ]
}