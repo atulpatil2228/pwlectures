{
 "cells": [
  {
   "cell_type": "code",
   "execution_count": 1,
   "id": "04648cbb-f931-4fdc-a423-0373c35f7130",
   "metadata": {},
   "outputs": [
    {
     "data": {
      "text/plain": [
       "'Hello'"
      ]
     },
     "execution_count": 1,
     "metadata": {},
     "output_type": "execute_result"
    }
   ],
   "source": [
    "\"Hello\""
   ]
  },
  {
   "cell_type": "markdown",
   "id": "9d5fb34d-de1d-47e2-8c32-c5603df11773",
   "metadata": {},
   "source": [
    "## Measures of central rendency\n"
   ]
  },
  {
   "cell_type": "code",
   "execution_count": 6,
   "id": "8d6492f6-8173-4246-a1f4-fd120b0e2549",
   "metadata": {},
   "outputs": [],
   "source": [
    "## mean / average \n",
    "\n",
    "age = [28,56,35,28,76,89]"
   ]
  },
  {
   "cell_type": "code",
   "execution_count": 8,
   "id": "5f2be515-6774-4841-bb36-8813c23a3a67",
   "metadata": {},
   "outputs": [
    {
     "data": {
      "text/plain": [
       "52.0"
      ]
     },
     "execution_count": 8,
     "metadata": {},
     "output_type": "execute_result"
    }
   ],
   "source": [
    "(28 + 56 + 35 + 28 + 76 + 89)/6"
   ]
  },
  {
   "cell_type": "code",
   "execution_count": 10,
   "id": "b408ce65-0385-4f42-9877-3e0db3848d75",
   "metadata": {},
   "outputs": [],
   "source": [
    "import numpy as np"
   ]
  },
  {
   "cell_type": "code",
   "execution_count": 12,
   "id": "25943544-7320-4858-b562-17907a0066a3",
   "metadata": {},
   "outputs": [
    {
     "data": {
      "text/plain": [
       "52.0"
      ]
     },
     "execution_count": 12,
     "metadata": {},
     "output_type": "execute_result"
    }
   ],
   "source": [
    "np.mean(age)"
   ]
  },
  {
   "cell_type": "code",
   "execution_count": 14,
   "id": "831a1a95-1771-4f54-8231-10ee95c4a88f",
   "metadata": {},
   "outputs": [
    {
     "data": {
      "text/plain": [
       "186.25"
      ]
     },
     "execution_count": 14,
     "metadata": {},
     "output_type": "execute_result"
    }
   ],
   "source": [
    "height =  [160,120,125,340]\n",
    "np.mean(height)"
   ]
  },
  {
   "cell_type": "code",
   "execution_count": 16,
   "id": "f53e4cfd-ac04-4a94-b3e2-fb71785ba88d",
   "metadata": {},
   "outputs": [
    {
     "data": {
      "text/plain": [
       "4.0"
      ]
     },
     "execution_count": 16,
     "metadata": {},
     "output_type": "execute_result"
    }
   ],
   "source": [
    "## Median\n",
    "\n",
    "nos = [4,3,2,7,8]\n",
    "np.median(nos)\n"
   ]
  },
  {
   "cell_type": "code",
   "execution_count": 18,
   "id": "f2bc27cd-98d9-4812-9517-5e2e7373fd18",
   "metadata": {},
   "outputs": [
    {
     "data": {
      "text/plain": [
       "[2, 3, 4, 7, 8]"
      ]
     },
     "execution_count": 18,
     "metadata": {},
     "output_type": "execute_result"
    }
   ],
   "source": [
    "sorted(nos)"
   ]
  },
  {
   "cell_type": "code",
   "execution_count": 20,
   "id": "526b2f63-3b36-4385-8c19-7e0c159e1ad4",
   "metadata": {},
   "outputs": [
    {
     "ename": "AttributeError",
     "evalue": "module 'numpy' has no attribute 'mode'",
     "output_type": "error",
     "traceback": [
      "\u001b[1;31m---------------------------------------------------------------------------\u001b[0m",
      "\u001b[1;31mAttributeError\u001b[0m                            Traceback (most recent call last)",
      "Cell \u001b[1;32mIn[20], line 4\u001b[0m\n\u001b[0;32m      1\u001b[0m \u001b[38;5;66;03m## Mode\u001b[39;00m\n\u001b[0;32m      3\u001b[0m nos \u001b[38;5;241m=\u001b[39m [\u001b[38;5;241m4\u001b[39m,\u001b[38;5;241m3\u001b[39m,\u001b[38;5;241m2\u001b[39m,\u001b[38;5;241m7\u001b[39m,\u001b[38;5;241m8\u001b[39m,\u001b[38;5;241m2\u001b[39m]\n\u001b[1;32m----> 4\u001b[0m np\u001b[38;5;241m.\u001b[39mmode(nos)\n",
      "File \u001b[1;32m~\\anaconda3\\Lib\\site-packages\\numpy\\__init__.py:333\u001b[0m, in \u001b[0;36m__getattr__\u001b[1;34m(attr)\u001b[0m\n\u001b[0;32m    330\u001b[0m     \u001b[38;5;124m\"\u001b[39m\u001b[38;5;124mRemoved in NumPy 1.25.0\u001b[39m\u001b[38;5;124m\"\u001b[39m\n\u001b[0;32m    331\u001b[0m     \u001b[38;5;28;01mraise\u001b[39;00m \u001b[38;5;167;01mRuntimeError\u001b[39;00m(\u001b[38;5;124m\"\u001b[39m\u001b[38;5;124mTester was removed in NumPy 1.25.\u001b[39m\u001b[38;5;124m\"\u001b[39m)\n\u001b[1;32m--> 333\u001b[0m \u001b[38;5;28;01mraise\u001b[39;00m \u001b[38;5;167;01mAttributeError\u001b[39;00m(\u001b[38;5;124m\"\u001b[39m\u001b[38;5;124mmodule \u001b[39m\u001b[38;5;132;01m{!r}\u001b[39;00m\u001b[38;5;124m has no attribute \u001b[39m\u001b[38;5;124m\"\u001b[39m\n\u001b[0;32m    334\u001b[0m                      \u001b[38;5;124m\"\u001b[39m\u001b[38;5;132;01m{!r}\u001b[39;00m\u001b[38;5;124m\"\u001b[39m\u001b[38;5;241m.\u001b[39mformat(\u001b[38;5;18m__name__\u001b[39m, attr))\n",
      "\u001b[1;31mAttributeError\u001b[0m: module 'numpy' has no attribute 'mode'"
     ]
    }
   ],
   "source": [
    "## Mode\n",
    "\n",
    "nos = [4,3,2,7,8,2]\n",
    "np.mode(nos)\n"
   ]
  },
  {
   "cell_type": "code",
   "execution_count": 22,
   "id": "8694cb88-7f9f-412f-9f43-9171f2ef5431",
   "metadata": {},
   "outputs": [],
   "source": [
    "from scipy import stats"
   ]
  },
  {
   "cell_type": "code",
   "execution_count": 24,
   "id": "c7050514-79f8-4971-bf0a-190e37b96e43",
   "metadata": {},
   "outputs": [
    {
     "data": {
      "text/plain": [
       "ModeResult(mode=2, count=2)"
      ]
     },
     "execution_count": 24,
     "metadata": {},
     "output_type": "execute_result"
    }
   ],
   "source": [
    "stats.mode(nos)"
   ]
  },
  {
   "cell_type": "code",
   "execution_count": 26,
   "id": "3ef6c9d1-3720-4ed4-829a-0449f705051e",
   "metadata": {},
   "outputs": [],
   "source": [
    "import statistics"
   ]
  },
  {
   "cell_type": "code",
   "execution_count": 28,
   "id": "d760f73b-e5ba-4a0a-b4de-1f15f4982f24",
   "metadata": {},
   "outputs": [
    {
     "data": {
      "text/plain": [
       "2"
      ]
     },
     "execution_count": 28,
     "metadata": {},
     "output_type": "execute_result"
    }
   ],
   "source": [
    "statistics.mode(nos)"
   ]
  },
  {
   "cell_type": "code",
   "execution_count": 30,
   "id": "4e87be11-1333-4d94-910b-24a11181e858",
   "metadata": {},
   "outputs": [
    {
     "data": {
      "text/plain": [
       "179.0"
      ]
     },
     "execution_count": 30,
     "metadata": {},
     "output_type": "execute_result"
    }
   ],
   "source": [
    "height =  [160,120,125,340,150]\n",
    "\n",
    "np.mean(height)"
   ]
  },
  {
   "cell_type": "code",
   "execution_count": 32,
   "id": "e5bbd508-d27a-4c65-a169-3d8fd1933b7a",
   "metadata": {},
   "outputs": [
    {
     "data": {
      "text/plain": [
       "150.0"
      ]
     },
     "execution_count": 32,
     "metadata": {},
     "output_type": "execute_result"
    }
   ],
   "source": [
    "## outlier affects the mean and median\n",
    "np.median(height)"
   ]
  },
  {
   "cell_type": "code",
   "execution_count": null,
   "id": "47399203-9f62-4cc2-bcd7-9b90de9a5a85",
   "metadata": {},
   "outputs": [],
   "source": []
  }
 ],
 "metadata": {
  "kernelspec": {
   "display_name": "Python (Anaconda)",
   "language": "python",
   "name": "base"
  },
  "language_info": {
   "codemirror_mode": {
    "name": "ipython",
    "version": 3
   },
   "file_extension": ".py",
   "mimetype": "text/x-python",
   "name": "python",
   "nbconvert_exporter": "python",
   "pygments_lexer": "ipython3",
   "version": "3.12.7"
  }
 },
 "nbformat": 4,
 "nbformat_minor": 5
}
