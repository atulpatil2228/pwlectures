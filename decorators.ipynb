{
  "nbformat": 4,
  "nbformat_minor": 0,
  "metadata": {
    "colab": {
      "provenance": [],
      "authorship_tag": "ABX9TyORBKeiQF7+MjuDItkX7e6H",
      "include_colab_link": true
    },
    "kernelspec": {
      "name": "python3",
      "display_name": "Python 3"
    },
    "language_info": {
      "name": "python"
    }
  },
  "cells": [
    {
      "cell_type": "markdown",
      "metadata": {
        "id": "view-in-github",
        "colab_type": "text"
      },
      "source": [
        "<a href=\"https://colab.research.google.com/github/atulpatil2228/pwlectures/blob/main/decorators.ipynb\" target=\"_parent\"><img src=\"https://colab.research.google.com/assets/colab-badge.svg\" alt=\"Open In Colab\"/></a>"
      ]
    },
    {
      "cell_type": "code",
      "execution_count": null,
      "metadata": {
        "id": "RA9eZGLHlhSL"
      },
      "outputs": [],
      "source": [
        "## decorators >> allows to modify existing behaviour of functions or classwithout modifying it"
      ]
    },
    {
      "cell_type": "code",
      "source": [
        "def my_decorator_func():\n",
        "  print(\"The lines  being printed before the compuatatio\")\n",
        "  print(1+11)\n",
        "  print(\"The lines  being printed after the compuatatio\")"
      ],
      "metadata": {
        "id": "tnie4IkVl46U"
      },
      "execution_count": null,
      "outputs": []
    },
    {
      "cell_type": "code",
      "source": [
        "my_decorator_func()"
      ],
      "metadata": {
        "colab": {
          "base_uri": "https://localhost:8080/"
        },
        "id": "319n60z3mWNy",
        "outputId": "725307c3-cc27-4ef9-adee-dce9d4a4b7b0"
      },
      "execution_count": null,
      "outputs": [
        {
          "output_type": "stream",
          "name": "stdout",
          "text": [
            "The lines  being printed before the compuatatio\n",
            "12\n",
            "The lines  being printed after the compuatatio\n"
          ]
        }
      ]
    },
    {
      "cell_type": "code",
      "source": [
        "def my_decorator(func): ## decorator functio that takes another  function another argument\n",
        "  def wrapper():## adds the function before and after calling func\n",
        "    print(\"The lines  being printed before the func\")\n",
        "    func()\n",
        "    print(\"The lines  being printed after the func\")\n",
        "  return wrapper"
      ],
      "metadata": {
        "id": "pevrqsf4mZVH"
      },
      "execution_count": null,
      "outputs": []
    },
    {
      "cell_type": "code",
      "source": [
        "@my_decorator\n",
        "def say_hello():\n",
        "  print('hello')\n",
        "# when say_hello() is called , it is actually calling wrapper () which in tur calls say_hello"
      ],
      "metadata": {
        "id": "GypZ0D90nTzN"
      },
      "execution_count": null,
      "outputs": []
    },
    {
      "cell_type": "code",
      "source": [
        "say_hello()"
      ],
      "metadata": {
        "colab": {
          "base_uri": "https://localhost:8080/"
        },
        "id": "r6rscpb6nkPe",
        "outputId": "49295244-b117-426a-9af8-df3c8b0c47e2"
      },
      "execution_count": null,
      "outputs": [
        {
          "output_type": "stream",
          "name": "stdout",
          "text": [
            "The lines  being printed before the func\n",
            "hello\n",
            "The lines  being printed after the func\n"
          ]
        }
      ]
    },
    {
      "cell_type": "code",
      "source": [
        "import time\n",
        "def timer_decorator(func):\n",
        "  def timer():\n",
        "    start = time.time()\n",
        "    func()\n",
        "    end = time.time()\n",
        "    print(end- start)\n",
        "  return timer"
      ],
      "metadata": {
        "id": "XJsoSt47nn3C"
      },
      "execution_count": null,
      "outputs": []
    },
    {
      "cell_type": "code",
      "source": [
        "@timer_decorator\n",
        "def func_test():\n",
        "  print(1000**2)"
      ],
      "metadata": {
        "id": "iC-3cL5Er0_V"
      },
      "execution_count": null,
      "outputs": []
    },
    {
      "cell_type": "code",
      "source": [
        "func_test()"
      ],
      "metadata": {
        "colab": {
          "base_uri": "https://localhost:8080/"
        },
        "id": "DZPHAP7lsSEP",
        "outputId": "3a51613a-5284-4738-f89e-2a4c39a0337c"
      },
      "execution_count": null,
      "outputs": [
        {
          "output_type": "stream",
          "name": "stdout",
          "text": [
            "1000000\n",
            "5.4836273193359375e-05\n"
          ]
        }
      ]
    },
    {
      "cell_type": "code",
      "source": [
        "class Mydecorator:\n",
        "  def __init__(self,func):\n",
        "    self.func = func\n",
        "\n",
        "  def __call__(self):\n",
        "    print('something is happng before func')\n",
        "    self.func()\n",
        "    print('something is happing after func')"
      ],
      "metadata": {
        "id": "ZQGxaTxgsThg"
      },
      "execution_count": null,
      "outputs": []
    },
    {
      "cell_type": "code",
      "source": [
        "@Mydecorator ## __call__ is a specail method which is invoked whne u call a decorator classinstance\n",
        "def say_hello():\n",
        "  print('hello')"
      ],
      "metadata": {
        "id": "Jk0Z6ZP5tX_H"
      },
      "execution_count": null,
      "outputs": []
    },
    {
      "cell_type": "code",
      "source": [
        "say_hello()"
      ],
      "metadata": {
        "colab": {
          "base_uri": "https://localhost:8080/"
        },
        "id": "eLlz7qNUtrcP",
        "outputId": "fff2692f-c679-4a08-bcff-e0121e94cf80"
      },
      "execution_count": null,
      "outputs": [
        {
          "output_type": "stream",
          "name": "stdout",
          "text": [
            "something is happng before func\n",
            "hello\n",
            "something is happing after func\n"
          ]
        }
      ]
    },
    {
      "cell_type": "code",
      "source": [],
      "metadata": {
        "id": "QKCJEVDUttGV"
      },
      "execution_count": null,
      "outputs": []
    }
  ]
}